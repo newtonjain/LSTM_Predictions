{
 "cells": [
  {
   "cell_type": "markdown",
   "metadata": {
    "_cell_guid": "6fcdcf24-cfee-4c50-b031-db07e9fca09f",
    "_uuid": "b06ac502816f0e04f7b30e248ee2228351839f37"
   },
   "source": [
    "---\n",
    "<u><h1>Bitcoin Price forecasting with LSTM and GRU</h1></u>\n",
    "---\n",
    "---"
   ]
  },
  {
   "cell_type": "markdown",
   "metadata": {
    "_cell_guid": "633e6b60-6a73-4872-84fe-a8d5609690f4",
    "_uuid": "4d752f92c93e81968730924492173a8df65c0d82"
   },
   "source": [
    "Bitcoin is the first decentralized digital currency. This means it is not governed by any central bank or some other authority. This cryptocurrency was created in the 2009 year but it becomes extremely popular in the 2017 year. Some experts call bitcoin \"the currency of the future\" or even lead it as an example of the social revolution. The bitcoin price has increased several times during the 2017 year. At the same time, it is very volatile. Many economic entities are interested in tools for forecasting the bitcoin prices. It is especially important for existing or potential investors and for government structures. The last needs to be ready for significant price movements to prepare consistent economic policy. So, the demand for Bitcoin price prediction mechanism is high.\n",
    "\n",
    "This notebook demonstrates the prediction of the bitcoin price by the neural network model. We are using 2-layers long short term memory (LSTM) as well as Gated Recurrent Unit (GRU) architecture of the Recurrent neural network (RNN). You can read more about these types of NN here:\n",
    "\n",
    "* https://deeplearning4j.org/lstm.html\n",
    "* http://colah.github.io/posts/2015-08-Understanding-LSTMs/\n",
    "* https://arxiv.org/pdf/1412.3555v1.pdf\n",
    "* http://karpathy.github.io/2015/05/21/rnn-effectiveness/\n",
    "\n",
    "The dataset we are using is available here: [Bitcoin Historical Data](https://www.kaggle.com/mczielinski/bitcoin-historical-data/data)\n",
    "\n",
    "The first thing we do is **importing** all the necessary python libraries."
   ]
  },
  {
   "cell_type": "code",
   "execution_count": 5,
   "metadata": {
    "_cell_guid": "bebacf25-09bb-48db-959e-e24e0d597042",
    "_uuid": "275f57000394bcd304aadac3297c68ae4b9438f2"
   },
   "outputs": [
    {
     "data": {
      "text/html": [
       "        <script type=\"text/javascript\">\n",
       "        window.PlotlyConfig = {MathJaxConfig: 'local'};\n",
       "        if (window.MathJax) {MathJax.Hub.Config({SVG: {font: \"STIX-Web\"}});}\n",
       "        if (typeof require !== 'undefined') {\n",
       "        require.undef(\"plotly\");\n",
       "        requirejs.config({\n",
       "            paths: {\n",
       "                'plotly': ['https://cdn.plot.ly/plotly-latest.min']\n",
       "            }\n",
       "        });\n",
       "        require(['plotly'], function(Plotly) {\n",
       "            window._Plotly = Plotly;\n",
       "        });\n",
       "        }\n",
       "        </script>\n",
       "        "
      ]
     },
     "metadata": {},
     "output_type": "display_data"
    }
   ],
   "source": [
    "import warnings\n",
    "warnings.filterwarnings(\"ignore\")\n",
    "\n",
    "import numpy as np\n",
    "import pandas as pd\n",
    "import statsmodels.api as sm\n",
    "from scipy import stats\n",
    "from sklearn.metrics import mean_squared_error\n",
    "from math import sqrt\n",
    "from random import randint\n",
    "from keras.models import Sequential\n",
    "from keras.layers import Dense\n",
    "from keras.layers import LSTM\n",
    "from keras.layers import GRU\n",
    "from keras.callbacks import EarlyStopping\n",
    "from keras import initializers\n",
    "from matplotlib import pyplot\n",
    "from datetime import datetime\n",
    "from matplotlib import pyplot as plt\n",
    "import plotly.offline as py\n",
    "import plotly.graph_objs as go\n",
    "py.init_notebook_mode(connected=True)\n",
    "%matplotlib inline"
   ]
  },
  {
   "cell_type": "markdown",
   "metadata": {
    "_cell_guid": "b429cc14-79ea-4d7b-a712-ee6aab2c6746",
    "_uuid": "a730e42a11f2a2f5f42eb01e0e056fcb6e9cf5dd"
   },
   "source": [
    "Now we **load the dataset** in the memory and testing it for the presence of the null values:"
   ]
  },
  {
   "cell_type": "code",
   "execution_count": 6,
   "metadata": {
    "_cell_guid": "e78285ac-c23e-4862-ba33-3f78c3f01209",
    "_uuid": "ee56fb2e069263d2e69988e9e505271d7962e6ba"
   },
   "outputs": [
    {
     "data": {
      "text/plain": [
       "True"
      ]
     },
     "execution_count": 6,
     "metadata": {},
     "output_type": "execute_result"
    }
   ],
   "source": [
    "data = pd.read_csv('bitstampUSD_1-min_data_2012-01-01_to_2021-03-31.csv')\n",
    "data.isnull().values.any()"
   ]
  },
  {
   "cell_type": "markdown",
   "metadata": {
    "_cell_guid": "7f4dfa83-0ed9-42ee-865d-0112a168b1b8",
    "_uuid": "9aef2e2ea28556c94e65a644a5502baa602b1f48"
   },
   "source": [
    "We can see that there are not null values. Now we want to preview the head of the dataset to know the structure of the data:"
   ]
  },
  {
   "cell_type": "code",
   "execution_count": 7,
   "metadata": {
    "_cell_guid": "692083c4-1992-4f26-a0be-be414b377fa2",
    "_uuid": "906e9ec3fa31cf4834bd518713cb8b8d42d8d57d"
   },
   "outputs": [
    {
     "data": {
      "text/html": [
       "<div>\n",
       "<style scoped>\n",
       "    .dataframe tbody tr th:only-of-type {\n",
       "        vertical-align: middle;\n",
       "    }\n",
       "\n",
       "    .dataframe tbody tr th {\n",
       "        vertical-align: top;\n",
       "    }\n",
       "\n",
       "    .dataframe thead th {\n",
       "        text-align: right;\n",
       "    }\n",
       "</style>\n",
       "<table border=\"1\" class=\"dataframe\">\n",
       "  <thead>\n",
       "    <tr style=\"text-align: right;\">\n",
       "      <th></th>\n",
       "      <th>Timestamp</th>\n",
       "      <th>Open</th>\n",
       "      <th>High</th>\n",
       "      <th>Low</th>\n",
       "      <th>Close</th>\n",
       "      <th>Volume_(BTC)</th>\n",
       "      <th>Volume_(Currency)</th>\n",
       "      <th>Weighted_Price</th>\n",
       "    </tr>\n",
       "  </thead>\n",
       "  <tbody>\n",
       "    <tr>\n",
       "      <th>0</th>\n",
       "      <td>1325317920</td>\n",
       "      <td>4.39</td>\n",
       "      <td>4.39</td>\n",
       "      <td>4.39</td>\n",
       "      <td>4.39</td>\n",
       "      <td>0.455581</td>\n",
       "      <td>2.0</td>\n",
       "      <td>4.39</td>\n",
       "    </tr>\n",
       "    <tr>\n",
       "      <th>1</th>\n",
       "      <td>1325317980</td>\n",
       "      <td>NaN</td>\n",
       "      <td>NaN</td>\n",
       "      <td>NaN</td>\n",
       "      <td>NaN</td>\n",
       "      <td>NaN</td>\n",
       "      <td>NaN</td>\n",
       "      <td>NaN</td>\n",
       "    </tr>\n",
       "    <tr>\n",
       "      <th>2</th>\n",
       "      <td>1325318040</td>\n",
       "      <td>NaN</td>\n",
       "      <td>NaN</td>\n",
       "      <td>NaN</td>\n",
       "      <td>NaN</td>\n",
       "      <td>NaN</td>\n",
       "      <td>NaN</td>\n",
       "      <td>NaN</td>\n",
       "    </tr>\n",
       "    <tr>\n",
       "      <th>3</th>\n",
       "      <td>1325318100</td>\n",
       "      <td>NaN</td>\n",
       "      <td>NaN</td>\n",
       "      <td>NaN</td>\n",
       "      <td>NaN</td>\n",
       "      <td>NaN</td>\n",
       "      <td>NaN</td>\n",
       "      <td>NaN</td>\n",
       "    </tr>\n",
       "    <tr>\n",
       "      <th>4</th>\n",
       "      <td>1325318160</td>\n",
       "      <td>NaN</td>\n",
       "      <td>NaN</td>\n",
       "      <td>NaN</td>\n",
       "      <td>NaN</td>\n",
       "      <td>NaN</td>\n",
       "      <td>NaN</td>\n",
       "      <td>NaN</td>\n",
       "    </tr>\n",
       "    <tr>\n",
       "      <th>5</th>\n",
       "      <td>1325318220</td>\n",
       "      <td>NaN</td>\n",
       "      <td>NaN</td>\n",
       "      <td>NaN</td>\n",
       "      <td>NaN</td>\n",
       "      <td>NaN</td>\n",
       "      <td>NaN</td>\n",
       "      <td>NaN</td>\n",
       "    </tr>\n",
       "    <tr>\n",
       "      <th>6</th>\n",
       "      <td>1325318280</td>\n",
       "      <td>NaN</td>\n",
       "      <td>NaN</td>\n",
       "      <td>NaN</td>\n",
       "      <td>NaN</td>\n",
       "      <td>NaN</td>\n",
       "      <td>NaN</td>\n",
       "      <td>NaN</td>\n",
       "    </tr>\n",
       "    <tr>\n",
       "      <th>7</th>\n",
       "      <td>1325318340</td>\n",
       "      <td>NaN</td>\n",
       "      <td>NaN</td>\n",
       "      <td>NaN</td>\n",
       "      <td>NaN</td>\n",
       "      <td>NaN</td>\n",
       "      <td>NaN</td>\n",
       "      <td>NaN</td>\n",
       "    </tr>\n",
       "    <tr>\n",
       "      <th>8</th>\n",
       "      <td>1325318400</td>\n",
       "      <td>NaN</td>\n",
       "      <td>NaN</td>\n",
       "      <td>NaN</td>\n",
       "      <td>NaN</td>\n",
       "      <td>NaN</td>\n",
       "      <td>NaN</td>\n",
       "      <td>NaN</td>\n",
       "    </tr>\n",
       "    <tr>\n",
       "      <th>9</th>\n",
       "      <td>1325318460</td>\n",
       "      <td>NaN</td>\n",
       "      <td>NaN</td>\n",
       "      <td>NaN</td>\n",
       "      <td>NaN</td>\n",
       "      <td>NaN</td>\n",
       "      <td>NaN</td>\n",
       "      <td>NaN</td>\n",
       "    </tr>\n",
       "  </tbody>\n",
       "</table>\n",
       "</div>"
      ],
      "text/plain": [
       "    Timestamp  Open  High   Low  Close  Volume_(BTC)  Volume_(Currency)  \\\n",
       "0  1325317920  4.39  4.39  4.39   4.39      0.455581                2.0   \n",
       "1  1325317980   NaN   NaN   NaN    NaN           NaN                NaN   \n",
       "2  1325318040   NaN   NaN   NaN    NaN           NaN                NaN   \n",
       "3  1325318100   NaN   NaN   NaN    NaN           NaN                NaN   \n",
       "4  1325318160   NaN   NaN   NaN    NaN           NaN                NaN   \n",
       "5  1325318220   NaN   NaN   NaN    NaN           NaN                NaN   \n",
       "6  1325318280   NaN   NaN   NaN    NaN           NaN                NaN   \n",
       "7  1325318340   NaN   NaN   NaN    NaN           NaN                NaN   \n",
       "8  1325318400   NaN   NaN   NaN    NaN           NaN                NaN   \n",
       "9  1325318460   NaN   NaN   NaN    NaN           NaN                NaN   \n",
       "\n",
       "   Weighted_Price  \n",
       "0            4.39  \n",
       "1             NaN  \n",
       "2             NaN  \n",
       "3             NaN  \n",
       "4             NaN  \n",
       "5             NaN  \n",
       "6             NaN  \n",
       "7             NaN  \n",
       "8             NaN  \n",
       "9             NaN  "
      ]
     },
     "execution_count": 7,
     "metadata": {},
     "output_type": "execute_result"
    }
   ],
   "source": [
    "data.head(10)"
   ]
  },
  {
   "cell_type": "markdown",
   "metadata": {
    "_cell_guid": "443a79eb-3327-4b72-b491-975d5f40ca65",
    "_uuid": "dc16d401a088cd40fc4b69433afce913ce8d4f59"
   },
   "source": [
    "We want to **transform the data** to get the average price grouped by the day and to see usual datetime format (not a timestamp as above)."
   ]
  },
  {
   "cell_type": "code",
   "execution_count": 8,
   "metadata": {
    "_cell_guid": "b17c4a36-78ca-4401-b1a4-366232e30c48",
    "_uuid": "81683953a2083169f9a5c48317a8219650e0805c"
   },
   "outputs": [
    {
     "data": {
      "text/plain": [
       "date\n",
       "2011-12-31    4.471603\n",
       "2012-01-01    4.806667\n",
       "2012-01-02    5.000000\n",
       "2012-01-03    5.252500\n",
       "2012-01-04    5.208159\n",
       "Name: Weighted_Price, dtype: float64"
      ]
     },
     "execution_count": 8,
     "metadata": {},
     "output_type": "execute_result"
    }
   ],
   "source": [
    "data['date'] = pd.to_datetime(data['Timestamp'],unit='s').dt.date\n",
    "group = data.groupby('date')\n",
    "Daily_Price = group['Weighted_Price'].mean()\n",
    "\n",
    "Daily_Price.head()"
   ]
  },
  {
   "cell_type": "code",
   "execution_count": 9,
   "metadata": {
    "_cell_guid": "0f744f90-3990-41f3-8acc-6a2de6f41a55",
    "_uuid": "18fbecfb11e4c703c849104f9bfdd204d6cfa92c"
   },
   "outputs": [
    {
     "data": {
      "text/plain": [
       "date\n",
       "2021-03-27    55193.357260\n",
       "2021-03-28    55832.958824\n",
       "2021-03-29    56913.993819\n",
       "2021-03-30    58346.912268\n",
       "2021-03-31    58764.349363\n",
       "Name: Weighted_Price, dtype: float64"
      ]
     },
     "execution_count": 9,
     "metadata": {},
     "output_type": "execute_result"
    }
   ],
   "source": [
    "Daily_Price.tail()"
   ]
  },
  {
   "cell_type": "markdown",
   "metadata": {
    "_cell_guid": "624771f3-2ed4-4acc-9d49-b3f321af6b1a",
    "_uuid": "44c2f15458482dcd8aa45df13eb28194387714c5"
   },
   "source": [
    "We need to **split our dataset** because we want to train and test the model only on some chunk of the data. So, in the next cell, we are counting the necessary parameters for splitting (number of days between some dates). We want to train our model on the data from January 1, 2016 until August 21, 2017 and to test the model on the data from August 21, 2017 until October 20, 2017."
   ]
  },
  {
   "cell_type": "code",
   "execution_count": 10,
   "metadata": {
    "_cell_guid": "67035c16-42c6-4f46-9c8c-406365cf8906",
    "_uuid": "d5b105c489dbff9ef2ba0d1eacfaed90b980488e"
   },
   "outputs": [
    {
     "name": "stdout",
     "output_type": "stream",
     "text": [
      "654\n",
      "61\n",
      "6\n"
     ]
    }
   ],
   "source": [
    "from datetime import date\n",
    "d0 = date(2016, 1, 1)\n",
    "d1 = date(2017, 10, 15)\n",
    "delta = d1 - d0\n",
    "days_look = delta.days + 1\n",
    "print(days_look)\n",
    "\n",
    "d0 = date(2017, 8, 21)\n",
    "d1 = date(2017, 10, 20)\n",
    "delta = d1 - d0\n",
    "days_from_train = delta.days + 1\n",
    "print(days_from_train)\n",
    "\n",
    "d0 = date(2017, 10, 15)\n",
    "d1 = date(2017, 10, 20)\n",
    "delta = d1 - d0\n",
    "days_from_end = delta.days + 1\n",
    "print(days_from_end)"
   ]
  },
  {
   "cell_type": "markdown",
   "metadata": {
    "_cell_guid": "72fdd52a-5612-4fc5-b859-fe3b00d4f629",
    "_uuid": "70ad4eae5a4439512296fdf3ccdef03bca1b43ca"
   },
   "source": [
    "Now we are splitting our data into the train and test set:"
   ]
  },
  {
   "cell_type": "code",
   "execution_count": 11,
   "metadata": {
    "_cell_guid": "45f7400b-950e-40e8-aa4f-95652cb4d5c6",
    "_uuid": "9c463ebfdb3856de059a10a17518bce260457f4c"
   },
   "outputs": [
    {
     "name": "stdout",
     "output_type": "stream",
     "text": [
      "599 61\n"
     ]
    }
   ],
   "source": [
    "df_train= Daily_Price[len(Daily_Price)-days_look-days_from_end:len(Daily_Price)-days_from_train]\n",
    "df_test= Daily_Price[len(Daily_Price)-days_from_train:]\n",
    "\n",
    "print(len(df_train), len(df_test))"
   ]
  },
  {
   "cell_type": "markdown",
   "metadata": {
    "_cell_guid": "2333b0f8-b5a5-40a1-974c-65b0e3e65ba6",
    "_uuid": "2e5109c323c820b619a9fe32b7b62551c14a4fd0"
   },
   "source": [
    "# Exploratory Data Analysis\n",
    "\n",
    "We want to estimate some parameters of our data because this can be useful in the further model designing. \n",
    "The first important thing when forecasting time series is to **check if the data is stationary**. This means that our data is influenced by such factors as trend or seasonality. \n",
    "\n",
    "In the next cell, we concatenate train and test data to make analysis and transformations simultaneously."
   ]
  },
  {
   "cell_type": "code",
   "execution_count": 12,
   "metadata": {
    "_cell_guid": "69ed706e-30e4-468b-b59d-015f01fc9588",
    "_uuid": "1a955cc3ad5420393569fed28fc8c240f3f1a56d"
   },
   "outputs": [],
   "source": [
    "working_data = [df_train, df_test]\n",
    "working_data = pd.concat(working_data)\n",
    "\n",
    "working_data = working_data.reset_index()\n",
    "working_data['date'] = pd.to_datetime(working_data['date'])\n",
    "working_data = working_data.set_index('date')"
   ]
  },
  {
   "cell_type": "markdown",
   "metadata": {
    "_cell_guid": "fcc4bd4e-3887-4780-b989-35892e836998",
    "_uuid": "cb51e299cbbeecf65eb45dbdaa7801b4beb07405"
   },
   "source": [
    "In the next couple of cells, we perform seasonal decomposition of the data to estimate its trend and seasonality. You can see actual price movements on the plot below (\"observed\") as well as the trend and seasonality in our data. "
   ]
  },
  {
   "cell_type": "code",
   "execution_count": 13,
   "metadata": {
    "_cell_guid": "3329159a-05a1-4d3d-ba0c-70ea16739bec",
    "_uuid": "5b48e5c15ad389d7f0821eb1b6a86584091a172d"
   },
   "outputs": [],
   "source": [
    "s = sm.tsa.seasonal_decompose(working_data.Weighted_Price.values, freq=60)"
   ]
  },
  {
   "cell_type": "code",
   "execution_count": 14,
   "metadata": {
    "_cell_guid": "ed7763d4-7677-41f2-91d4-71a2124def45",
    "_uuid": "b2eae438265ab1b409090e228c7a110cec6b29d6",
    "scrolled": true
   },
   "outputs": [
    {
     "data": {
      "application/vnd.plotly.v1+json": {
       "config": {
        "linkText": "Export to plot.ly",
        "plotlyServerURL": "https://plot.ly",
        "showLink": false
       },
       "data": [
        {
         "line": {
          "color": "rgb(244, 146, 65)",
          "width": 4
         },
         "mode": "lines",
         "name": "Trend",
         "type": "scatter",
         "x": [
          0,
          1,
          2,
          3,
          4,
          5,
          6,
          7,
          8,
          9,
          10,
          11,
          12,
          13,
          14,
          15,
          16,
          17,
          18,
          19,
          20,
          21,
          22,
          23,
          24,
          25,
          26,
          27,
          28,
          29,
          30,
          31,
          32,
          33,
          34,
          35,
          36,
          37,
          38,
          39,
          40,
          41,
          42,
          43,
          44,
          45,
          46,
          47,
          48,
          49,
          50,
          51,
          52,
          53,
          54,
          55,
          56,
          57,
          58,
          59,
          60,
          61,
          62,
          63,
          64,
          65,
          66,
          67,
          68,
          69,
          70,
          71,
          72,
          73,
          74,
          75,
          76,
          77,
          78,
          79,
          80,
          81,
          82,
          83,
          84,
          85,
          86,
          87,
          88,
          89,
          90,
          91,
          92,
          93,
          94,
          95,
          96,
          97,
          98,
          99,
          100,
          101,
          102,
          103,
          104,
          105,
          106,
          107,
          108,
          109,
          110,
          111,
          112,
          113,
          114,
          115,
          116,
          117,
          118,
          119,
          120,
          121,
          122,
          123,
          124,
          125,
          126,
          127,
          128,
          129,
          130,
          131,
          132,
          133,
          134,
          135,
          136,
          137,
          138,
          139,
          140,
          141,
          142,
          143,
          144,
          145,
          146,
          147,
          148,
          149,
          150,
          151,
          152,
          153,
          154,
          155,
          156,
          157,
          158,
          159,
          160,
          161,
          162,
          163,
          164,
          165,
          166,
          167,
          168,
          169,
          170,
          171,
          172,
          173,
          174,
          175,
          176,
          177,
          178,
          179,
          180,
          181,
          182,
          183,
          184,
          185,
          186,
          187,
          188,
          189,
          190,
          191,
          192,
          193,
          194,
          195,
          196,
          197,
          198,
          199,
          200,
          201,
          202,
          203,
          204,
          205,
          206,
          207,
          208,
          209,
          210,
          211,
          212,
          213,
          214,
          215,
          216,
          217,
          218,
          219,
          220,
          221,
          222,
          223,
          224,
          225,
          226,
          227,
          228,
          229,
          230,
          231,
          232,
          233,
          234,
          235,
          236,
          237,
          238,
          239,
          240,
          241,
          242,
          243,
          244,
          245,
          246,
          247,
          248,
          249,
          250,
          251,
          252,
          253,
          254,
          255,
          256,
          257,
          258,
          259,
          260,
          261,
          262,
          263,
          264,
          265,
          266,
          267,
          268,
          269,
          270,
          271,
          272,
          273,
          274,
          275,
          276,
          277,
          278,
          279,
          280,
          281,
          282,
          283,
          284,
          285,
          286,
          287,
          288,
          289,
          290,
          291,
          292,
          293,
          294,
          295,
          296,
          297,
          298,
          299,
          300,
          301,
          302,
          303,
          304,
          305,
          306,
          307,
          308,
          309,
          310,
          311,
          312,
          313,
          314,
          315,
          316,
          317,
          318,
          319,
          320,
          321,
          322,
          323,
          324,
          325,
          326,
          327,
          328,
          329,
          330,
          331,
          332,
          333,
          334,
          335,
          336,
          337,
          338,
          339,
          340,
          341,
          342,
          343,
          344,
          345,
          346,
          347,
          348,
          349,
          350,
          351,
          352,
          353,
          354,
          355,
          356,
          357,
          358,
          359,
          360,
          361,
          362,
          363,
          364,
          365,
          366,
          367,
          368,
          369,
          370,
          371,
          372,
          373,
          374,
          375,
          376,
          377,
          378,
          379,
          380,
          381,
          382,
          383,
          384,
          385,
          386,
          387,
          388,
          389,
          390,
          391,
          392,
          393,
          394,
          395,
          396,
          397,
          398,
          399,
          400,
          401,
          402,
          403,
          404,
          405,
          406,
          407,
          408,
          409,
          410,
          411,
          412,
          413,
          414,
          415,
          416,
          417,
          418,
          419,
          420,
          421,
          422,
          423,
          424,
          425,
          426,
          427,
          428,
          429,
          430,
          431,
          432,
          433,
          434,
          435,
          436,
          437,
          438,
          439,
          440,
          441,
          442,
          443,
          444,
          445,
          446,
          447,
          448,
          449,
          450,
          451,
          452,
          453,
          454,
          455,
          456,
          457,
          458,
          459,
          460,
          461,
          462,
          463,
          464,
          465,
          466,
          467,
          468,
          469,
          470,
          471,
          472,
          473,
          474,
          475,
          476,
          477,
          478,
          479,
          480,
          481,
          482,
          483,
          484,
          485,
          486,
          487,
          488,
          489,
          490,
          491,
          492,
          493,
          494,
          495,
          496,
          497,
          498,
          499,
          500,
          501,
          502,
          503,
          504,
          505,
          506,
          507,
          508,
          509,
          510,
          511,
          512,
          513,
          514,
          515,
          516,
          517,
          518,
          519,
          520,
          521,
          522,
          523,
          524,
          525,
          526,
          527,
          528,
          529,
          530,
          531,
          532,
          533,
          534,
          535,
          536,
          537,
          538,
          539,
          540,
          541,
          542,
          543,
          544,
          545,
          546,
          547,
          548,
          549,
          550,
          551,
          552,
          553,
          554,
          555,
          556,
          557,
          558,
          559,
          560,
          561,
          562,
          563,
          564,
          565,
          566,
          567,
          568,
          569,
          570,
          571,
          572,
          573,
          574,
          575,
          576,
          577,
          578,
          579,
          580,
          581,
          582,
          583,
          584,
          585,
          586,
          587,
          588,
          589,
          590,
          591,
          592,
          593,
          594,
          595,
          596,
          597,
          598,
          599,
          600,
          601,
          602,
          603,
          604,
          605,
          606,
          607,
          608,
          609,
          610,
          611,
          612,
          613,
          614,
          615,
          616,
          617,
          618,
          619,
          620,
          621,
          622,
          623,
          624,
          625,
          626,
          627,
          628,
          629,
          630,
          631,
          632,
          633,
          634,
          635,
          636,
          637,
          638,
          639,
          640,
          641,
          642,
          643,
          644,
          645,
          646,
          647,
          648,
          649,
          650,
          651,
          652,
          653,
          654,
          655,
          656,
          657,
          658,
          659
         ],
         "y": [
          null,
          null,
          null,
          null,
          null,
          null,
          null,
          null,
          null,
          null,
          null,
          null,
          null,
          null,
          null,
          null,
          null,
          null,
          null,
          null,
          null,
          null,
          null,
          null,
          null,
          null,
          null,
          null,
          null,
          null,
          10559.593730450304,
          10618.124266317984,
          10672.852338798893,
          10722.935145301308,
          10760.395770001409,
          10782.285691360383,
          10798.207922701144,
          10816.030358790209,
          10835.099897335791,
          10855.15736248191,
          10873.599537950007,
          10877.099512507253,
          10866.838867285256,
          10856.140744621258,
          10841.611964544252,
          10810.751958847046,
          10777.403548152719,
          10752.696185113266,
          10725.047282549393,
          10693.08707734954,
          10666.61291532306,
          10651.079557764902,
          10630.838305815494,
          10601.448984767956,
          10581.23672101441,
          10568.995343530076,
          10555.67598509671,
          10540.00183640569,
          10513.143747521093,
          10477.5043295125,
          10448.584875556298,
          10426.534699929409,
          10403.795332672089,
          10387.109755929918,
          10380.959787810973,
          10380.005869817698,
          10386.05152918451,
          10393.86519050236,
          10393.387541164771,
          10387.211343464553,
          10378.266183899112,
          10371.067328990981,
          10368.49830333395,
          10370.530591001483,
          10371.670919700018,
          10367.57971247622,
          10353.989987236017,
          10333.05115069366,
          10310.271608223173,
          10286.256496532304,
          10259.877726475983,
          10228.242050288054,
          10193.865217543214,
          10155.198290369703,
          10112.671376292039,
          10061.796656274142,
          10001.974953987974,
          9940.467867186195,
          9878.035729069037,
          9816.616154795343,
          9759.534675819514,
          9709.055943639209,
          9660.60782560496,
          9612.276034456228,
          9571.579290695008,
          9540.055054716186,
          9509.47753757217,
          9474.491486709345,
          9437.062337729556,
          9396.125198137628,
          9350.747433134216,
          9309.360847949047,
          9276.046814027677,
          9243.647281423886,
          9206.28875683404,
          9164.04297848745,
          9121.411998423433,
          9093.746735819794,
          9081.379606297127,
          9075.780150815364,
          9074.164789000208,
          9069.568057740395,
          9062.448479832587,
          9052.033170723795,
          9035.05792821484,
          9013.4974255897,
          8991.383489899112,
          8969.521236546145,
          8949.47769660968,
          8930.20606117136,
          8908.992726857265,
          8886.2223174651,
          8864.74671040821,
          8843.131375956367,
          8818.055238952722,
          8791.586137440521,
          8764.46127241077,
          8736.345106569062,
          8707.514732673577,
          8678.951944940594,
          8651.522229724944,
          8620.942864316517,
          8587.620716567924,
          8553.69287149181,
          8514.799856859468,
          8475.496385037779,
          8446.466063094058,
          8424.861656006027,
          8406.628731176841,
          8391.58719356437,
          8379.43370877861,
          8370.99762503442,
          8361.254941919711,
          8347.81500718242,
          8332.484654018088,
          8317.792194277976,
          8303.969280005527,
          8291.61637163845,
          8280.891882416645,
          8269.953925060245,
          8257.286990360093,
          8241.095087846945,
          8222.776463005504,
          8204.262091659984,
          8185.015118570696,
          8166.1178734703335,
          8147.940995746503,
          8130.652527999207,
          8114.1960506809955,
          8096.090755011552,
          8076.408239717807,
          8059.230753743596,
          8043.033573657657,
          8025.343345108162,
          8012.346787720136,
          8008.560023779709,
          8004.1416085606415,
          7981.708317684524,
          7945.875510388727,
          7908.568077913695,
          7872.155149643725,
          7839.385949307507,
          7808.366668859467,
          7776.443830140802,
          7742.767365320817,
          7707.514463357352,
          7672.645028211347,
          7638.801263667406,
          7606.069309156325,
          7575.991172589972,
          7553.054869680028,
          7539.522596173732,
          7526.413090760704,
          7510.556335341372,
          7497.842069270871,
          7487.36581449207,
          7477.457601836905,
          7473.142661849778,
          7475.714688266436,
          7479.331863211601,
          7484.617817569663,
          7495.03645108799,
          7507.745135055753,
          7520.62867804058,
          7538.142677566184,
          7560.872376736836,
          7583.478752674031,
          7606.070409507251,
          7627.754278916671,
          7647.40957117798,
          7667.237399106925,
          7689.162160514985,
          7715.052795607298,
          7745.843215735744,
          7779.595910033794,
          7813.647041192398,
          7848.2595146572885,
          7882.43878019569,
          7914.099128937382,
          7944.668449085684,
          7978.537454053314,
          8016.117670520166,
          8056.35370573703,
          8101.208408102222,
          8148.043279527358,
          8193.717638577224,
          8242.973305049249,
          8296.10988127836,
          8349.65758246987,
          8404.515154162127,
          8458.589197590909,
          8506.151879694891,
          8550.051054543927,
          8597.101538693974,
          8641.3057875794,
          8679.13719078582,
          8717.051675027918,
          8758.912393493398,
          8802.022239310923,
          8842.122613470234,
          8875.729998377716,
          8902.273663962234,
          8926.032978823127,
          8950.097626013889,
          8973.835559663938,
          8999.139820666733,
          9026.209627554907,
          9051.313598290546,
          9076.5551760944,
          9102.838995080658,
          9125.240893453782,
          9137.392225733762,
          9140.04036858891,
          9140.403883693767,
          9138.709745363,
          9124.474306349235,
          9089.028021931646,
          9039.251904836821,
          8984.190775521274,
          8924.757395524435,
          8864.52100691141,
          8804.972846699047,
          8749.23372417847,
          8704.521519771144,
          8664.851256225302,
          8623.096209219253,
          8582.56968114384,
          8548.738274986303,
          8520.492559763645,
          8492.010922952275,
          8460.428483529013,
          8420.05117035681,
          8369.717978268949,
          8317.027711690875,
          8267.134889156177,
          8217.513714959761,
          8169.8754613789115,
          8126.807583318941,
          8085.59806766807,
          8043.630955369204,
          8000.266800042578,
          7958.134614932147,
          7916.724629715313,
          7872.671202456208,
          7824.960116012169,
          7774.659277967603,
          7720.685807893431,
          7662.98120232134,
          7605.383294911967,
          7549.36314412798,
          7496.563884360466,
          7449.567608650853,
          7405.057991622452,
          7358.188301698477,
          7312.658176586863,
          7268.038338000753,
          7222.397464979282,
          7178.891853083338,
          7139.059741943963,
          7104.403724339788,
          7076.279292207475,
          7055.364087385686,
          7038.2989409158945,
          7026.564622531302,
          7025.702844049035,
          7028.820496239178,
          7029.818304545968,
          7032.330348728302,
          7032.093366904871,
          7028.6393126067,
          7028.165567528956,
          7036.772214086862,
          7061.477947481207,
          7093.322489775863,
          7115.126617903873,
          7139.105153427513,
          7185.104950834717,
          7244.4029498874725,
          7310.336906151988,
          7383.7936950810135,
          7455.697423567958,
          7525.960774862141,
          7595.1141938384335,
          7655.662206728324,
          7712.417776565194,
          7767.824728747397,
          7819.206950208325,
          7865.634232035601,
          7907.380009276333,
          7945.7501848600705,
          7981.707265142429,
          8023.120900010049,
          8073.278660887886,
          8126.58366756963,
          8178.545746455323,
          8230.993847091784,
          8281.818975691642,
          8331.206763956347,
          8379.909305211064,
          8427.261856915073,
          8473.54171283419,
          8514.948065992157,
          8553.570189716027,
          8593.039738206853,
          8636.044035459345,
          8683.188412373216,
          8729.882880066209,
          8774.428089148258,
          8817.776651252434,
          8860.665699202551,
          8901.783679781965,
          8941.379179722198,
          8980.632707283838,
          9018.366185471408,
          9055.994096888957,
          9095.248014508263,
          9135.051841404811,
          9172.721995699752,
          9208.51332320321,
          9241.91983947596,
          9271.252254193718,
          9297.02174300539,
          9320.68775095138,
          9338.902891594435,
          9347.506076707512,
          9352.406325822329,
          9358.10661578555,
          9362.306965812284,
          9366.535694722008,
          9370.553289523503,
          9371.041879729348,
          9367.889595939389,
          9360.127229047894,
          9351.494466433714,
          9353.658558720594,
          9363.107919642545,
          9371.093384036458,
          9376.660862356577,
          9375.86864734465,
          9370.84985551348,
          9366.802322476282,
          9361.14810563394,
          9352.120191338649,
          9342.99477047185,
          9334.460645566225,
          9329.314106737318,
          9330.004862998558,
          9332.878150510769,
          9337.731133790421,
          9347.398504249015,
          9359.882479550108,
          9372.917839161608,
          9388.904985507757,
          9410.948259422152,
          9436.948293560616,
          9462.581240895885,
          9488.39620627587,
          9516.2367078211,
          9545.501432790623,
          9573.308846310167,
          9598.779811789267,
          9626.529758823248,
          9659.578987767623,
          9693.981412526893,
          9727.007942028402,
          9759.140191151202,
          9793.669983673988,
          9831.013340703821,
          9866.496130235528,
          9901.367430892242,
          9940.18915910961,
          9980.973385251296,
          10020.902268017915,
          10063.053728101362,
          10108.786085895921,
          10153.234154860016,
          10194.461450957911,
          10233.740292668124,
          10268.604988858404,
          10302.836588196871,
          10341.908585862579,
          10382.147723321596,
          10420.6912552439,
          10458.931819836032,
          10497.404184495641,
          10536.429978617507,
          10576.209026762359,
          10617.343566251815,
          10661.507876084645,
          10705.385083907291,
          10742.564167206725,
          10768.83196617034,
          10786.94951918913,
          10802.400050850738,
          10816.46034554078,
          10831.278920431752,
          10847.074436512514,
          10864.068611545728,
          10881.690491232783,
          10899.839164320589,
          10919.216874518583,
          10940.494226395798,
          10965.663381186596,
          10993.763383244359,
          11022.685597109325,
          11051.730847781204,
          11080.499137043184,
          11107.615902097532,
          11129.993187709388,
          11147.047091571429,
          11161.383969281107,
          11173.239516054358,
          11180.310049044305,
          11180.033754475826,
          11174.637160767565,
          11170.190525152648,
          11165.01151395953,
          11153.878365633282,
          11141.816549733148,
          11130.940282906477,
          11119.10256217713,
          11106.151947526992,
          11090.230803598668,
          11073.004879277492,
          11055.662449098994,
          11038.982354712849,
          11023.53052747601,
          11013.406575915935,
          11010.061643772755,
          11008.340363018462,
          11004.934766625562,
          10998.46291131966,
          10990.903311719054,
          10981.510074525748,
          10968.90888662682,
          10958.965492687772,
          10954.09203302489,
          10953.167895150642,
          10961.50355049003,
          10979.914165342407,
          11000.828595202704,
          11023.519790391547,
          11049.975127123722,
          11078.080567220231,
          11108.470031505874,
          11140.65891376524,
          11171.150839580958,
          11200.08639365432,
          11230.20550645483,
          11264.014593923588,
          11303.60978778392,
          11351.771237019218,
          11408.883851073828,
          11476.886903538132,
          11559.817156831603,
          11648.314069914004,
          11733.403857418163,
          11817.211962841198,
          11901.100224228414,
          11986.470861528374,
          12076.093125825557,
          12170.372270513933,
          12262.327110670763,
          12348.629517280217,
          12436.801905124938,
          12533.787656164286,
          12642.366133094098,
          12757.352861786143,
          12878.91090197386,
          13011.435224243285,
          13146.822164935764,
          13280.188248089715,
          13415.124748976197,
          13552.884212833742,
          13677.991848071835,
          13784.51092041647,
          13890.277042152893,
          14005.552060312517,
          14133.952451090478,
          14274.73665153859,
          14417.569796568396,
          14559.913983458313,
          14702.362663980279,
          14841.655036319962,
          14981.845309594024,
          15123.416574309738,
          15260.277107384518,
          15384.36064021169,
          15499.976039801408,
          15611.911688405984,
          15724.507722941758,
          15847.252127848706,
          15976.033916624881,
          16107.150886347996,
          16246.49872636434,
          16412.547413116725,
          16599.9575643815,
          16790.0622830845,
          16978.819556362767,
          17157.666807154907,
          17328.42103638835,
          17500.628333495468,
          17672.82339930832,
          17848.75432013474,
          18039.15188034631,
          18251.633457480442,
          18478.568648932418,
          18702.474425929442,
          18932.79347696295,
          19178.749920164726,
          19435.446669191282,
          19709.08450978998,
          20015.017829650085,
          20320.795457129923,
          20602.59511500945,
          20904.695578796138,
          21258.253244879867,
          21652.341134654263,
          22064.789298132982,
          22474.80319976446,
          22828.826476603852,
          23136.31516039146,
          23446.26512537202,
          23789.24030086334,
          24152.644376765296,
          24493.105535960116,
          24805.817572862474,
          25105.561655207275,
          25411.608473285316,
          25702.974200822184,
          25960.959642006997,
          26193.707314855506,
          26417.889920621186,
          26640.04002961463,
          26882.80119613441,
          27140.898707420904,
          27381.286053540796,
          27611.615999552974,
          27861.119786352374,
          28118.844623757854,
          28362.89641921174,
          28603.901726319033,
          28854.02857221164,
          29130.41877754984,
          29430.180568322034,
          29737.075987408407,
          30064.603573771758,
          30408.92374332331,
          30770.087176309207,
          31200.425549474236,
          31667.709657543044,
          32121.760558407004,
          32585.104306752608,
          33054.79871353769,
          33525.165514994194,
          33973.2349668968,
          34399.95261455575,
          34845.89903622649,
          35311.33168590849,
          35795.69261695299,
          36320.67487035906,
          36876.37066815565,
          37418.02980106629,
          37888.375647990186,
          38300.755777468024,
          38696.3809491234,
          39051.662181576175,
          39386.254677495854,
          39695.724786703955,
          39991.0349964153,
          40308.43896662928,
          40633.442999023755,
          40930.13389365685,
          41195.07063105626,
          41461.40376642096,
          41723.16772517631,
          41956.86879319626,
          42181.07006205756,
          42424.013726025245,
          42686.72468935653,
          43012.51443495483,
          43400.11278029059,
          43814.64795941294,
          44187.82419196406,
          44495.07964741974,
          44804.964978986594,
          45156.100113117944,
          45531.58951633548,
          45899.574799313974,
          46266.91413214584,
          46650.23027550334,
          47039.233661917446,
          47419.354573813645,
          47774.927848970015,
          48106.46589945754,
          48465.49996499108,
          48864.49725879133,
          49279.527665764515,
          49682.990614358205,
          50083.04129102667,
          null,
          null,
          null,
          null,
          null,
          null,
          null,
          null,
          null,
          null,
          null,
          null,
          null,
          null,
          null,
          null,
          null,
          null,
          null,
          null,
          null,
          null,
          null,
          null,
          null,
          null,
          null,
          null,
          null,
          null
         ]
        },
        {
         "line": {
          "color": "rgb(66, 244, 155)",
          "width": 2
         },
         "mode": "lines",
         "name": "Seasonal",
         "type": "scatter",
         "x": [
          0,
          1,
          2,
          3,
          4,
          5,
          6,
          7,
          8,
          9,
          10,
          11,
          12,
          13,
          14,
          15,
          16,
          17,
          18,
          19,
          20,
          21,
          22,
          23,
          24,
          25,
          26,
          27,
          28,
          29,
          30,
          31,
          32,
          33,
          34,
          35,
          36,
          37,
          38,
          39,
          40,
          41,
          42,
          43,
          44,
          45,
          46,
          47,
          48,
          49,
          50,
          51,
          52,
          53,
          54,
          55,
          56,
          57,
          58,
          59,
          60,
          61,
          62,
          63,
          64,
          65,
          66,
          67,
          68,
          69,
          70,
          71,
          72,
          73,
          74,
          75,
          76,
          77,
          78,
          79,
          80,
          81,
          82,
          83,
          84,
          85,
          86,
          87,
          88,
          89,
          90,
          91,
          92,
          93,
          94,
          95,
          96,
          97,
          98,
          99,
          100,
          101,
          102,
          103,
          104,
          105,
          106,
          107,
          108,
          109,
          110,
          111,
          112,
          113,
          114,
          115,
          116,
          117,
          118,
          119,
          120,
          121,
          122,
          123,
          124,
          125,
          126,
          127,
          128,
          129,
          130,
          131,
          132,
          133,
          134,
          135,
          136,
          137,
          138,
          139,
          140,
          141,
          142,
          143,
          144,
          145,
          146,
          147,
          148,
          149,
          150,
          151,
          152,
          153,
          154,
          155,
          156,
          157,
          158,
          159,
          160,
          161,
          162,
          163,
          164,
          165,
          166,
          167,
          168,
          169,
          170,
          171,
          172,
          173,
          174,
          175,
          176,
          177,
          178,
          179,
          180,
          181,
          182,
          183,
          184,
          185,
          186,
          187,
          188,
          189,
          190,
          191,
          192,
          193,
          194,
          195,
          196,
          197,
          198,
          199,
          200,
          201,
          202,
          203,
          204,
          205,
          206,
          207,
          208,
          209,
          210,
          211,
          212,
          213,
          214,
          215,
          216,
          217,
          218,
          219,
          220,
          221,
          222,
          223,
          224,
          225,
          226,
          227,
          228,
          229,
          230,
          231,
          232,
          233,
          234,
          235,
          236,
          237,
          238,
          239,
          240,
          241,
          242,
          243,
          244,
          245,
          246,
          247,
          248,
          249,
          250,
          251,
          252,
          253,
          254,
          255,
          256,
          257,
          258,
          259,
          260,
          261,
          262,
          263,
          264,
          265,
          266,
          267,
          268,
          269,
          270,
          271,
          272,
          273,
          274,
          275,
          276,
          277,
          278,
          279,
          280,
          281,
          282,
          283,
          284,
          285,
          286,
          287,
          288,
          289,
          290,
          291,
          292,
          293,
          294,
          295,
          296,
          297,
          298,
          299,
          300,
          301,
          302,
          303,
          304,
          305,
          306,
          307,
          308,
          309,
          310,
          311,
          312,
          313,
          314,
          315,
          316,
          317,
          318,
          319,
          320,
          321,
          322,
          323,
          324,
          325,
          326,
          327,
          328,
          329,
          330,
          331,
          332,
          333,
          334,
          335,
          336,
          337,
          338,
          339,
          340,
          341,
          342,
          343,
          344,
          345,
          346,
          347,
          348,
          349,
          350,
          351,
          352,
          353,
          354,
          355,
          356,
          357,
          358,
          359,
          360,
          361,
          362,
          363,
          364,
          365,
          366,
          367,
          368,
          369,
          370,
          371,
          372,
          373,
          374,
          375,
          376,
          377,
          378,
          379,
          380,
          381,
          382,
          383,
          384,
          385,
          386,
          387,
          388,
          389,
          390,
          391,
          392,
          393,
          394,
          395,
          396,
          397,
          398,
          399,
          400,
          401,
          402,
          403,
          404,
          405,
          406,
          407,
          408,
          409,
          410,
          411,
          412,
          413,
          414,
          415,
          416,
          417,
          418,
          419,
          420,
          421,
          422,
          423,
          424,
          425,
          426,
          427,
          428,
          429,
          430,
          431,
          432,
          433,
          434,
          435,
          436,
          437,
          438,
          439,
          440,
          441,
          442,
          443,
          444,
          445,
          446,
          447,
          448,
          449,
          450,
          451,
          452,
          453,
          454,
          455,
          456,
          457,
          458,
          459,
          460,
          461,
          462,
          463,
          464,
          465,
          466,
          467,
          468,
          469,
          470,
          471,
          472,
          473,
          474,
          475,
          476,
          477,
          478,
          479,
          480,
          481,
          482,
          483,
          484,
          485,
          486,
          487,
          488,
          489,
          490,
          491,
          492,
          493,
          494,
          495,
          496,
          497,
          498,
          499,
          500,
          501,
          502,
          503,
          504,
          505,
          506,
          507,
          508,
          509,
          510,
          511,
          512,
          513,
          514,
          515,
          516,
          517,
          518,
          519,
          520,
          521,
          522,
          523,
          524,
          525,
          526,
          527,
          528,
          529,
          530,
          531,
          532,
          533,
          534,
          535,
          536,
          537,
          538,
          539,
          540,
          541,
          542,
          543,
          544,
          545,
          546,
          547,
          548,
          549,
          550,
          551,
          552,
          553,
          554,
          555,
          556,
          557,
          558,
          559,
          560,
          561,
          562,
          563,
          564,
          565,
          566,
          567,
          568,
          569,
          570,
          571,
          572,
          573,
          574,
          575,
          576,
          577,
          578,
          579,
          580,
          581,
          582,
          583,
          584,
          585,
          586,
          587,
          588,
          589,
          590,
          591,
          592,
          593,
          594,
          595,
          596,
          597,
          598,
          599,
          600,
          601,
          602,
          603,
          604,
          605,
          606,
          607,
          608,
          609,
          610,
          611,
          612,
          613,
          614,
          615,
          616,
          617,
          618,
          619,
          620,
          621,
          622,
          623,
          624,
          625,
          626,
          627,
          628,
          629,
          630,
          631,
          632,
          633,
          634,
          635,
          636,
          637,
          638,
          639,
          640,
          641,
          642,
          643,
          644,
          645,
          646,
          647,
          648,
          649,
          650,
          651,
          652,
          653,
          654,
          655,
          656,
          657,
          658,
          659
         ],
         "y": [
          -536.4620532812067,
          -494.1057471759426,
          -464.67680221961814,
          -361.55289850925124,
          -444.84959661307414,
          -526.8283874811601,
          -310.59505680686857,
          -620.8362688185907,
          -453.700376309557,
          -21.20357253141411,
          -129.0038152147109,
          -78.439162789513,
          -3.052009939819442,
          -41.06145184225488,
          -25.187581262786352,
          33.285014075018985,
          157.91410678491656,
          533.6444943111675,
          637.3564082295334,
          604.606718480462,
          781.9705147564753,
          786.8596963432973,
          421.26340688711775,
          -83.36018318385797,
          222.13973812548764,
          357.72950932402796,
          -21.29710311861291,
          -25.8955047904211,
          -152.8547496533982,
          126.4731755549381,
          419.63919018266654,
          466.29434422326085,
          633.4855106913599,
          444.81307600068794,
          386.75647042288347,
          445.27601313220543,
          485.2449004329824,
          758.8487067351482,
          850.510081065163,
          732.8543590445105,
          156.6736719863703,
          195.13337647781609,
          118.48003965445386,
          418.7322381974757,
          241.66327359565574,
          74.94567250460149,
          -155.2719817779971,
          -192.45408977338067,
          -146.08188703971874,
          -361.4884581878566,
          -594.3493171743354,
          -721.1554718276685,
          -505.2283705453905,
          -481.6448096117457,
          -569.1812478729709,
          -730.3471854028727,
          -796.9215910438103,
          -659.1234971028271,
          -350.8744308220788,
          -433.5090474949719,
          -536.4620532812067,
          -494.1057471759426,
          -464.67680221961814,
          -361.55289850925124,
          -444.84959661307414,
          -526.8283874811601,
          -310.59505680686857,
          -620.8362688185907,
          -453.700376309557,
          -21.20357253141411,
          -129.0038152147109,
          -78.439162789513,
          -3.052009939819442,
          -41.06145184225488,
          -25.187581262786352,
          33.285014075018985,
          157.91410678491656,
          533.6444943111675,
          637.3564082295334,
          604.606718480462,
          781.9705147564753,
          786.8596963432973,
          421.26340688711775,
          -83.36018318385797,
          222.13973812548764,
          357.72950932402796,
          -21.29710311861291,
          -25.8955047904211,
          -152.8547496533982,
          126.4731755549381,
          419.63919018266654,
          466.29434422326085,
          633.4855106913599,
          444.81307600068794,
          386.75647042288347,
          445.27601313220543,
          485.2449004329824,
          758.8487067351482,
          850.510081065163,
          732.8543590445105,
          156.6736719863703,
          195.13337647781609,
          118.48003965445386,
          418.7322381974757,
          241.66327359565574,
          74.94567250460149,
          -155.2719817779971,
          -192.45408977338067,
          -146.08188703971874,
          -361.4884581878566,
          -594.3493171743354,
          -721.1554718276685,
          -505.2283705453905,
          -481.6448096117457,
          -569.1812478729709,
          -730.3471854028727,
          -796.9215910438103,
          -659.1234971028271,
          -350.8744308220788,
          -433.5090474949719,
          -536.4620532812067,
          -494.1057471759426,
          -464.67680221961814,
          -361.55289850925124,
          -444.84959661307414,
          -526.8283874811601,
          -310.59505680686857,
          -620.8362688185907,
          -453.700376309557,
          -21.20357253141411,
          -129.0038152147109,
          -78.439162789513,
          -3.052009939819442,
          -41.06145184225488,
          -25.187581262786352,
          33.285014075018985,
          157.91410678491656,
          533.6444943111675,
          637.3564082295334,
          604.606718480462,
          781.9705147564753,
          786.8596963432973,
          421.26340688711775,
          -83.36018318385797,
          222.13973812548764,
          357.72950932402796,
          -21.29710311861291,
          -25.8955047904211,
          -152.8547496533982,
          126.4731755549381,
          419.63919018266654,
          466.29434422326085,
          633.4855106913599,
          444.81307600068794,
          386.75647042288347,
          445.27601313220543,
          485.2449004329824,
          758.8487067351482,
          850.510081065163,
          732.8543590445105,
          156.6736719863703,
          195.13337647781609,
          118.48003965445386,
          418.7322381974757,
          241.66327359565574,
          74.94567250460149,
          -155.2719817779971,
          -192.45408977338067,
          -146.08188703971874,
          -361.4884581878566,
          -594.3493171743354,
          -721.1554718276685,
          -505.2283705453905,
          -481.6448096117457,
          -569.1812478729709,
          -730.3471854028727,
          -796.9215910438103,
          -659.1234971028271,
          -350.8744308220788,
          -433.5090474949719,
          -536.4620532812067,
          -494.1057471759426,
          -464.67680221961814,
          -361.55289850925124,
          -444.84959661307414,
          -526.8283874811601,
          -310.59505680686857,
          -620.8362688185907,
          -453.700376309557,
          -21.20357253141411,
          -129.0038152147109,
          -78.439162789513,
          -3.052009939819442,
          -41.06145184225488,
          -25.187581262786352,
          33.285014075018985,
          157.91410678491656,
          533.6444943111675,
          637.3564082295334,
          604.606718480462,
          781.9705147564753,
          786.8596963432973,
          421.26340688711775,
          -83.36018318385797,
          222.13973812548764,
          357.72950932402796,
          -21.29710311861291,
          -25.8955047904211,
          -152.8547496533982,
          126.4731755549381,
          419.63919018266654,
          466.29434422326085,
          633.4855106913599,
          444.81307600068794,
          386.75647042288347,
          445.27601313220543,
          485.2449004329824,
          758.8487067351482,
          850.510081065163,
          732.8543590445105,
          156.6736719863703,
          195.13337647781609,
          118.48003965445386,
          418.7322381974757,
          241.66327359565574,
          74.94567250460149,
          -155.2719817779971,
          -192.45408977338067,
          -146.08188703971874,
          -361.4884581878566,
          -594.3493171743354,
          -721.1554718276685,
          -505.2283705453905,
          -481.6448096117457,
          -569.1812478729709,
          -730.3471854028727,
          -796.9215910438103,
          -659.1234971028271,
          -350.8744308220788,
          -433.5090474949719,
          -536.4620532812067,
          -494.1057471759426,
          -464.67680221961814,
          -361.55289850925124,
          -444.84959661307414,
          -526.8283874811601,
          -310.59505680686857,
          -620.8362688185907,
          -453.700376309557,
          -21.20357253141411,
          -129.0038152147109,
          -78.439162789513,
          -3.052009939819442,
          -41.06145184225488,
          -25.187581262786352,
          33.285014075018985,
          157.91410678491656,
          533.6444943111675,
          637.3564082295334,
          604.606718480462,
          781.9705147564753,
          786.8596963432973,
          421.26340688711775,
          -83.36018318385797,
          222.13973812548764,
          357.72950932402796,
          -21.29710311861291,
          -25.8955047904211,
          -152.8547496533982,
          126.4731755549381,
          419.63919018266654,
          466.29434422326085,
          633.4855106913599,
          444.81307600068794,
          386.75647042288347,
          445.27601313220543,
          485.2449004329824,
          758.8487067351482,
          850.510081065163,
          732.8543590445105,
          156.6736719863703,
          195.13337647781609,
          118.48003965445386,
          418.7322381974757,
          241.66327359565574,
          74.94567250460149,
          -155.2719817779971,
          -192.45408977338067,
          -146.08188703971874,
          -361.4884581878566,
          -594.3493171743354,
          -721.1554718276685,
          -505.2283705453905,
          -481.6448096117457,
          -569.1812478729709,
          -730.3471854028727,
          -796.9215910438103,
          -659.1234971028271,
          -350.8744308220788,
          -433.5090474949719,
          -536.4620532812067,
          -494.1057471759426,
          -464.67680221961814,
          -361.55289850925124,
          -444.84959661307414,
          -526.8283874811601,
          -310.59505680686857,
          -620.8362688185907,
          -453.700376309557,
          -21.20357253141411,
          -129.0038152147109,
          -78.439162789513,
          -3.052009939819442,
          -41.06145184225488,
          -25.187581262786352,
          33.285014075018985,
          157.91410678491656,
          533.6444943111675,
          637.3564082295334,
          604.606718480462,
          781.9705147564753,
          786.8596963432973,
          421.26340688711775,
          -83.36018318385797,
          222.13973812548764,
          357.72950932402796,
          -21.29710311861291,
          -25.8955047904211,
          -152.8547496533982,
          126.4731755549381,
          419.63919018266654,
          466.29434422326085,
          633.4855106913599,
          444.81307600068794,
          386.75647042288347,
          445.27601313220543,
          485.2449004329824,
          758.8487067351482,
          850.510081065163,
          732.8543590445105,
          156.6736719863703,
          195.13337647781609,
          118.48003965445386,
          418.7322381974757,
          241.66327359565574,
          74.94567250460149,
          -155.2719817779971,
          -192.45408977338067,
          -146.08188703971874,
          -361.4884581878566,
          -594.3493171743354,
          -721.1554718276685,
          -505.2283705453905,
          -481.6448096117457,
          -569.1812478729709,
          -730.3471854028727,
          -796.9215910438103,
          -659.1234971028271,
          -350.8744308220788,
          -433.5090474949719,
          -536.4620532812067,
          -494.1057471759426,
          -464.67680221961814,
          -361.55289850925124,
          -444.84959661307414,
          -526.8283874811601,
          -310.59505680686857,
          -620.8362688185907,
          -453.700376309557,
          -21.20357253141411,
          -129.0038152147109,
          -78.439162789513,
          -3.052009939819442,
          -41.06145184225488,
          -25.187581262786352,
          33.285014075018985,
          157.91410678491656,
          533.6444943111675,
          637.3564082295334,
          604.606718480462,
          781.9705147564753,
          786.8596963432973,
          421.26340688711775,
          -83.36018318385797,
          222.13973812548764,
          357.72950932402796,
          -21.29710311861291,
          -25.8955047904211,
          -152.8547496533982,
          126.4731755549381,
          419.63919018266654,
          466.29434422326085,
          633.4855106913599,
          444.81307600068794,
          386.75647042288347,
          445.27601313220543,
          485.2449004329824,
          758.8487067351482,
          850.510081065163,
          732.8543590445105,
          156.6736719863703,
          195.13337647781609,
          118.48003965445386,
          418.7322381974757,
          241.66327359565574,
          74.94567250460149,
          -155.2719817779971,
          -192.45408977338067,
          -146.08188703971874,
          -361.4884581878566,
          -594.3493171743354,
          -721.1554718276685,
          -505.2283705453905,
          -481.6448096117457,
          -569.1812478729709,
          -730.3471854028727,
          -796.9215910438103,
          -659.1234971028271,
          -350.8744308220788,
          -433.5090474949719,
          -536.4620532812067,
          -494.1057471759426,
          -464.67680221961814,
          -361.55289850925124,
          -444.84959661307414,
          -526.8283874811601,
          -310.59505680686857,
          -620.8362688185907,
          -453.700376309557,
          -21.20357253141411,
          -129.0038152147109,
          -78.439162789513,
          -3.052009939819442,
          -41.06145184225488,
          -25.187581262786352,
          33.285014075018985,
          157.91410678491656,
          533.6444943111675,
          637.3564082295334,
          604.606718480462,
          781.9705147564753,
          786.8596963432973,
          421.26340688711775,
          -83.36018318385797,
          222.13973812548764,
          357.72950932402796,
          -21.29710311861291,
          -25.8955047904211,
          -152.8547496533982,
          126.4731755549381,
          419.63919018266654,
          466.29434422326085,
          633.4855106913599,
          444.81307600068794,
          386.75647042288347,
          445.27601313220543,
          485.2449004329824,
          758.8487067351482,
          850.510081065163,
          732.8543590445105,
          156.6736719863703,
          195.13337647781609,
          118.48003965445386,
          418.7322381974757,
          241.66327359565574,
          74.94567250460149,
          -155.2719817779971,
          -192.45408977338067,
          -146.08188703971874,
          -361.4884581878566,
          -594.3493171743354,
          -721.1554718276685,
          -505.2283705453905,
          -481.6448096117457,
          -569.1812478729709,
          -730.3471854028727,
          -796.9215910438103,
          -659.1234971028271,
          -350.8744308220788,
          -433.5090474949719,
          -536.4620532812067,
          -494.1057471759426,
          -464.67680221961814,
          -361.55289850925124,
          -444.84959661307414,
          -526.8283874811601,
          -310.59505680686857,
          -620.8362688185907,
          -453.700376309557,
          -21.20357253141411,
          -129.0038152147109,
          -78.439162789513,
          -3.052009939819442,
          -41.06145184225488,
          -25.187581262786352,
          33.285014075018985,
          157.91410678491656,
          533.6444943111675,
          637.3564082295334,
          604.606718480462,
          781.9705147564753,
          786.8596963432973,
          421.26340688711775,
          -83.36018318385797,
          222.13973812548764,
          357.72950932402796,
          -21.29710311861291,
          -25.8955047904211,
          -152.8547496533982,
          126.4731755549381,
          419.63919018266654,
          466.29434422326085,
          633.4855106913599,
          444.81307600068794,
          386.75647042288347,
          445.27601313220543,
          485.2449004329824,
          758.8487067351482,
          850.510081065163,
          732.8543590445105,
          156.6736719863703,
          195.13337647781609,
          118.48003965445386,
          418.7322381974757,
          241.66327359565574,
          74.94567250460149,
          -155.2719817779971,
          -192.45408977338067,
          -146.08188703971874,
          -361.4884581878566,
          -594.3493171743354,
          -721.1554718276685,
          -505.2283705453905,
          -481.6448096117457,
          -569.1812478729709,
          -730.3471854028727,
          -796.9215910438103,
          -659.1234971028271,
          -350.8744308220788,
          -433.5090474949719,
          -536.4620532812067,
          -494.1057471759426,
          -464.67680221961814,
          -361.55289850925124,
          -444.84959661307414,
          -526.8283874811601,
          -310.59505680686857,
          -620.8362688185907,
          -453.700376309557,
          -21.20357253141411,
          -129.0038152147109,
          -78.439162789513,
          -3.052009939819442,
          -41.06145184225488,
          -25.187581262786352,
          33.285014075018985,
          157.91410678491656,
          533.6444943111675,
          637.3564082295334,
          604.606718480462,
          781.9705147564753,
          786.8596963432973,
          421.26340688711775,
          -83.36018318385797,
          222.13973812548764,
          357.72950932402796,
          -21.29710311861291,
          -25.8955047904211,
          -152.8547496533982,
          126.4731755549381,
          419.63919018266654,
          466.29434422326085,
          633.4855106913599,
          444.81307600068794,
          386.75647042288347,
          445.27601313220543,
          485.2449004329824,
          758.8487067351482,
          850.510081065163,
          732.8543590445105,
          156.6736719863703,
          195.13337647781609,
          118.48003965445386,
          418.7322381974757,
          241.66327359565574,
          74.94567250460149,
          -155.2719817779971,
          -192.45408977338067,
          -146.08188703971874,
          -361.4884581878566,
          -594.3493171743354,
          -721.1554718276685,
          -505.2283705453905,
          -481.6448096117457,
          -569.1812478729709,
          -730.3471854028727,
          -796.9215910438103,
          -659.1234971028271,
          -350.8744308220788,
          -433.5090474949719,
          -536.4620532812067,
          -494.1057471759426,
          -464.67680221961814,
          -361.55289850925124,
          -444.84959661307414,
          -526.8283874811601,
          -310.59505680686857,
          -620.8362688185907,
          -453.700376309557,
          -21.20357253141411,
          -129.0038152147109,
          -78.439162789513,
          -3.052009939819442,
          -41.06145184225488,
          -25.187581262786352,
          33.285014075018985,
          157.91410678491656,
          533.6444943111675,
          637.3564082295334,
          604.606718480462,
          781.9705147564753,
          786.8596963432973,
          421.26340688711775,
          -83.36018318385797,
          222.13973812548764,
          357.72950932402796,
          -21.29710311861291,
          -25.8955047904211,
          -152.8547496533982,
          126.4731755549381,
          419.63919018266654,
          466.29434422326085,
          633.4855106913599,
          444.81307600068794,
          386.75647042288347,
          445.27601313220543,
          485.2449004329824,
          758.8487067351482,
          850.510081065163,
          732.8543590445105,
          156.6736719863703,
          195.13337647781609,
          118.48003965445386,
          418.7322381974757,
          241.66327359565574,
          74.94567250460149,
          -155.2719817779971,
          -192.45408977338067,
          -146.08188703971874,
          -361.4884581878566,
          -594.3493171743354,
          -721.1554718276685,
          -505.2283705453905,
          -481.6448096117457,
          -569.1812478729709,
          -730.3471854028727,
          -796.9215910438103,
          -659.1234971028271,
          -350.8744308220788,
          -433.5090474949719
         ]
        },
        {
         "line": {
          "color": "rgb(209, 244, 66)",
          "width": 2
         },
         "mode": "lines",
         "name": "Residual",
         "type": "scatter",
         "x": [
          0,
          1,
          2,
          3,
          4,
          5,
          6,
          7,
          8,
          9,
          10,
          11,
          12,
          13,
          14,
          15,
          16,
          17,
          18,
          19,
          20,
          21,
          22,
          23,
          24,
          25,
          26,
          27,
          28,
          29,
          30,
          31,
          32,
          33,
          34,
          35,
          36,
          37,
          38,
          39,
          40,
          41,
          42,
          43,
          44,
          45,
          46,
          47,
          48,
          49,
          50,
          51,
          52,
          53,
          54,
          55,
          56,
          57,
          58,
          59,
          60,
          61,
          62,
          63,
          64,
          65,
          66,
          67,
          68,
          69,
          70,
          71,
          72,
          73,
          74,
          75,
          76,
          77,
          78,
          79,
          80,
          81,
          82,
          83,
          84,
          85,
          86,
          87,
          88,
          89,
          90,
          91,
          92,
          93,
          94,
          95,
          96,
          97,
          98,
          99,
          100,
          101,
          102,
          103,
          104,
          105,
          106,
          107,
          108,
          109,
          110,
          111,
          112,
          113,
          114,
          115,
          116,
          117,
          118,
          119,
          120,
          121,
          122,
          123,
          124,
          125,
          126,
          127,
          128,
          129,
          130,
          131,
          132,
          133,
          134,
          135,
          136,
          137,
          138,
          139,
          140,
          141,
          142,
          143,
          144,
          145,
          146,
          147,
          148,
          149,
          150,
          151,
          152,
          153,
          154,
          155,
          156,
          157,
          158,
          159,
          160,
          161,
          162,
          163,
          164,
          165,
          166,
          167,
          168,
          169,
          170,
          171,
          172,
          173,
          174,
          175,
          176,
          177,
          178,
          179,
          180,
          181,
          182,
          183,
          184,
          185,
          186,
          187,
          188,
          189,
          190,
          191,
          192,
          193,
          194,
          195,
          196,
          197,
          198,
          199,
          200,
          201,
          202,
          203,
          204,
          205,
          206,
          207,
          208,
          209,
          210,
          211,
          212,
          213,
          214,
          215,
          216,
          217,
          218,
          219,
          220,
          221,
          222,
          223,
          224,
          225,
          226,
          227,
          228,
          229,
          230,
          231,
          232,
          233,
          234,
          235,
          236,
          237,
          238,
          239,
          240,
          241,
          242,
          243,
          244,
          245,
          246,
          247,
          248,
          249,
          250,
          251,
          252,
          253,
          254,
          255,
          256,
          257,
          258,
          259,
          260,
          261,
          262,
          263,
          264,
          265,
          266,
          267,
          268,
          269,
          270,
          271,
          272,
          273,
          274,
          275,
          276,
          277,
          278,
          279,
          280,
          281,
          282,
          283,
          284,
          285,
          286,
          287,
          288,
          289,
          290,
          291,
          292,
          293,
          294,
          295,
          296,
          297,
          298,
          299,
          300,
          301,
          302,
          303,
          304,
          305,
          306,
          307,
          308,
          309,
          310,
          311,
          312,
          313,
          314,
          315,
          316,
          317,
          318,
          319,
          320,
          321,
          322,
          323,
          324,
          325,
          326,
          327,
          328,
          329,
          330,
          331,
          332,
          333,
          334,
          335,
          336,
          337,
          338,
          339,
          340,
          341,
          342,
          343,
          344,
          345,
          346,
          347,
          348,
          349,
          350,
          351,
          352,
          353,
          354,
          355,
          356,
          357,
          358,
          359,
          360,
          361,
          362,
          363,
          364,
          365,
          366,
          367,
          368,
          369,
          370,
          371,
          372,
          373,
          374,
          375,
          376,
          377,
          378,
          379,
          380,
          381,
          382,
          383,
          384,
          385,
          386,
          387,
          388,
          389,
          390,
          391,
          392,
          393,
          394,
          395,
          396,
          397,
          398,
          399,
          400,
          401,
          402,
          403,
          404,
          405,
          406,
          407,
          408,
          409,
          410,
          411,
          412,
          413,
          414,
          415,
          416,
          417,
          418,
          419,
          420,
          421,
          422,
          423,
          424,
          425,
          426,
          427,
          428,
          429,
          430,
          431,
          432,
          433,
          434,
          435,
          436,
          437,
          438,
          439,
          440,
          441,
          442,
          443,
          444,
          445,
          446,
          447,
          448,
          449,
          450,
          451,
          452,
          453,
          454,
          455,
          456,
          457,
          458,
          459,
          460,
          461,
          462,
          463,
          464,
          465,
          466,
          467,
          468,
          469,
          470,
          471,
          472,
          473,
          474,
          475,
          476,
          477,
          478,
          479,
          480,
          481,
          482,
          483,
          484,
          485,
          486,
          487,
          488,
          489,
          490,
          491,
          492,
          493,
          494,
          495,
          496,
          497,
          498,
          499,
          500,
          501,
          502,
          503,
          504,
          505,
          506,
          507,
          508,
          509,
          510,
          511,
          512,
          513,
          514,
          515,
          516,
          517,
          518,
          519,
          520,
          521,
          522,
          523,
          524,
          525,
          526,
          527,
          528,
          529,
          530,
          531,
          532,
          533,
          534,
          535,
          536,
          537,
          538,
          539,
          540,
          541,
          542,
          543,
          544,
          545,
          546,
          547,
          548,
          549,
          550,
          551,
          552,
          553,
          554,
          555,
          556,
          557,
          558,
          559,
          560,
          561,
          562,
          563,
          564,
          565,
          566,
          567,
          568,
          569,
          570,
          571,
          572,
          573,
          574,
          575,
          576,
          577,
          578,
          579,
          580,
          581,
          582,
          583,
          584,
          585,
          586,
          587,
          588,
          589,
          590,
          591,
          592,
          593,
          594,
          595,
          596,
          597,
          598,
          599,
          600,
          601,
          602,
          603,
          604,
          605,
          606,
          607,
          608,
          609,
          610,
          611,
          612,
          613,
          614,
          615,
          616,
          617,
          618,
          619,
          620,
          621,
          622,
          623,
          624,
          625,
          626,
          627,
          628,
          629,
          630,
          631,
          632,
          633,
          634,
          635,
          636,
          637,
          638,
          639,
          640,
          641,
          642,
          643,
          644,
          645,
          646,
          647,
          648,
          649,
          650,
          651,
          652,
          653,
          654,
          655,
          656,
          657,
          658,
          659
         ],
         "y": [
          null,
          null,
          null,
          null,
          null,
          null,
          null,
          null,
          null,
          null,
          null,
          null,
          null,
          null,
          null,
          null,
          null,
          null,
          null,
          null,
          null,
          null,
          null,
          null,
          null,
          null,
          null,
          null,
          null,
          null,
          604.0982233232697,
          500.11365643511454,
          122.2599542109549,
          -310.72158741093335,
          -729.8382903179054,
          -871.8865518047667,
          -1706.028569515594,
          -1520.7044281390256,
          -1213.1611498072225,
          -907.7351724705121,
          -452.6587555137804,
          -622.0753182781633,
          -914.5938912265425,
          -1572.2814461340606,
          -1066.3228392260828,
          -1110.973392012134,
          -893.927039355639,
          -1075.327989696192,
          -1039.587031900438,
          -791.149702451313,
          -214.51661927079147,
          155.180461041905,
          349.4608042774511,
          665.0279695603114,
          808.8368510282536,
          1837.113618688651,
          1998.8261803515356,
          1830.6651368707471,
          1639.079425043175,
          1775.3469109434318,
          1666.6482066432227,
          1445.8039235006577,
          1456.1151105890447,
          1111.95200571494,
          502.5604381142822,
          157.9185893305854,
          155.2507508830397,
          523.3026875857404,
          352.8398796962508,
          249.60144666083363,
          502.90197393769915,
          -98.50453874717451,
          -319.1418317162812,
          -65.80154061767689,
          -190.94124918060834,
          -300.2077872514739,
          -166.1584670511499,
          -693.257321127876,
          -904.9590027297827,
          -1371.6676465479072,
          -1507.0746720173636,
          -1421.6142979290998,
          -988.4043473009299,
          -121.02370058570776,
          187.43910338314956,
          144.12135364937262,
          584.1976309253836,
          745.2346412095477,
          700.0180311356569,
          517.63182795335,
          121.87887477845823,
          45.4393070623064,
          -230.47693142173716,
          162.6497132003169,
          358.26982494859567,
          356.58228968641674,
          321.94273478367586,
          19.23288291359927,
          -70.83994968328545,
          65.86962732985842,
          482.2015659928901,
          669.7925406133921,
          643.7858888539671,
          316.49881034437,
          429.55301902729093,
          184.2380709482719,
          -517.2050010514095,
          -649.7694140604324,
          -896.0735784489071,
          -555.5019560209059,
          -405.861719602702,
          -275.7959548303396,
          -194.88138322344423,
          -312.85546373313434,
          -220.91479815413993,
          -136.4244235363907,
          -86.44963862576367,
          -330.13636530827625,
          -557.828996065739,
          -287.1292615381809,
          -33.76268093471765,
          168.6714806054655,
          -1.1656058972632763,
          -147.555213408976,
          -14.658665276590796,
          43.55365649795351,
          -189.67638441519807,
          -50.98593994796556,
          -220.97647792003067,
          -694.9067397393941,
          -562.9182873730659,
          -522.2060808084233,
          -362.12230877873174,
          -313.0496697342337,
          -753.0072884955312,
          -1058.6807592482367,
          -723.7958511561035,
          360.26196937006705,
          369.2985357863008,
          480.45233713871266,
          222.07524714247052,
          35.316474684468744,
          390.17023202572796,
          890.5581858433936,
          726.3981213403756,
          542.093204945759,
          974.563632736926,
          1078.2554065721988,
          1207.7678155972433,
          841.0918672810878,
          301.72863295373816,
          103.3489630787899,
          40.33278412690947,
          143.84516882637035,
          162.5160438057219,
          136.5452427353896,
          22.469701235783305,
          -349.85848400753207,
          -494.68820446180064,
          -314.91591567462353,
          145.79491966167726,
          -138.85537444461133,
          -63.08059134396589,
          -596.6589419054956,
          -912.2050791744498,
          -840.9955256311481,
          -702.8566931482064,
          -827.3377645291264,
          -658.9136934388717,
          -294.9301857172061,
          244.37004806017978,
          493.83397599374996,
          350.6306315931773,
          58.51150453165167,
          135.95575733806902,
          341.8833772843442,
          401.2142717799876,
          349.3091548031516,
          149.9151375383284,
          390.194998124305,
          479.0336411435618,
          415.48443541785525,
          238.81979925633618,
          61.643480237522226,
          119.29408065924156,
          266.364991148988,
          -2.489052403643427,
          237.41671365812,
          10.84607941493573,
          -667.9446512715116,
          -585.2577172059899,
          -268.3541424970907,
          -353.8538626620499,
          -331.20576682694764,
          -284.7167052214086,
          -90.10182777922472,
          -444.97329019227135,
          -928.776939809046,
          -1043.9337317712934,
          -1060.1552176609707,
          -1150.494658396127,
          -1130.3858859320735,
          -838.4034502906427,
          -463.43484032084757,
          -805.9240954627933,
          -1098.898916797041,
          -608.9215446070026,
          -534.6238045658582,
          -331.2171696722,
          -537.2213059581115,
          -468.2795307189682,
          -246.78874037053447,
          -791.269987391878,
          -657.8862691484865,
          -421.4389240784312,
          -527.2782889001298,
          -625.3243601581485,
          -480.34688365073566,
          -456.4755198877348,
          -462.9535377682122,
          237.54170769897874,
          190.5317758928226,
          178.63572761260585,
          -371.1257771548155,
          -236.77549429792478,
          -88.39737689487028,
          -126.17696289438481,
          -183.13281707269178,
          -334.4051164960066,
          -50.50495578173218,
          442.15478530755684,
          860.558044324861,
          910.2287497213732,
          902.4436959801261,
          937.6248914395102,
          1103.6564305627585,
          1147.7480776356874,
          938.2102795889996,
          477.2576601943632,
          733.8372038356136,
          1100.6381852835284,
          1133.4502139663687,
          1137.68133934311,
          1301.8713977931945,
          1228.535509675281,
          1360.0704801675743,
          1565.806523268978,
          1867.8306223970458,
          1731.5709834153702,
          1240.3374282310665,
          1170.0166930904625,
          994.0537147317865,
          1100.2142772594102,
          1435.4027604041926,
          942.583213408669,
          1033.4342272193542,
          919.9140029086714,
          787.8631889990482,
          577.2014911977212,
          393.41482586608936,
          -208.97094922181418,
          -410.74981922795257,
          -92.47592619112606,
          452.54561985424994,
          67.92400729058201,
          172.358647895104,
          642.7150967925894,
          660.2312924666359,
          1087.0493279037516,
          928.1090298024931,
          633.9260860225949,
          145.41922608424647,
          -668.0886796191705,
          -369.2794826706531,
          -361.7219410873813,
          -1553.1064294178611,
          -2911.704491985794,
          -3011.6846270891747,
          -3155.07032779993,
          -3296.9380318846697,
          -2339.6631084832934,
          -2359.4330491334435,
          -1758.51681586505,
          -1415.5314626394877,
          -1385.2405863258775,
          -1210.7914618154732,
          -961.2131841897062,
          -333.1905842231315,
          -330.8501382874566,
          -71.17496485705055,
          210.10165889193524,
          -106.3061271771411,
          -428.2465148361076,
          -270.6459874412657,
          -4.758410205345058,
          9.950868680085136,
          491.57385725313236,
          441.61370534623256,
          92.15741508440567,
          201.54546474507322,
          600.5062935779314,
          775.415229991749,
          705.7005300523604,
          573.0847510170458,
          302.6563045437416,
          258.8014003320237,
          79.55141822252722,
          128.30508483859467,
          28.0504561676878,
          -563.7425687868666,
          -412.02719820654136,
          -375.61982394446375,
          -438.1346252954032,
          -447.6322845353293,
          -636.7039623423648,
          -933.9542672308728,
          -970.9680538104137,
          -1095.461407909066,
          -1023.1106551810899,
          -1005.6218516765707,
          -1159.8841710779568,
          -1094.0096872530676,
          -763.6640468131666,
          202.49889582751277,
          493.59050026729506,
          195.91942830439461,
          613.467666753529,
          674.5813294354786,
          545.5510539429567,
          377.178648893838,
          271.101243264642,
          510.953291939235,
          737.4062507864967,
          689.3565665310834,
          -335.31507012573,
          -421.70209139547,
          -440.8593477221434,
          -487.4138440217223,
          -91.10660229298549,
          -69.78299732354469,
          345.1069248926841,
          490.3677062997716,
          622.706419124001,
          233.25424972408632,
          373.12827765989255,
          109.12833925359756,
          144.8695371195181,
          225.51599469888444,
          56.65282780273165,
          -61.226557294269924,
          182.51380808967008,
          454.28729013370605,
          506.0449075381679,
          596.9363128952192,
          728.9672540196108,
          924.6082185888323,
          1024.0577985049272,
          1177.3994275352188,
          536.2576985603258,
          763.3950810164514,
          907.4490984833691,
          763.2411099893701,
          722.7628334998233,
          735.5470082444624,
          804.0058001405997,
          952.2424273677058,
          579.455314929631,
          655.5799323066612,
          504.8134075388923,
          53.59233223067314,
          6.634510964780105,
          210.88623003180155,
          93.58929985321757,
          104.3226115807679,
          17.315078902680852,
          -61.035441150122274,
          -139.71494308569225,
          -384.3378345063376,
          -336.86997115811664,
          -515.0800268725511,
          -910.3597635476606,
          -979.1675909420773,
          -704.0084533764204,
          -271.3307369153033,
          -542.9647923781006,
          -669.4853261817459,
          -275.2574075621402,
          -324.2587674895102,
          -298.783451409615,
          -608.0145865489392,
          -956.3597849414037,
          -876.6795264362281,
          -1024.0354486999984,
          -792.0837200553524,
          -786.0892900028057,
          -1003.9202462310338,
          -1040.124348003273,
          -1340.4238004894426,
          -1438.4671777950743,
          -1414.0986522346966,
          -875.3885956771838,
          -1045.6424790681544,
          -1004.4968772063836,
          -1319.5500613251008,
          -1195.6419316029207,
          -1050.464240311128,
          -730.0428818720311,
          -675.204991365257,
          -581.3781551984949,
          -384.11953363828184,
          -128.08925982501785,
          173.35119944345308,
          520.3090751575204,
          1007.8325824687782,
          1168.1480450323734,
          1227.459347225093,
          1416.8764516948609,
          1652.3019483566068,
          1023.1133922795956,
          983.625033896018,
          1037.3809212347724,
          1190.838273607285,
          1433.3084828346698,
          1275.5644554639691,
          1313.4645218647147,
          1367.6808127703384,
          1363.4399789962383,
          1389.4093101545723,
          1035.6891804186696,
          672.4614854610041,
          964.9688829691069,
          1014.898322225885,
          888.1538290434322,
          1103.6214897835412,
          1166.9055717316737,
          712.5006491250522,
          561.1134832983746,
          103.06271870388252,
          -207.50678704073925,
          -128.56193161509736,
          -209.388215973672,
          -453.26581005777905,
          -196.41314401348086,
          249.45114618746376,
          46.16272141136207,
          -20.81569681072665,
          465.33414850843235,
          557.0374496787236,
          885.6807366070832,
          318.83961061303324,
          -499.67817315547484,
          -1181.1702016799063,
          -1455.7124157365013,
          -1316.0182362076357,
          -1282.5973848666445,
          -1337.6798350825072,
          -1320.6055368241282,
          -1432.8953866970398,
          -1557.3287778902531,
          -1367.93472726647,
          -767.9458365278543,
          -682.0381465359629,
          -335.293204612664,
          -505.2108771126134,
          -317.8945991751009,
          -108.63563067172562,
          214.96130003119197,
          154.74444870395948,
          -138.3794859590008,
          -150.6258782101097,
          22.84482342263948,
          144.79065257577997,
          126.6776418692956,
          119.87604827526059,
          178.29873984003018,
          468.41759646968296,
          355.2661113097125,
          200.24984937079444,
          -123.69287452318042,
          -302.047858888429,
          -217.14780409607295,
          -252.69165050464164,
          -238.57246718564716,
          -416.0866976287364,
          -493.819610440827,
          -387.03834203451913,
          -439.4247050073725,
          137.9270347482152,
          -86.77348564754107,
          -517.6709691917371,
          -497.0781780407277,
          -686.4315488976171,
          -844.2100255077863,
          -942.7329823819623,
          -1067.8649460258525,
          -1142.109222201959,
          -1213.0156093545127,
          -1445.3086892926767,
          -1057.511412270801,
          -682.5893710363603,
          -995.4555216431515,
          -1036.6420094170971,
          -780.1599687603559,
          -401.8143757741534,
          -532.0411880123677,
          -697.6209988307871,
          -538.4153750426473,
          -543.88576083942,
          -242.91211285012758,
          -631.4093136679255,
          -1240.2695886583533,
          -1413.4341482633536,
          -1435.8286789134233,
          -556.3176947380089,
          214.49945134281643,
          -225.7641814955175,
          -542.9274894176647,
          -761.30142754339,
          -1023.199830902705,
          -751.0729196747878,
          46.71978983852469,
          248.43141685765787,
          -65.10177062152943,
          -529.8849346974005,
          -115.76465178346578,
          596.3527864919403,
          1439.942662659002,
          1245.4106098312425,
          1503.7087816331687,
          1915.1358788433706,
          1698.1708664686298,
          1668.6936037141395,
          1695.1979818204113,
          1688.969346130445,
          -79.23393119905711,
          -533.4174436907409,
          -369.3565932254245,
          -51.93110856583098,
          331.55897398561626,
          519.4810496267672,
          54.72848331701141,
          67.58433469429781,
          -428.4540410957536,
          -961.1629751248495,
          -1012.5970518269586,
          -1178.8686018225858,
          -2005.5613725896408,
          -2765.8909176836214,
          -3307.925828167171,
          -4516.262206263602,
          -4228.028485690301,
          -3944.828893070273,
          -4281.878932772969,
          -4395.576506627334,
          -4049.7338750427566,
          -1909.558234335119,
          -2079.1177650126597,
          -2278.3005224642584,
          -2454.553150439645,
          -3048.1140857005435,
          -3645.0997526162546,
          -3449.7786694272654,
          -3619.8996496187083,
          -2540.2851841710717,
          -1837.8283190699342,
          -455.24174674492656,
          -395.96845128327607,
          -914.7123955847736,
          432.9693714142384,
          636.2070787990253,
          506.2893071993002,
          1687.2334622181334,
          3979.84844272615,
          2280.8908317411024,
          2456.1508704495673,
          4722.645381973282,
          7517.596997675089,
          8639.831288792266,
          8774.772830588794,
          7793.997617035461,
          2452.7266781851604,
          2523.3562178644947,
          1970.3904053533647,
          5034.925730968322,
          3701.599174966442,
          2794.973720710472,
          1406.083552769468,
          1392.7277977805481,
          1693.6608803610789,
          -281.46685480469864,
          -2777.2531014742967,
          -4294.157855152312,
          -4560.986603850042,
          -5181.660718599589,
          -4378.489109071502,
          -5968.812300204513,
          -7105.321226610853,
          -6933.2467379298405,
          -4293.382542029088,
          -5503.813331693247,
          -6321.039054584803,
          -6433.362061200604,
          -5751.760691328877,
          -4260.4229222407685,
          -3475.0060373856813,
          -3566.290123690262,
          -1831.9171818167567,
          -2848.4592379895594,
          -773.6989048492608,
          4018.9697327373374,
          2915.2230956223802,
          2950.5420510433723,
          3791.8194706449644,
          3127.087179022786,
          4130.599452333301,
          3024.1479529204053,
          3531.1517835235604,
          4848.690128104066,
          5356.379973675249,
          6212.3582581730025,
          8839.087747419333,
          9214.732585569745,
          6867.694044406906,
          1277.270280122267,
          1471.679231298235,
          1162.0053406383997,
          -2187.280107153991,
          -2123.4241008152194,
          -4711.688312601184,
          -2567.977567100048,
          null,
          null,
          null,
          null,
          null,
          null,
          null,
          null,
          null,
          null,
          null,
          null,
          null,
          null,
          null,
          null,
          null,
          null,
          null,
          null,
          null,
          null,
          null,
          null,
          null,
          null,
          null,
          null,
          null,
          null
         ]
        },
        {
         "line": {
          "color": "rgb(66, 134, 244)",
          "width": 2
         },
         "mode": "lines",
         "name": "Observed",
         "type": "scatter",
         "x": [
          0,
          1,
          2,
          3,
          4,
          5,
          6,
          7,
          8,
          9,
          10,
          11,
          12,
          13,
          14,
          15,
          16,
          17,
          18,
          19,
          20,
          21,
          22,
          23,
          24,
          25,
          26,
          27,
          28,
          29,
          30,
          31,
          32,
          33,
          34,
          35,
          36,
          37,
          38,
          39,
          40,
          41,
          42,
          43,
          44,
          45,
          46,
          47,
          48,
          49,
          50,
          51,
          52,
          53,
          54,
          55,
          56,
          57,
          58,
          59,
          60,
          61,
          62,
          63,
          64,
          65,
          66,
          67,
          68,
          69,
          70,
          71,
          72,
          73,
          74,
          75,
          76,
          77,
          78,
          79,
          80,
          81,
          82,
          83,
          84,
          85,
          86,
          87,
          88,
          89,
          90,
          91,
          92,
          93,
          94,
          95,
          96,
          97,
          98,
          99,
          100,
          101,
          102,
          103,
          104,
          105,
          106,
          107,
          108,
          109,
          110,
          111,
          112,
          113,
          114,
          115,
          116,
          117,
          118,
          119,
          120,
          121,
          122,
          123,
          124,
          125,
          126,
          127,
          128,
          129,
          130,
          131,
          132,
          133,
          134,
          135,
          136,
          137,
          138,
          139,
          140,
          141,
          142,
          143,
          144,
          145,
          146,
          147,
          148,
          149,
          150,
          151,
          152,
          153,
          154,
          155,
          156,
          157,
          158,
          159,
          160,
          161,
          162,
          163,
          164,
          165,
          166,
          167,
          168,
          169,
          170,
          171,
          172,
          173,
          174,
          175,
          176,
          177,
          178,
          179,
          180,
          181,
          182,
          183,
          184,
          185,
          186,
          187,
          188,
          189,
          190,
          191,
          192,
          193,
          194,
          195,
          196,
          197,
          198,
          199,
          200,
          201,
          202,
          203,
          204,
          205,
          206,
          207,
          208,
          209,
          210,
          211,
          212,
          213,
          214,
          215,
          216,
          217,
          218,
          219,
          220,
          221,
          222,
          223,
          224,
          225,
          226,
          227,
          228,
          229,
          230,
          231,
          232,
          233,
          234,
          235,
          236,
          237,
          238,
          239,
          240,
          241,
          242,
          243,
          244,
          245,
          246,
          247,
          248,
          249,
          250,
          251,
          252,
          253,
          254,
          255,
          256,
          257,
          258,
          259,
          260,
          261,
          262,
          263,
          264,
          265,
          266,
          267,
          268,
          269,
          270,
          271,
          272,
          273,
          274,
          275,
          276,
          277,
          278,
          279,
          280,
          281,
          282,
          283,
          284,
          285,
          286,
          287,
          288,
          289,
          290,
          291,
          292,
          293,
          294,
          295,
          296,
          297,
          298,
          299,
          300,
          301,
          302,
          303,
          304,
          305,
          306,
          307,
          308,
          309,
          310,
          311,
          312,
          313,
          314,
          315,
          316,
          317,
          318,
          319,
          320,
          321,
          322,
          323,
          324,
          325,
          326,
          327,
          328,
          329,
          330,
          331,
          332,
          333,
          334,
          335,
          336,
          337,
          338,
          339,
          340,
          341,
          342,
          343,
          344,
          345,
          346,
          347,
          348,
          349,
          350,
          351,
          352,
          353,
          354,
          355,
          356,
          357,
          358,
          359,
          360,
          361,
          362,
          363,
          364,
          365,
          366,
          367,
          368,
          369,
          370,
          371,
          372,
          373,
          374,
          375,
          376,
          377,
          378,
          379,
          380,
          381,
          382,
          383,
          384,
          385,
          386,
          387,
          388,
          389,
          390,
          391,
          392,
          393,
          394,
          395,
          396,
          397,
          398,
          399,
          400,
          401,
          402,
          403,
          404,
          405,
          406,
          407,
          408,
          409,
          410,
          411,
          412,
          413,
          414,
          415,
          416,
          417,
          418,
          419,
          420,
          421,
          422,
          423,
          424,
          425,
          426,
          427,
          428,
          429,
          430,
          431,
          432,
          433,
          434,
          435,
          436,
          437,
          438,
          439,
          440,
          441,
          442,
          443,
          444,
          445,
          446,
          447,
          448,
          449,
          450,
          451,
          452,
          453,
          454,
          455,
          456,
          457,
          458,
          459,
          460,
          461,
          462,
          463,
          464,
          465,
          466,
          467,
          468,
          469,
          470,
          471,
          472,
          473,
          474,
          475,
          476,
          477,
          478,
          479,
          480,
          481,
          482,
          483,
          484,
          485,
          486,
          487,
          488,
          489,
          490,
          491,
          492,
          493,
          494,
          495,
          496,
          497,
          498,
          499,
          500,
          501,
          502,
          503,
          504,
          505,
          506,
          507,
          508,
          509,
          510,
          511,
          512,
          513,
          514,
          515,
          516,
          517,
          518,
          519,
          520,
          521,
          522,
          523,
          524,
          525,
          526,
          527,
          528,
          529,
          530,
          531,
          532,
          533,
          534,
          535,
          536,
          537,
          538,
          539,
          540,
          541,
          542,
          543,
          544,
          545,
          546,
          547,
          548,
          549,
          550,
          551,
          552,
          553,
          554,
          555,
          556,
          557,
          558,
          559,
          560,
          561,
          562,
          563,
          564,
          565,
          566,
          567,
          568,
          569,
          570,
          571,
          572,
          573,
          574,
          575,
          576,
          577,
          578,
          579,
          580,
          581,
          582,
          583,
          584,
          585,
          586,
          587,
          588,
          589,
          590,
          591,
          592,
          593,
          594,
          595,
          596,
          597,
          598,
          599,
          600,
          601,
          602,
          603,
          604,
          605,
          606,
          607,
          608,
          609,
          610,
          611,
          612,
          613,
          614,
          615,
          616,
          617,
          618,
          619,
          620,
          621,
          622,
          623,
          624,
          625,
          626,
          627,
          628,
          629,
          630,
          631,
          632,
          633,
          634,
          635,
          636,
          637,
          638,
          639,
          640,
          641,
          642,
          643,
          644,
          645,
          646,
          647,
          648,
          649,
          650,
          651,
          652,
          653,
          654,
          655,
          656,
          657,
          658,
          659
         ],
         "y": [
          7896.830013286613,
          8036.509587763991,
          8169.588231822856,
          8353.217492064297,
          8727.687036371799,
          9095.289101530452,
          9235.846432505909,
          9152.500069336686,
          9148.01395901445,
          9353.22648559646,
          9801.48601844826,
          10724.80500475833,
          10746.900511013211,
          10846.846268886118,
          11315.817028152782,
          12643.58268406806,
          11804.629165520822,
          11679.43835006045,
          11854.537295204322,
          11542.5519109653,
          10688.316669892505,
          10303.947255003688,
          11345.214704756921,
          11759.042504677078,
          11139.493770149711,
          11415.369265018257,
          11311.47674802796,
          11794.10358029435,
          12513.87310001388,
          12648.77722987224,
          11583.33114395624,
          11584.53226697636,
          11428.597803701208,
          10857.026633891062,
          10417.313950106387,
          10355.675152687822,
          9577.424253618532,
          10054.174637386332,
          10472.448828593731,
          10680.276549055909,
          10577.614454422597,
          10450.157570706906,
          10070.725015713168,
          9702.591536684673,
          10016.952398913825,
          9774.724239339514,
          9728.204527019083,
          9484.914105643693,
          9539.378363609236,
          9540.448916710371,
          9857.746978877933,
          10085.104546979139,
          10475.070739547555,
          10784.832144716522,
          10820.892324169692,
          11675.761776815854,
          11757.580574404436,
          11711.54347617361,
          11801.34874174219,
          11819.34219296096,
          11578.771028918314,
          11378.232876254124,
          11395.233641041516,
          11137.508863135607,
          10438.67062931218,
          10011.096071667123,
          10230.70722326068,
          10296.33160926951,
          10292.527044551465,
          10615.609217593972,
          10752.1643426221,
          10194.123627454293,
          10046.30446167785,
          10263.667598541551,
          10155.542089256624,
          10100.656939299764,
          10345.745626969783,
          10173.438323876951,
          10042.669013722923,
          9519.195568464858,
          9534.773569215095,
          9593.487448702252,
          9626.724277129402,
          9950.814406600137,
          10522.250217800676,
          10563.647519247543,
          10564.875481794745,
          10659.807003605321,
          10425.199010551296,
          10460.721158303631,
          10301.052740780638,
          10220.789594924776,
          10063.616404874583,
          10219.738823657233,
          10316.605586066487,
          10341.913357534808,
          10316.665172788827,
          10252.573076358092,
          10216.732469111434,
          10194.849184511997,
          9989.622671113477,
          10174.286765040255,
          10038.312742536098,
          9978.878329965732,
          9877.505049456986,
          9423.226721940324,
          8448.935015594026,
          8251.52323198598,
          8039.224140808501,
          8158.789736606602,
          8073.95375222317,
          8072.616631082386,
          8362.338726063752,
          8257.532897378915,
          8244.961882187728,
          8146.725816650436,
          8108.012260229538,
          7980.2613741350415,
          8040.774269721862,
          8209.567752138208,
          8338.76799264134,
          8560.788050894624,
          8398.904302291328,
          8334.02326403814,
          8358.546977063057,
          8308.311406457315,
          8264.189831188703,
          8064.522897802506,
          8032.837878443989,
          7962.841632669786,
          7959.600127137167,
          8020.297620718581,
          8222.446397849373,
          8199.581749915322,
          7736.604987101151,
          7450.100639864561,
          7880.584318722871,
          9318.768119687262,
          9413.283675192675,
          9476.646249183545,
          9383.479470677556,
          9193.173796062187,
          9172.688580832557,
          9155.013009841956,
          9281.022513483951,
          9217.614908547763,
          9257.23580962384,
          9343.976273420229,
          9335.80494836049,
          9237.51896789627,
          8978.654813496498,
          8810.738395148996,
          8896.594757823774,
          8792.920336487043,
          8734.287632799302,
          8747.939129337929,
          8655.655597415269,
          8539.642750726824,
          8470.017927284358,
          8514.029198381439,
          8378.876831365855,
          8115.508755776801,
          8098.433021968145,
          7847.416641400142,
          7341.8049821413415,
          7242.510170653162,
          7146.012933634438,
          6961.916463382017,
          7140.8799299101365,
          7252.149434008632,
          7522.175880529569,
          7612.064453473588,
          7653.768929907254,
          7353.310525060708,
          7309.541874785915,
          7319.050655238823,
          7276.937708947525,
          7328.98692136773,
          7405.110015872575,
          7532.677123219305,
          7495.626457542383,
          7460.901284415645,
          7300.556087797422,
          7210.646917069643,
          7172.286553317039,
          7226.902418159898,
          7164.373492626393,
          7089.723106689307,
          7032.860391371814,
          6790.183639408675,
          6770.356285148962,
          7148.243145801386,
          7150.839262453884,
          7148.361459371377,
          7228.238391081989,
          7504.05556303263,
          7296.419569266676,
          7210.937964009372,
          7221.176955374911,
          7191.861071997471,
          7298.7132554672735,
          7345.635970926209,
          7297.912752203773,
          7199.048192231038,
          7195.811552696488,
          7072.477633719385,
          7218.040866931673,
          7321.919470839411,
          7430.027209611784,
          7533.920318682511,
          7929.897113517012,
          8235.623274372892,
          7898.569229036512,
          7888.135214954424,
          8113.36082587181,
          8111.715362809299,
          8102.893845324083,
          8574.611704362773,
          8743.692143647299,
          8674.415975438425,
          8852.804577276258,
          8891.81703206553,
          8847.166821810986,
          8644.707999736635,
          8646.193566877131,
          8665.68548639555,
          8435.602730355537,
          8383.325486647325,
          8321.535235775198,
          8430.129199500645,
          8723.535466510937,
          9041.676236459427,
          9331.03335799911,
          9370.896512382269,
          9342.279203230477,
          9372.449065826619,
          9377.036114146784,
          9330.400380776719,
          9202.938405466684,
          9403.1671514213,
          9689.417025456103,
          9776.736692524188,
          9813.044905712402,
          10080.72238297771,
          9922.395658425206,
          9957.71639903565,
          10344.239488393756,
          10286.246258415276,
          10262.061382627087,
          10143.891251224088,
          9905.53388478716,
          9720.58739864132,
          9846.39599149806,
          10098.862828333082,
          9582.246888371184,
          9689.815450513626,
          9660.397790837427,
          9870.245958296518,
          9735.0504591909,
          9490.032467298826,
          9033.428049063674,
          8796.161047472155,
          8698.50545896494,
          8686.213148361267,
          8557.198634572247,
          8747.601872178893,
          8791.293455052888,
          8761.143370995156,
          9019.792645918424,
          9098.213160726635,
          9053.83207624784,
          8569.848185239654,
          7882.121460787503,
          7948.204795786243,
          7849.994645347671,
          6666.828861681947,
          5294.226216340619,
          5410.145281967313,
          5300.8230481772,
          4985.279471287821,
          5313.574447863542,
          5285.267935995225,
          5765.021215411856,
          6361.389077256465,
          6169.080863856641,
          6132.192548689882,
          6105.912299011578,
          6653.247179086826,
          6662.127716616787,
          6671.740301294881,
          6692.031633925075,
          6227.902488380876,
          6104.824055534396,
          6274.273825478291,
          6451.763185970719,
          6308.424179516391,
          6724.47057075529,
          6814.820556971707,
          6773.376351167198,
          6796.675729856801,
          7092.20980782568,
          7318.081696902668,
          7302.501675313949,
          7304.854342283657,
          6972.9333258345405,
          6871.078166278377,
          6954.0613122503755,
          6751.871765907476,
          6884.686986010119,
          6798.847553762733,
          6914.666410146706,
          7071.901788128164,
          7153.927558603211,
          7166.96847035074,
          7050.526232960043,
          6867.155475591543,
          7006.153003182828,
          7303.817318437702,
          7521.625762324777,
          7544.735051663962,
          7603.793608820947,
          7715.970909100279,
          7730.878020961837,
          8245.722380213285,
          8894.275984848106,
          8784.642784720207,
          8873.989539326558,
          8979.892588601404,
          8772.605609500622,
          8930.913681363849,
          9164.282146281499,
          9492.195702154653,
          9924.461951193884,
          9727.209380738625,
          8687.485435756498,
          8706.762334109952,
          8774.268432777048,
          9045.862951861684,
          9577.180130024612,
          9523.737060923517,
          9403.56427666102,
          9626.880262499786,
          9721.819166062292,
          9670.35267339297,
          9670.785648144505,
          9279.322026266462,
          9124.649396746332,
          9205.783900625256,
          9119.084263966222,
          8819.204823993834,
          8859.416745109052,
          9030.153561311428,
          9321.504287944157,
          9454.194394877908,
          9507.292082854152,
          9546.667359008288,
          9585.242823246666,
          9880.582896244676,
          9551.918962460255,
          9700.439323044982,
          9742.02892493151,
          9637.024958752816,
          9618.213260328099,
          9725.488576168926,
          9712.81476224812,
          9788.521959529091,
          9639.95364215922,
          9411.404525844648,
          9426.981678573986,
          9403.238615212738,
          9244.433018226351,
          9493.595172876228,
          9442.657481252047,
          9406.255930210364,
          9326.58814320612,
          9301.563679662215,
          9348.204026697782,
          9482.184810315599,
          9638.217570861838,
          9436.925195856926,
          9231.493230758922,
          9180.609944562828,
          9106.159939018455,
          9056.25733932299,
          9116.123239308003,
          9150.825424038167,
          9191.841695595116,
          9166.082435541168,
          9093.86323172761,
          9091.767435316166,
          9062.05921703053,
          9216.14457661028,
          9269.029049758985,
          9346.710768472229,
          9327.67512244848,
          9200.495958052374,
          9238.790536103697,
          9249.438246949527,
          9278.539033505616,
          9220.123137702056,
          9221.474235418797,
          9130.464282660958,
          9134.885430465985,
          9162.235904973737,
          9154.807427888656,
          9177.71558705349,
          9309.146587307883,
          9366.081211529487,
          9541.14494662019,
          9557.228596370733,
          9619.470008863225,
          9834.34345093738,
          10435.77195985603,
          10985.119592693065,
          11096.370981655044,
          11033.542140439728,
          11196.16388741341,
          11610.522017505595,
          11333.746837542161,
          11255.501070308337,
          11243.48303516029,
          11465.564492601683,
          11755.58119980418,
          11716.411607805456,
          11685.07527079242,
          11672.13134572093,
          11899.919358701884,
          11632.64165288171,
          11463.679295341895,
          11551.097077250179,
          11755.181942272979,
          11876.95338583217,
          11850.765200290209,
          12056.323421185645,
          12164.403587578212,
          11797.516510981275,
          11799.526727126475,
          11744.323115112582,
          11559.842808898182,
          11623.091878436793,
          11733.96626806391,
          11506.833402339877,
          11405.160311917942,
          11346.124717479432,
          11442.939620304414,
          11507.104337665949,
          11609.048559349349,
          11685.020310521584,
          11874.642536686833,
          11576.253069074448,
          11039.063579204321,
          10391.276090070347,
          10268.003898553527,
          10201.799719070545,
          10159.821534655233,
          10146.578532762547,
          10188.169891084865,
          10339.359895954043,
          10303.242946947665,
          10373.259994796503,
          10393.662602084078,
          10511.558141261514,
          10774.090146760844,
          10895.03143561061,
          10892.677561047374,
          10925.275534520648,
          11013.781351278085,
          10915.45825408122,
          10677.04217749131,
          10467.79982894444,
          10429.324101451008,
          10447.154971139658,
          10671.424398447627,
          10716.311805883746,
          10717.587523472934,
          10878.729324832051,
          10729.49535984686,
          10741.212745922287,
          10755.63820110957,
          10528.457687540187,
          10549.99993040664,
          10604.973839338634,
          10705.634581668563,
          10699.247307400145,
          10621.147949777702,
          10734.447340398325,
          10983.384095603922,
          11334.302728770823,
          11360.626362271316,
          11447.596319805223,
          11450.011132570118,
          11405.501558826803,
          11415.065075223158,
          11364.835083056,
          11343.749377836299,
          11424.963448037346,
          11587.264630524502,
          11845.688666804634,
          12458.755897932593,
          12933.452571687387,
          12933.337158049088,
          13030.405935015915,
          13056.228187102959,
          13067.70965387573,
          13368.090398184955,
          13444.61943090971,
          13330.564563991633,
          13435.770794682676,
          13738.185588586952,
          13769.800513425602,
          13596.939398092709,
          13612.77417941822,
          13900.019495758215,
          14730.150417582641,
          15583.101231359724,
          15342.928405946426,
          15202.594518399836,
          15381.907919403448,
          15327.286289963866,
          15593.693127775707,
          15927.901184766653,
          16290.81692118418,
          16029.412185657806,
          15995.998189848071,
          16372.39734817653,
          17083.845872113267,
          17884.628245262506,
          17843.01880314236,
          18336.446450956217,
          18711.31422781042,
          18432.242585682645,
          18448.16646538194,
          18862.79301058334,
          19056.07885665344,
          17390.736701274283,
          16987.86882838683,
          17312.290464663183,
          17991.419820260784,
          18913.478020126488,
          19264.72192229652,
          18953.713099227087,
          19282.563097308335,
          19121.886986334714,
          18998.079583495823,
          19145.14846656942,
          19198.998589492392,
          18942.096815483357,
          18265.61394815205,
          18303.163093656254,
          17937.337420969445,
          18471.79417569884,
          19113.047104531674,
          19161.334182659233,
          19352.60234239375,
          20077.722920459753,
          22616.832315700016,
          22884.61391463473,
          23360.905627054184,
          23594.411731075204,
          23259.466833602102,
          23097.83040414722,
          23530.78834177154,
          23219.253677889596,
          24016.3946622597,
          25267.112615189963,
          27043.386470000005,
          26964.020499138907,
          26671.00809917778,
          28141.234408113214,
          28881.524878111817,
          29288.824916593705,
          30757.429532760427,
          33467.36252562915,
          31856.12268529163,
          32273.087909194484,
          34904.997382513895,
          38067.44547187983,
          39807.603738850725,
          40395.370087963165,
          39727.27752555421,
          34277.110007714575,
          34840.250152749315,
          34673.97475176043,
          38508.45668270349,
          37468.42796355629,
          36843.154360111876,
          35650.76418554722,
          36046.172744233656,
          36858.91067922985,
          35152.737303960435,
          32949.072451710425,
          31861.05734117567,
          32351.814826670856,
          32225.07011977885,
          33353.08542052355,
          31997.221463516013,
          31149.419363921512,
          31793.884442463186,
          35051.46781385279,
          34053.71261722708,
          33450.93785876327,
          33705.97519064721,
          34713.696400108354,
          36573.09481030624,
          37541.548132422206,
          37630.04921400489,
          39814.35655457264,
          38711.77455524941,
          41196.61444486643,
          46684.490849562455,
          45798.7337153625,
          46272.21566854445,
          47603.415420118086,
          47273.84991914459,
          48600.49151849026,
          47862.39794598202,
          48845.16600342642,
          50913.92413875071,
          51893.311181218756,
          53083.8791087993,
          56271.288537679146,
          57040.82594383049,
          54708.31202510767,
          48968.837945908424,
          49800.28486888126,
          49985.23481495351,
          46655.920048518725,
          47130.208060158875,
          44818.44755210362,
          47641.53689948156,
          48617.28932090135,
          50429.44901579067,
          49398.2503985708,
          47717.64330027977,
          48371.54353797001,
          50218.21680438112,
          50798.35421240729,
          53980.847261679024,
          55375.36624125794,
          56272.596972013926,
          56826.56003304944,
          58802.601567706326,
          60455.84483148646,
          57507.73450910979,
          55339.80479183194,
          56158.0173198603,
          58472.11732155986,
          58283.54799432517,
          58779.76938655648,
          57312.59853645818,
          56787.14842211064,
          54703.38774047086,
          55123.99385491758,
          52121.68411029948,
          53241.03748850518,
          55193.35725955907,
          55832.958823907036,
          56913.99381926178,
          58346.912268295404,
          58764.349363
         ]
        }
       ],
       "layout": {
        "template": {
         "data": {
          "bar": [
           {
            "error_x": {
             "color": "#2a3f5f"
            },
            "error_y": {
             "color": "#2a3f5f"
            },
            "marker": {
             "line": {
              "color": "#E5ECF6",
              "width": 0.5
             }
            },
            "type": "bar"
           }
          ],
          "barpolar": [
           {
            "marker": {
             "line": {
              "color": "#E5ECF6",
              "width": 0.5
             }
            },
            "type": "barpolar"
           }
          ],
          "carpet": [
           {
            "aaxis": {
             "endlinecolor": "#2a3f5f",
             "gridcolor": "white",
             "linecolor": "white",
             "minorgridcolor": "white",
             "startlinecolor": "#2a3f5f"
            },
            "baxis": {
             "endlinecolor": "#2a3f5f",
             "gridcolor": "white",
             "linecolor": "white",
             "minorgridcolor": "white",
             "startlinecolor": "#2a3f5f"
            },
            "type": "carpet"
           }
          ],
          "choropleth": [
           {
            "colorbar": {
             "outlinewidth": 0,
             "ticks": ""
            },
            "type": "choropleth"
           }
          ],
          "contour": [
           {
            "colorbar": {
             "outlinewidth": 0,
             "ticks": ""
            },
            "colorscale": [
             [
              0,
              "#0d0887"
             ],
             [
              0.1111111111111111,
              "#46039f"
             ],
             [
              0.2222222222222222,
              "#7201a8"
             ],
             [
              0.3333333333333333,
              "#9c179e"
             ],
             [
              0.4444444444444444,
              "#bd3786"
             ],
             [
              0.5555555555555556,
              "#d8576b"
             ],
             [
              0.6666666666666666,
              "#ed7953"
             ],
             [
              0.7777777777777778,
              "#fb9f3a"
             ],
             [
              0.8888888888888888,
              "#fdca26"
             ],
             [
              1,
              "#f0f921"
             ]
            ],
            "type": "contour"
           }
          ],
          "contourcarpet": [
           {
            "colorbar": {
             "outlinewidth": 0,
             "ticks": ""
            },
            "type": "contourcarpet"
           }
          ],
          "heatmap": [
           {
            "colorbar": {
             "outlinewidth": 0,
             "ticks": ""
            },
            "colorscale": [
             [
              0,
              "#0d0887"
             ],
             [
              0.1111111111111111,
              "#46039f"
             ],
             [
              0.2222222222222222,
              "#7201a8"
             ],
             [
              0.3333333333333333,
              "#9c179e"
             ],
             [
              0.4444444444444444,
              "#bd3786"
             ],
             [
              0.5555555555555556,
              "#d8576b"
             ],
             [
              0.6666666666666666,
              "#ed7953"
             ],
             [
              0.7777777777777778,
              "#fb9f3a"
             ],
             [
              0.8888888888888888,
              "#fdca26"
             ],
             [
              1,
              "#f0f921"
             ]
            ],
            "type": "heatmap"
           }
          ],
          "heatmapgl": [
           {
            "colorbar": {
             "outlinewidth": 0,
             "ticks": ""
            },
            "colorscale": [
             [
              0,
              "#0d0887"
             ],
             [
              0.1111111111111111,
              "#46039f"
             ],
             [
              0.2222222222222222,
              "#7201a8"
             ],
             [
              0.3333333333333333,
              "#9c179e"
             ],
             [
              0.4444444444444444,
              "#bd3786"
             ],
             [
              0.5555555555555556,
              "#d8576b"
             ],
             [
              0.6666666666666666,
              "#ed7953"
             ],
             [
              0.7777777777777778,
              "#fb9f3a"
             ],
             [
              0.8888888888888888,
              "#fdca26"
             ],
             [
              1,
              "#f0f921"
             ]
            ],
            "type": "heatmapgl"
           }
          ],
          "histogram": [
           {
            "marker": {
             "colorbar": {
              "outlinewidth": 0,
              "ticks": ""
             }
            },
            "type": "histogram"
           }
          ],
          "histogram2d": [
           {
            "colorbar": {
             "outlinewidth": 0,
             "ticks": ""
            },
            "colorscale": [
             [
              0,
              "#0d0887"
             ],
             [
              0.1111111111111111,
              "#46039f"
             ],
             [
              0.2222222222222222,
              "#7201a8"
             ],
             [
              0.3333333333333333,
              "#9c179e"
             ],
             [
              0.4444444444444444,
              "#bd3786"
             ],
             [
              0.5555555555555556,
              "#d8576b"
             ],
             [
              0.6666666666666666,
              "#ed7953"
             ],
             [
              0.7777777777777778,
              "#fb9f3a"
             ],
             [
              0.8888888888888888,
              "#fdca26"
             ],
             [
              1,
              "#f0f921"
             ]
            ],
            "type": "histogram2d"
           }
          ],
          "histogram2dcontour": [
           {
            "colorbar": {
             "outlinewidth": 0,
             "ticks": ""
            },
            "colorscale": [
             [
              0,
              "#0d0887"
             ],
             [
              0.1111111111111111,
              "#46039f"
             ],
             [
              0.2222222222222222,
              "#7201a8"
             ],
             [
              0.3333333333333333,
              "#9c179e"
             ],
             [
              0.4444444444444444,
              "#bd3786"
             ],
             [
              0.5555555555555556,
              "#d8576b"
             ],
             [
              0.6666666666666666,
              "#ed7953"
             ],
             [
              0.7777777777777778,
              "#fb9f3a"
             ],
             [
              0.8888888888888888,
              "#fdca26"
             ],
             [
              1,
              "#f0f921"
             ]
            ],
            "type": "histogram2dcontour"
           }
          ],
          "mesh3d": [
           {
            "colorbar": {
             "outlinewidth": 0,
             "ticks": ""
            },
            "type": "mesh3d"
           }
          ],
          "parcoords": [
           {
            "line": {
             "colorbar": {
              "outlinewidth": 0,
              "ticks": ""
             }
            },
            "type": "parcoords"
           }
          ],
          "pie": [
           {
            "automargin": true,
            "type": "pie"
           }
          ],
          "scatter": [
           {
            "marker": {
             "colorbar": {
              "outlinewidth": 0,
              "ticks": ""
             }
            },
            "type": "scatter"
           }
          ],
          "scatter3d": [
           {
            "line": {
             "colorbar": {
              "outlinewidth": 0,
              "ticks": ""
             }
            },
            "marker": {
             "colorbar": {
              "outlinewidth": 0,
              "ticks": ""
             }
            },
            "type": "scatter3d"
           }
          ],
          "scattercarpet": [
           {
            "marker": {
             "colorbar": {
              "outlinewidth": 0,
              "ticks": ""
             }
            },
            "type": "scattercarpet"
           }
          ],
          "scattergeo": [
           {
            "marker": {
             "colorbar": {
              "outlinewidth": 0,
              "ticks": ""
             }
            },
            "type": "scattergeo"
           }
          ],
          "scattergl": [
           {
            "marker": {
             "colorbar": {
              "outlinewidth": 0,
              "ticks": ""
             }
            },
            "type": "scattergl"
           }
          ],
          "scattermapbox": [
           {
            "marker": {
             "colorbar": {
              "outlinewidth": 0,
              "ticks": ""
             }
            },
            "type": "scattermapbox"
           }
          ],
          "scatterpolar": [
           {
            "marker": {
             "colorbar": {
              "outlinewidth": 0,
              "ticks": ""
             }
            },
            "type": "scatterpolar"
           }
          ],
          "scatterpolargl": [
           {
            "marker": {
             "colorbar": {
              "outlinewidth": 0,
              "ticks": ""
             }
            },
            "type": "scatterpolargl"
           }
          ],
          "scatterternary": [
           {
            "marker": {
             "colorbar": {
              "outlinewidth": 0,
              "ticks": ""
             }
            },
            "type": "scatterternary"
           }
          ],
          "surface": [
           {
            "colorbar": {
             "outlinewidth": 0,
             "ticks": ""
            },
            "colorscale": [
             [
              0,
              "#0d0887"
             ],
             [
              0.1111111111111111,
              "#46039f"
             ],
             [
              0.2222222222222222,
              "#7201a8"
             ],
             [
              0.3333333333333333,
              "#9c179e"
             ],
             [
              0.4444444444444444,
              "#bd3786"
             ],
             [
              0.5555555555555556,
              "#d8576b"
             ],
             [
              0.6666666666666666,
              "#ed7953"
             ],
             [
              0.7777777777777778,
              "#fb9f3a"
             ],
             [
              0.8888888888888888,
              "#fdca26"
             ],
             [
              1,
              "#f0f921"
             ]
            ],
            "type": "surface"
           }
          ],
          "table": [
           {
            "cells": {
             "fill": {
              "color": "#EBF0F8"
             },
             "line": {
              "color": "white"
             }
            },
            "header": {
             "fill": {
              "color": "#C8D4E3"
             },
             "line": {
              "color": "white"
             }
            },
            "type": "table"
           }
          ]
         },
         "layout": {
          "annotationdefaults": {
           "arrowcolor": "#2a3f5f",
           "arrowhead": 0,
           "arrowwidth": 1
          },
          "autotypenumbers": "strict",
          "coloraxis": {
           "colorbar": {
            "outlinewidth": 0,
            "ticks": ""
           }
          },
          "colorscale": {
           "diverging": [
            [
             0,
             "#8e0152"
            ],
            [
             0.1,
             "#c51b7d"
            ],
            [
             0.2,
             "#de77ae"
            ],
            [
             0.3,
             "#f1b6da"
            ],
            [
             0.4,
             "#fde0ef"
            ],
            [
             0.5,
             "#f7f7f7"
            ],
            [
             0.6,
             "#e6f5d0"
            ],
            [
             0.7,
             "#b8e186"
            ],
            [
             0.8,
             "#7fbc41"
            ],
            [
             0.9,
             "#4d9221"
            ],
            [
             1,
             "#276419"
            ]
           ],
           "sequential": [
            [
             0,
             "#0d0887"
            ],
            [
             0.1111111111111111,
             "#46039f"
            ],
            [
             0.2222222222222222,
             "#7201a8"
            ],
            [
             0.3333333333333333,
             "#9c179e"
            ],
            [
             0.4444444444444444,
             "#bd3786"
            ],
            [
             0.5555555555555556,
             "#d8576b"
            ],
            [
             0.6666666666666666,
             "#ed7953"
            ],
            [
             0.7777777777777778,
             "#fb9f3a"
            ],
            [
             0.8888888888888888,
             "#fdca26"
            ],
            [
             1,
             "#f0f921"
            ]
           ],
           "sequentialminus": [
            [
             0,
             "#0d0887"
            ],
            [
             0.1111111111111111,
             "#46039f"
            ],
            [
             0.2222222222222222,
             "#7201a8"
            ],
            [
             0.3333333333333333,
             "#9c179e"
            ],
            [
             0.4444444444444444,
             "#bd3786"
            ],
            [
             0.5555555555555556,
             "#d8576b"
            ],
            [
             0.6666666666666666,
             "#ed7953"
            ],
            [
             0.7777777777777778,
             "#fb9f3a"
            ],
            [
             0.8888888888888888,
             "#fdca26"
            ],
            [
             1,
             "#f0f921"
            ]
           ]
          },
          "colorway": [
           "#636efa",
           "#EF553B",
           "#00cc96",
           "#ab63fa",
           "#FFA15A",
           "#19d3f3",
           "#FF6692",
           "#B6E880",
           "#FF97FF",
           "#FECB52"
          ],
          "font": {
           "color": "#2a3f5f"
          },
          "geo": {
           "bgcolor": "white",
           "lakecolor": "white",
           "landcolor": "#E5ECF6",
           "showlakes": true,
           "showland": true,
           "subunitcolor": "white"
          },
          "hoverlabel": {
           "align": "left"
          },
          "hovermode": "closest",
          "mapbox": {
           "style": "light"
          },
          "paper_bgcolor": "white",
          "plot_bgcolor": "#E5ECF6",
          "polar": {
           "angularaxis": {
            "gridcolor": "white",
            "linecolor": "white",
            "ticks": ""
           },
           "bgcolor": "#E5ECF6",
           "radialaxis": {
            "gridcolor": "white",
            "linecolor": "white",
            "ticks": ""
           }
          },
          "scene": {
           "xaxis": {
            "backgroundcolor": "#E5ECF6",
            "gridcolor": "white",
            "gridwidth": 2,
            "linecolor": "white",
            "showbackground": true,
            "ticks": "",
            "zerolinecolor": "white"
           },
           "yaxis": {
            "backgroundcolor": "#E5ECF6",
            "gridcolor": "white",
            "gridwidth": 2,
            "linecolor": "white",
            "showbackground": true,
            "ticks": "",
            "zerolinecolor": "white"
           },
           "zaxis": {
            "backgroundcolor": "#E5ECF6",
            "gridcolor": "white",
            "gridwidth": 2,
            "linecolor": "white",
            "showbackground": true,
            "ticks": "",
            "zerolinecolor": "white"
           }
          },
          "shapedefaults": {
           "line": {
            "color": "#2a3f5f"
           }
          },
          "ternary": {
           "aaxis": {
            "gridcolor": "white",
            "linecolor": "white",
            "ticks": ""
           },
           "baxis": {
            "gridcolor": "white",
            "linecolor": "white",
            "ticks": ""
           },
           "bgcolor": "#E5ECF6",
           "caxis": {
            "gridcolor": "white",
            "linecolor": "white",
            "ticks": ""
           }
          },
          "title": {
           "x": 0.05
          },
          "xaxis": {
           "automargin": true,
           "gridcolor": "white",
           "linecolor": "white",
           "ticks": "",
           "title": {
            "standoff": 15
           },
           "zerolinecolor": "white",
           "zerolinewidth": 2
          },
          "yaxis": {
           "automargin": true,
           "gridcolor": "white",
           "linecolor": "white",
           "ticks": "",
           "title": {
            "standoff": 15
           },
           "zerolinecolor": "white",
           "zerolinewidth": 2
          }
         }
        },
        "title": {
         "text": "Seasonal decomposition"
        },
        "xaxis": {
         "title": {
          "text": "Time"
         }
        },
        "yaxis": {
         "title": {
          "text": "Price, USD"
         }
        }
       }
      },
      "text/html": [
       "<div>                            <div id=\"000229d5-dc54-4271-89b4-0711fec8a230\" class=\"plotly-graph-div\" style=\"height:525px; width:100%;\"></div>            <script type=\"text/javascript\">                require([\"plotly\"], function(Plotly) {                    window.PLOTLYENV=window.PLOTLYENV || {};                                    if (document.getElementById(\"000229d5-dc54-4271-89b4-0711fec8a230\")) {                    Plotly.newPlot(                        \"000229d5-dc54-4271-89b4-0711fec8a230\",                        [{\"line\": {\"color\": \"rgb(244, 146, 65)\", \"width\": 4}, \"mode\": \"lines\", \"name\": \"Trend\", \"type\": \"scatter\", \"x\": [0, 1, 2, 3, 4, 5, 6, 7, 8, 9, 10, 11, 12, 13, 14, 15, 16, 17, 18, 19, 20, 21, 22, 23, 24, 25, 26, 27, 28, 29, 30, 31, 32, 33, 34, 35, 36, 37, 38, 39, 40, 41, 42, 43, 44, 45, 46, 47, 48, 49, 50, 51, 52, 53, 54, 55, 56, 57, 58, 59, 60, 61, 62, 63, 64, 65, 66, 67, 68, 69, 70, 71, 72, 73, 74, 75, 76, 77, 78, 79, 80, 81, 82, 83, 84, 85, 86, 87, 88, 89, 90, 91, 92, 93, 94, 95, 96, 97, 98, 99, 100, 101, 102, 103, 104, 105, 106, 107, 108, 109, 110, 111, 112, 113, 114, 115, 116, 117, 118, 119, 120, 121, 122, 123, 124, 125, 126, 127, 128, 129, 130, 131, 132, 133, 134, 135, 136, 137, 138, 139, 140, 141, 142, 143, 144, 145, 146, 147, 148, 149, 150, 151, 152, 153, 154, 155, 156, 157, 158, 159, 160, 161, 162, 163, 164, 165, 166, 167, 168, 169, 170, 171, 172, 173, 174, 175, 176, 177, 178, 179, 180, 181, 182, 183, 184, 185, 186, 187, 188, 189, 190, 191, 192, 193, 194, 195, 196, 197, 198, 199, 200, 201, 202, 203, 204, 205, 206, 207, 208, 209, 210, 211, 212, 213, 214, 215, 216, 217, 218, 219, 220, 221, 222, 223, 224, 225, 226, 227, 228, 229, 230, 231, 232, 233, 234, 235, 236, 237, 238, 239, 240, 241, 242, 243, 244, 245, 246, 247, 248, 249, 250, 251, 252, 253, 254, 255, 256, 257, 258, 259, 260, 261, 262, 263, 264, 265, 266, 267, 268, 269, 270, 271, 272, 273, 274, 275, 276, 277, 278, 279, 280, 281, 282, 283, 284, 285, 286, 287, 288, 289, 290, 291, 292, 293, 294, 295, 296, 297, 298, 299, 300, 301, 302, 303, 304, 305, 306, 307, 308, 309, 310, 311, 312, 313, 314, 315, 316, 317, 318, 319, 320, 321, 322, 323, 324, 325, 326, 327, 328, 329, 330, 331, 332, 333, 334, 335, 336, 337, 338, 339, 340, 341, 342, 343, 344, 345, 346, 347, 348, 349, 350, 351, 352, 353, 354, 355, 356, 357, 358, 359, 360, 361, 362, 363, 364, 365, 366, 367, 368, 369, 370, 371, 372, 373, 374, 375, 376, 377, 378, 379, 380, 381, 382, 383, 384, 385, 386, 387, 388, 389, 390, 391, 392, 393, 394, 395, 396, 397, 398, 399, 400, 401, 402, 403, 404, 405, 406, 407, 408, 409, 410, 411, 412, 413, 414, 415, 416, 417, 418, 419, 420, 421, 422, 423, 424, 425, 426, 427, 428, 429, 430, 431, 432, 433, 434, 435, 436, 437, 438, 439, 440, 441, 442, 443, 444, 445, 446, 447, 448, 449, 450, 451, 452, 453, 454, 455, 456, 457, 458, 459, 460, 461, 462, 463, 464, 465, 466, 467, 468, 469, 470, 471, 472, 473, 474, 475, 476, 477, 478, 479, 480, 481, 482, 483, 484, 485, 486, 487, 488, 489, 490, 491, 492, 493, 494, 495, 496, 497, 498, 499, 500, 501, 502, 503, 504, 505, 506, 507, 508, 509, 510, 511, 512, 513, 514, 515, 516, 517, 518, 519, 520, 521, 522, 523, 524, 525, 526, 527, 528, 529, 530, 531, 532, 533, 534, 535, 536, 537, 538, 539, 540, 541, 542, 543, 544, 545, 546, 547, 548, 549, 550, 551, 552, 553, 554, 555, 556, 557, 558, 559, 560, 561, 562, 563, 564, 565, 566, 567, 568, 569, 570, 571, 572, 573, 574, 575, 576, 577, 578, 579, 580, 581, 582, 583, 584, 585, 586, 587, 588, 589, 590, 591, 592, 593, 594, 595, 596, 597, 598, 599, 600, 601, 602, 603, 604, 605, 606, 607, 608, 609, 610, 611, 612, 613, 614, 615, 616, 617, 618, 619, 620, 621, 622, 623, 624, 625, 626, 627, 628, 629, 630, 631, 632, 633, 634, 635, 636, 637, 638, 639, 640, 641, 642, 643, 644, 645, 646, 647, 648, 649, 650, 651, 652, 653, 654, 655, 656, 657, 658, 659], \"y\": [null, null, null, null, null, null, null, null, null, null, null, null, null, null, null, null, null, null, null, null, null, null, null, null, null, null, null, null, null, null, 10559.593730450304, 10618.124266317984, 10672.852338798893, 10722.935145301308, 10760.395770001409, 10782.285691360383, 10798.207922701144, 10816.030358790209, 10835.099897335791, 10855.15736248191, 10873.599537950007, 10877.099512507253, 10866.838867285256, 10856.140744621258, 10841.611964544252, 10810.751958847046, 10777.403548152719, 10752.696185113266, 10725.047282549393, 10693.08707734954, 10666.61291532306, 10651.079557764902, 10630.838305815494, 10601.448984767956, 10581.23672101441, 10568.995343530076, 10555.67598509671, 10540.00183640569, 10513.143747521093, 10477.5043295125, 10448.584875556298, 10426.534699929409, 10403.795332672089, 10387.109755929918, 10380.959787810973, 10380.005869817698, 10386.05152918451, 10393.86519050236, 10393.387541164771, 10387.211343464553, 10378.266183899112, 10371.067328990981, 10368.49830333395, 10370.530591001483, 10371.670919700018, 10367.57971247622, 10353.989987236017, 10333.05115069366, 10310.271608223173, 10286.256496532304, 10259.877726475983, 10228.242050288054, 10193.865217543214, 10155.198290369703, 10112.671376292039, 10061.796656274142, 10001.974953987974, 9940.467867186195, 9878.035729069037, 9816.616154795343, 9759.534675819514, 9709.055943639209, 9660.60782560496, 9612.276034456228, 9571.579290695008, 9540.055054716186, 9509.47753757217, 9474.491486709345, 9437.062337729556, 9396.125198137628, 9350.747433134216, 9309.360847949047, 9276.046814027677, 9243.647281423886, 9206.28875683404, 9164.04297848745, 9121.411998423433, 9093.746735819794, 9081.379606297127, 9075.780150815364, 9074.164789000208, 9069.568057740395, 9062.448479832587, 9052.033170723795, 9035.05792821484, 9013.4974255897, 8991.383489899112, 8969.521236546145, 8949.47769660968, 8930.20606117136, 8908.992726857265, 8886.2223174651, 8864.74671040821, 8843.131375956367, 8818.055238952722, 8791.586137440521, 8764.46127241077, 8736.345106569062, 8707.514732673577, 8678.951944940594, 8651.522229724944, 8620.942864316517, 8587.620716567924, 8553.69287149181, 8514.799856859468, 8475.496385037779, 8446.466063094058, 8424.861656006027, 8406.628731176841, 8391.58719356437, 8379.43370877861, 8370.99762503442, 8361.254941919711, 8347.81500718242, 8332.484654018088, 8317.792194277976, 8303.969280005527, 8291.61637163845, 8280.891882416645, 8269.953925060245, 8257.286990360093, 8241.095087846945, 8222.776463005504, 8204.262091659984, 8185.015118570696, 8166.1178734703335, 8147.940995746503, 8130.652527999207, 8114.1960506809955, 8096.090755011552, 8076.408239717807, 8059.230753743596, 8043.033573657657, 8025.343345108162, 8012.346787720136, 8008.560023779709, 8004.1416085606415, 7981.708317684524, 7945.875510388727, 7908.568077913695, 7872.155149643725, 7839.385949307507, 7808.366668859467, 7776.443830140802, 7742.767365320817, 7707.514463357352, 7672.645028211347, 7638.801263667406, 7606.069309156325, 7575.991172589972, 7553.054869680028, 7539.522596173732, 7526.413090760704, 7510.556335341372, 7497.842069270871, 7487.36581449207, 7477.457601836905, 7473.142661849778, 7475.714688266436, 7479.331863211601, 7484.617817569663, 7495.03645108799, 7507.745135055753, 7520.62867804058, 7538.142677566184, 7560.872376736836, 7583.478752674031, 7606.070409507251, 7627.754278916671, 7647.40957117798, 7667.237399106925, 7689.162160514985, 7715.052795607298, 7745.843215735744, 7779.595910033794, 7813.647041192398, 7848.2595146572885, 7882.43878019569, 7914.099128937382, 7944.668449085684, 7978.537454053314, 8016.117670520166, 8056.35370573703, 8101.208408102222, 8148.043279527358, 8193.717638577224, 8242.973305049249, 8296.10988127836, 8349.65758246987, 8404.515154162127, 8458.589197590909, 8506.151879694891, 8550.051054543927, 8597.101538693974, 8641.3057875794, 8679.13719078582, 8717.051675027918, 8758.912393493398, 8802.022239310923, 8842.122613470234, 8875.729998377716, 8902.273663962234, 8926.032978823127, 8950.097626013889, 8973.835559663938, 8999.139820666733, 9026.209627554907, 9051.313598290546, 9076.5551760944, 9102.838995080658, 9125.240893453782, 9137.392225733762, 9140.04036858891, 9140.403883693767, 9138.709745363, 9124.474306349235, 9089.028021931646, 9039.251904836821, 8984.190775521274, 8924.757395524435, 8864.52100691141, 8804.972846699047, 8749.23372417847, 8704.521519771144, 8664.851256225302, 8623.096209219253, 8582.56968114384, 8548.738274986303, 8520.492559763645, 8492.010922952275, 8460.428483529013, 8420.05117035681, 8369.717978268949, 8317.027711690875, 8267.134889156177, 8217.513714959761, 8169.8754613789115, 8126.807583318941, 8085.59806766807, 8043.630955369204, 8000.266800042578, 7958.134614932147, 7916.724629715313, 7872.671202456208, 7824.960116012169, 7774.659277967603, 7720.685807893431, 7662.98120232134, 7605.383294911967, 7549.36314412798, 7496.563884360466, 7449.567608650853, 7405.057991622452, 7358.188301698477, 7312.658176586863, 7268.038338000753, 7222.397464979282, 7178.891853083338, 7139.059741943963, 7104.403724339788, 7076.279292207475, 7055.364087385686, 7038.2989409158945, 7026.564622531302, 7025.702844049035, 7028.820496239178, 7029.818304545968, 7032.330348728302, 7032.093366904871, 7028.6393126067, 7028.165567528956, 7036.772214086862, 7061.477947481207, 7093.322489775863, 7115.126617903873, 7139.105153427513, 7185.104950834717, 7244.4029498874725, 7310.336906151988, 7383.7936950810135, 7455.697423567958, 7525.960774862141, 7595.1141938384335, 7655.662206728324, 7712.417776565194, 7767.824728747397, 7819.206950208325, 7865.634232035601, 7907.380009276333, 7945.7501848600705, 7981.707265142429, 8023.120900010049, 8073.278660887886, 8126.58366756963, 8178.545746455323, 8230.993847091784, 8281.818975691642, 8331.206763956347, 8379.909305211064, 8427.261856915073, 8473.54171283419, 8514.948065992157, 8553.570189716027, 8593.039738206853, 8636.044035459345, 8683.188412373216, 8729.882880066209, 8774.428089148258, 8817.776651252434, 8860.665699202551, 8901.783679781965, 8941.379179722198, 8980.632707283838, 9018.366185471408, 9055.994096888957, 9095.248014508263, 9135.051841404811, 9172.721995699752, 9208.51332320321, 9241.91983947596, 9271.252254193718, 9297.02174300539, 9320.68775095138, 9338.902891594435, 9347.506076707512, 9352.406325822329, 9358.10661578555, 9362.306965812284, 9366.535694722008, 9370.553289523503, 9371.041879729348, 9367.889595939389, 9360.127229047894, 9351.494466433714, 9353.658558720594, 9363.107919642545, 9371.093384036458, 9376.660862356577, 9375.86864734465, 9370.84985551348, 9366.802322476282, 9361.14810563394, 9352.120191338649, 9342.99477047185, 9334.460645566225, 9329.314106737318, 9330.004862998558, 9332.878150510769, 9337.731133790421, 9347.398504249015, 9359.882479550108, 9372.917839161608, 9388.904985507757, 9410.948259422152, 9436.948293560616, 9462.581240895885, 9488.39620627587, 9516.2367078211, 9545.501432790623, 9573.308846310167, 9598.779811789267, 9626.529758823248, 9659.578987767623, 9693.981412526893, 9727.007942028402, 9759.140191151202, 9793.669983673988, 9831.013340703821, 9866.496130235528, 9901.367430892242, 9940.18915910961, 9980.973385251296, 10020.902268017915, 10063.053728101362, 10108.786085895921, 10153.234154860016, 10194.461450957911, 10233.740292668124, 10268.604988858404, 10302.836588196871, 10341.908585862579, 10382.147723321596, 10420.6912552439, 10458.931819836032, 10497.404184495641, 10536.429978617507, 10576.209026762359, 10617.343566251815, 10661.507876084645, 10705.385083907291, 10742.564167206725, 10768.83196617034, 10786.94951918913, 10802.400050850738, 10816.46034554078, 10831.278920431752, 10847.074436512514, 10864.068611545728, 10881.690491232783, 10899.839164320589, 10919.216874518583, 10940.494226395798, 10965.663381186596, 10993.763383244359, 11022.685597109325, 11051.730847781204, 11080.499137043184, 11107.615902097532, 11129.993187709388, 11147.047091571429, 11161.383969281107, 11173.239516054358, 11180.310049044305, 11180.033754475826, 11174.637160767565, 11170.190525152648, 11165.01151395953, 11153.878365633282, 11141.816549733148, 11130.940282906477, 11119.10256217713, 11106.151947526992, 11090.230803598668, 11073.004879277492, 11055.662449098994, 11038.982354712849, 11023.53052747601, 11013.406575915935, 11010.061643772755, 11008.340363018462, 11004.934766625562, 10998.46291131966, 10990.903311719054, 10981.510074525748, 10968.90888662682, 10958.965492687772, 10954.09203302489, 10953.167895150642, 10961.50355049003, 10979.914165342407, 11000.828595202704, 11023.519790391547, 11049.975127123722, 11078.080567220231, 11108.470031505874, 11140.65891376524, 11171.150839580958, 11200.08639365432, 11230.20550645483, 11264.014593923588, 11303.60978778392, 11351.771237019218, 11408.883851073828, 11476.886903538132, 11559.817156831603, 11648.314069914004, 11733.403857418163, 11817.211962841198, 11901.100224228414, 11986.470861528374, 12076.093125825557, 12170.372270513933, 12262.327110670763, 12348.629517280217, 12436.801905124938, 12533.787656164286, 12642.366133094098, 12757.352861786143, 12878.91090197386, 13011.435224243285, 13146.822164935764, 13280.188248089715, 13415.124748976197, 13552.884212833742, 13677.991848071835, 13784.51092041647, 13890.277042152893, 14005.552060312517, 14133.952451090478, 14274.73665153859, 14417.569796568396, 14559.913983458313, 14702.362663980279, 14841.655036319962, 14981.845309594024, 15123.416574309738, 15260.277107384518, 15384.36064021169, 15499.976039801408, 15611.911688405984, 15724.507722941758, 15847.252127848706, 15976.033916624881, 16107.150886347996, 16246.49872636434, 16412.547413116725, 16599.9575643815, 16790.0622830845, 16978.819556362767, 17157.666807154907, 17328.42103638835, 17500.628333495468, 17672.82339930832, 17848.75432013474, 18039.15188034631, 18251.633457480442, 18478.568648932418, 18702.474425929442, 18932.79347696295, 19178.749920164726, 19435.446669191282, 19709.08450978998, 20015.017829650085, 20320.795457129923, 20602.59511500945, 20904.695578796138, 21258.253244879867, 21652.341134654263, 22064.789298132982, 22474.80319976446, 22828.826476603852, 23136.31516039146, 23446.26512537202, 23789.24030086334, 24152.644376765296, 24493.105535960116, 24805.817572862474, 25105.561655207275, 25411.608473285316, 25702.974200822184, 25960.959642006997, 26193.707314855506, 26417.889920621186, 26640.04002961463, 26882.80119613441, 27140.898707420904, 27381.286053540796, 27611.615999552974, 27861.119786352374, 28118.844623757854, 28362.89641921174, 28603.901726319033, 28854.02857221164, 29130.41877754984, 29430.180568322034, 29737.075987408407, 30064.603573771758, 30408.92374332331, 30770.087176309207, 31200.425549474236, 31667.709657543044, 32121.760558407004, 32585.104306752608, 33054.79871353769, 33525.165514994194, 33973.2349668968, 34399.95261455575, 34845.89903622649, 35311.33168590849, 35795.69261695299, 36320.67487035906, 36876.37066815565, 37418.02980106629, 37888.375647990186, 38300.755777468024, 38696.3809491234, 39051.662181576175, 39386.254677495854, 39695.724786703955, 39991.0349964153, 40308.43896662928, 40633.442999023755, 40930.13389365685, 41195.07063105626, 41461.40376642096, 41723.16772517631, 41956.86879319626, 42181.07006205756, 42424.013726025245, 42686.72468935653, 43012.51443495483, 43400.11278029059, 43814.64795941294, 44187.82419196406, 44495.07964741974, 44804.964978986594, 45156.100113117944, 45531.58951633548, 45899.574799313974, 46266.91413214584, 46650.23027550334, 47039.233661917446, 47419.354573813645, 47774.927848970015, 48106.46589945754, 48465.49996499108, 48864.49725879133, 49279.527665764515, 49682.990614358205, 50083.04129102667, null, null, null, null, null, null, null, null, null, null, null, null, null, null, null, null, null, null, null, null, null, null, null, null, null, null, null, null, null, null]}, {\"line\": {\"color\": \"rgb(66, 244, 155)\", \"width\": 2}, \"mode\": \"lines\", \"name\": \"Seasonal\", \"type\": \"scatter\", \"x\": [0, 1, 2, 3, 4, 5, 6, 7, 8, 9, 10, 11, 12, 13, 14, 15, 16, 17, 18, 19, 20, 21, 22, 23, 24, 25, 26, 27, 28, 29, 30, 31, 32, 33, 34, 35, 36, 37, 38, 39, 40, 41, 42, 43, 44, 45, 46, 47, 48, 49, 50, 51, 52, 53, 54, 55, 56, 57, 58, 59, 60, 61, 62, 63, 64, 65, 66, 67, 68, 69, 70, 71, 72, 73, 74, 75, 76, 77, 78, 79, 80, 81, 82, 83, 84, 85, 86, 87, 88, 89, 90, 91, 92, 93, 94, 95, 96, 97, 98, 99, 100, 101, 102, 103, 104, 105, 106, 107, 108, 109, 110, 111, 112, 113, 114, 115, 116, 117, 118, 119, 120, 121, 122, 123, 124, 125, 126, 127, 128, 129, 130, 131, 132, 133, 134, 135, 136, 137, 138, 139, 140, 141, 142, 143, 144, 145, 146, 147, 148, 149, 150, 151, 152, 153, 154, 155, 156, 157, 158, 159, 160, 161, 162, 163, 164, 165, 166, 167, 168, 169, 170, 171, 172, 173, 174, 175, 176, 177, 178, 179, 180, 181, 182, 183, 184, 185, 186, 187, 188, 189, 190, 191, 192, 193, 194, 195, 196, 197, 198, 199, 200, 201, 202, 203, 204, 205, 206, 207, 208, 209, 210, 211, 212, 213, 214, 215, 216, 217, 218, 219, 220, 221, 222, 223, 224, 225, 226, 227, 228, 229, 230, 231, 232, 233, 234, 235, 236, 237, 238, 239, 240, 241, 242, 243, 244, 245, 246, 247, 248, 249, 250, 251, 252, 253, 254, 255, 256, 257, 258, 259, 260, 261, 262, 263, 264, 265, 266, 267, 268, 269, 270, 271, 272, 273, 274, 275, 276, 277, 278, 279, 280, 281, 282, 283, 284, 285, 286, 287, 288, 289, 290, 291, 292, 293, 294, 295, 296, 297, 298, 299, 300, 301, 302, 303, 304, 305, 306, 307, 308, 309, 310, 311, 312, 313, 314, 315, 316, 317, 318, 319, 320, 321, 322, 323, 324, 325, 326, 327, 328, 329, 330, 331, 332, 333, 334, 335, 336, 337, 338, 339, 340, 341, 342, 343, 344, 345, 346, 347, 348, 349, 350, 351, 352, 353, 354, 355, 356, 357, 358, 359, 360, 361, 362, 363, 364, 365, 366, 367, 368, 369, 370, 371, 372, 373, 374, 375, 376, 377, 378, 379, 380, 381, 382, 383, 384, 385, 386, 387, 388, 389, 390, 391, 392, 393, 394, 395, 396, 397, 398, 399, 400, 401, 402, 403, 404, 405, 406, 407, 408, 409, 410, 411, 412, 413, 414, 415, 416, 417, 418, 419, 420, 421, 422, 423, 424, 425, 426, 427, 428, 429, 430, 431, 432, 433, 434, 435, 436, 437, 438, 439, 440, 441, 442, 443, 444, 445, 446, 447, 448, 449, 450, 451, 452, 453, 454, 455, 456, 457, 458, 459, 460, 461, 462, 463, 464, 465, 466, 467, 468, 469, 470, 471, 472, 473, 474, 475, 476, 477, 478, 479, 480, 481, 482, 483, 484, 485, 486, 487, 488, 489, 490, 491, 492, 493, 494, 495, 496, 497, 498, 499, 500, 501, 502, 503, 504, 505, 506, 507, 508, 509, 510, 511, 512, 513, 514, 515, 516, 517, 518, 519, 520, 521, 522, 523, 524, 525, 526, 527, 528, 529, 530, 531, 532, 533, 534, 535, 536, 537, 538, 539, 540, 541, 542, 543, 544, 545, 546, 547, 548, 549, 550, 551, 552, 553, 554, 555, 556, 557, 558, 559, 560, 561, 562, 563, 564, 565, 566, 567, 568, 569, 570, 571, 572, 573, 574, 575, 576, 577, 578, 579, 580, 581, 582, 583, 584, 585, 586, 587, 588, 589, 590, 591, 592, 593, 594, 595, 596, 597, 598, 599, 600, 601, 602, 603, 604, 605, 606, 607, 608, 609, 610, 611, 612, 613, 614, 615, 616, 617, 618, 619, 620, 621, 622, 623, 624, 625, 626, 627, 628, 629, 630, 631, 632, 633, 634, 635, 636, 637, 638, 639, 640, 641, 642, 643, 644, 645, 646, 647, 648, 649, 650, 651, 652, 653, 654, 655, 656, 657, 658, 659], \"y\": [-536.4620532812067, -494.1057471759426, -464.67680221961814, -361.55289850925124, -444.84959661307414, -526.8283874811601, -310.59505680686857, -620.8362688185907, -453.700376309557, -21.20357253141411, -129.0038152147109, -78.439162789513, -3.052009939819442, -41.06145184225488, -25.187581262786352, 33.285014075018985, 157.91410678491656, 533.6444943111675, 637.3564082295334, 604.606718480462, 781.9705147564753, 786.8596963432973, 421.26340688711775, -83.36018318385797, 222.13973812548764, 357.72950932402796, -21.29710311861291, -25.8955047904211, -152.8547496533982, 126.4731755549381, 419.63919018266654, 466.29434422326085, 633.4855106913599, 444.81307600068794, 386.75647042288347, 445.27601313220543, 485.2449004329824, 758.8487067351482, 850.510081065163, 732.8543590445105, 156.6736719863703, 195.13337647781609, 118.48003965445386, 418.7322381974757, 241.66327359565574, 74.94567250460149, -155.2719817779971, -192.45408977338067, -146.08188703971874, -361.4884581878566, -594.3493171743354, -721.1554718276685, -505.2283705453905, -481.6448096117457, -569.1812478729709, -730.3471854028727, -796.9215910438103, -659.1234971028271, -350.8744308220788, -433.5090474949719, -536.4620532812067, -494.1057471759426, -464.67680221961814, -361.55289850925124, -444.84959661307414, -526.8283874811601, -310.59505680686857, -620.8362688185907, -453.700376309557, -21.20357253141411, -129.0038152147109, -78.439162789513, -3.052009939819442, -41.06145184225488, -25.187581262786352, 33.285014075018985, 157.91410678491656, 533.6444943111675, 637.3564082295334, 604.606718480462, 781.9705147564753, 786.8596963432973, 421.26340688711775, -83.36018318385797, 222.13973812548764, 357.72950932402796, -21.29710311861291, -25.8955047904211, -152.8547496533982, 126.4731755549381, 419.63919018266654, 466.29434422326085, 633.4855106913599, 444.81307600068794, 386.75647042288347, 445.27601313220543, 485.2449004329824, 758.8487067351482, 850.510081065163, 732.8543590445105, 156.6736719863703, 195.13337647781609, 118.48003965445386, 418.7322381974757, 241.66327359565574, 74.94567250460149, -155.2719817779971, -192.45408977338067, -146.08188703971874, -361.4884581878566, -594.3493171743354, -721.1554718276685, -505.2283705453905, -481.6448096117457, -569.1812478729709, -730.3471854028727, -796.9215910438103, -659.1234971028271, -350.8744308220788, -433.5090474949719, -536.4620532812067, -494.1057471759426, -464.67680221961814, -361.55289850925124, -444.84959661307414, -526.8283874811601, -310.59505680686857, -620.8362688185907, -453.700376309557, -21.20357253141411, -129.0038152147109, -78.439162789513, -3.052009939819442, -41.06145184225488, -25.187581262786352, 33.285014075018985, 157.91410678491656, 533.6444943111675, 637.3564082295334, 604.606718480462, 781.9705147564753, 786.8596963432973, 421.26340688711775, -83.36018318385797, 222.13973812548764, 357.72950932402796, -21.29710311861291, -25.8955047904211, -152.8547496533982, 126.4731755549381, 419.63919018266654, 466.29434422326085, 633.4855106913599, 444.81307600068794, 386.75647042288347, 445.27601313220543, 485.2449004329824, 758.8487067351482, 850.510081065163, 732.8543590445105, 156.6736719863703, 195.13337647781609, 118.48003965445386, 418.7322381974757, 241.66327359565574, 74.94567250460149, -155.2719817779971, -192.45408977338067, -146.08188703971874, -361.4884581878566, -594.3493171743354, -721.1554718276685, -505.2283705453905, -481.6448096117457, -569.1812478729709, -730.3471854028727, -796.9215910438103, -659.1234971028271, -350.8744308220788, -433.5090474949719, -536.4620532812067, -494.1057471759426, -464.67680221961814, -361.55289850925124, -444.84959661307414, -526.8283874811601, -310.59505680686857, -620.8362688185907, -453.700376309557, -21.20357253141411, -129.0038152147109, -78.439162789513, -3.052009939819442, -41.06145184225488, -25.187581262786352, 33.285014075018985, 157.91410678491656, 533.6444943111675, 637.3564082295334, 604.606718480462, 781.9705147564753, 786.8596963432973, 421.26340688711775, -83.36018318385797, 222.13973812548764, 357.72950932402796, -21.29710311861291, -25.8955047904211, -152.8547496533982, 126.4731755549381, 419.63919018266654, 466.29434422326085, 633.4855106913599, 444.81307600068794, 386.75647042288347, 445.27601313220543, 485.2449004329824, 758.8487067351482, 850.510081065163, 732.8543590445105, 156.6736719863703, 195.13337647781609, 118.48003965445386, 418.7322381974757, 241.66327359565574, 74.94567250460149, -155.2719817779971, -192.45408977338067, -146.08188703971874, -361.4884581878566, -594.3493171743354, -721.1554718276685, -505.2283705453905, -481.6448096117457, -569.1812478729709, -730.3471854028727, -796.9215910438103, -659.1234971028271, -350.8744308220788, -433.5090474949719, -536.4620532812067, -494.1057471759426, -464.67680221961814, -361.55289850925124, -444.84959661307414, -526.8283874811601, -310.59505680686857, -620.8362688185907, -453.700376309557, -21.20357253141411, -129.0038152147109, -78.439162789513, -3.052009939819442, -41.06145184225488, -25.187581262786352, 33.285014075018985, 157.91410678491656, 533.6444943111675, 637.3564082295334, 604.606718480462, 781.9705147564753, 786.8596963432973, 421.26340688711775, -83.36018318385797, 222.13973812548764, 357.72950932402796, -21.29710311861291, -25.8955047904211, -152.8547496533982, 126.4731755549381, 419.63919018266654, 466.29434422326085, 633.4855106913599, 444.81307600068794, 386.75647042288347, 445.27601313220543, 485.2449004329824, 758.8487067351482, 850.510081065163, 732.8543590445105, 156.6736719863703, 195.13337647781609, 118.48003965445386, 418.7322381974757, 241.66327359565574, 74.94567250460149, -155.2719817779971, -192.45408977338067, -146.08188703971874, -361.4884581878566, -594.3493171743354, -721.1554718276685, -505.2283705453905, -481.6448096117457, -569.1812478729709, -730.3471854028727, -796.9215910438103, -659.1234971028271, -350.8744308220788, -433.5090474949719, -536.4620532812067, -494.1057471759426, -464.67680221961814, -361.55289850925124, -444.84959661307414, -526.8283874811601, -310.59505680686857, -620.8362688185907, -453.700376309557, -21.20357253141411, -129.0038152147109, -78.439162789513, -3.052009939819442, -41.06145184225488, -25.187581262786352, 33.285014075018985, 157.91410678491656, 533.6444943111675, 637.3564082295334, 604.606718480462, 781.9705147564753, 786.8596963432973, 421.26340688711775, -83.36018318385797, 222.13973812548764, 357.72950932402796, -21.29710311861291, -25.8955047904211, -152.8547496533982, 126.4731755549381, 419.63919018266654, 466.29434422326085, 633.4855106913599, 444.81307600068794, 386.75647042288347, 445.27601313220543, 485.2449004329824, 758.8487067351482, 850.510081065163, 732.8543590445105, 156.6736719863703, 195.13337647781609, 118.48003965445386, 418.7322381974757, 241.66327359565574, 74.94567250460149, -155.2719817779971, -192.45408977338067, -146.08188703971874, -361.4884581878566, -594.3493171743354, -721.1554718276685, -505.2283705453905, -481.6448096117457, -569.1812478729709, -730.3471854028727, -796.9215910438103, -659.1234971028271, -350.8744308220788, -433.5090474949719, -536.4620532812067, -494.1057471759426, -464.67680221961814, -361.55289850925124, -444.84959661307414, -526.8283874811601, -310.59505680686857, -620.8362688185907, -453.700376309557, -21.20357253141411, -129.0038152147109, -78.439162789513, -3.052009939819442, -41.06145184225488, -25.187581262786352, 33.285014075018985, 157.91410678491656, 533.6444943111675, 637.3564082295334, 604.606718480462, 781.9705147564753, 786.8596963432973, 421.26340688711775, -83.36018318385797, 222.13973812548764, 357.72950932402796, -21.29710311861291, -25.8955047904211, -152.8547496533982, 126.4731755549381, 419.63919018266654, 466.29434422326085, 633.4855106913599, 444.81307600068794, 386.75647042288347, 445.27601313220543, 485.2449004329824, 758.8487067351482, 850.510081065163, 732.8543590445105, 156.6736719863703, 195.13337647781609, 118.48003965445386, 418.7322381974757, 241.66327359565574, 74.94567250460149, -155.2719817779971, -192.45408977338067, -146.08188703971874, -361.4884581878566, -594.3493171743354, -721.1554718276685, -505.2283705453905, -481.6448096117457, -569.1812478729709, -730.3471854028727, -796.9215910438103, -659.1234971028271, -350.8744308220788, -433.5090474949719, -536.4620532812067, -494.1057471759426, -464.67680221961814, -361.55289850925124, -444.84959661307414, -526.8283874811601, -310.59505680686857, -620.8362688185907, -453.700376309557, -21.20357253141411, -129.0038152147109, -78.439162789513, -3.052009939819442, -41.06145184225488, -25.187581262786352, 33.285014075018985, 157.91410678491656, 533.6444943111675, 637.3564082295334, 604.606718480462, 781.9705147564753, 786.8596963432973, 421.26340688711775, -83.36018318385797, 222.13973812548764, 357.72950932402796, -21.29710311861291, -25.8955047904211, -152.8547496533982, 126.4731755549381, 419.63919018266654, 466.29434422326085, 633.4855106913599, 444.81307600068794, 386.75647042288347, 445.27601313220543, 485.2449004329824, 758.8487067351482, 850.510081065163, 732.8543590445105, 156.6736719863703, 195.13337647781609, 118.48003965445386, 418.7322381974757, 241.66327359565574, 74.94567250460149, -155.2719817779971, -192.45408977338067, -146.08188703971874, -361.4884581878566, -594.3493171743354, -721.1554718276685, -505.2283705453905, -481.6448096117457, -569.1812478729709, -730.3471854028727, -796.9215910438103, -659.1234971028271, -350.8744308220788, -433.5090474949719, -536.4620532812067, -494.1057471759426, -464.67680221961814, -361.55289850925124, -444.84959661307414, -526.8283874811601, -310.59505680686857, -620.8362688185907, -453.700376309557, -21.20357253141411, -129.0038152147109, -78.439162789513, -3.052009939819442, -41.06145184225488, -25.187581262786352, 33.285014075018985, 157.91410678491656, 533.6444943111675, 637.3564082295334, 604.606718480462, 781.9705147564753, 786.8596963432973, 421.26340688711775, -83.36018318385797, 222.13973812548764, 357.72950932402796, -21.29710311861291, -25.8955047904211, -152.8547496533982, 126.4731755549381, 419.63919018266654, 466.29434422326085, 633.4855106913599, 444.81307600068794, 386.75647042288347, 445.27601313220543, 485.2449004329824, 758.8487067351482, 850.510081065163, 732.8543590445105, 156.6736719863703, 195.13337647781609, 118.48003965445386, 418.7322381974757, 241.66327359565574, 74.94567250460149, -155.2719817779971, -192.45408977338067, -146.08188703971874, -361.4884581878566, -594.3493171743354, -721.1554718276685, -505.2283705453905, -481.6448096117457, -569.1812478729709, -730.3471854028727, -796.9215910438103, -659.1234971028271, -350.8744308220788, -433.5090474949719, -536.4620532812067, -494.1057471759426, -464.67680221961814, -361.55289850925124, -444.84959661307414, -526.8283874811601, -310.59505680686857, -620.8362688185907, -453.700376309557, -21.20357253141411, -129.0038152147109, -78.439162789513, -3.052009939819442, -41.06145184225488, -25.187581262786352, 33.285014075018985, 157.91410678491656, 533.6444943111675, 637.3564082295334, 604.606718480462, 781.9705147564753, 786.8596963432973, 421.26340688711775, -83.36018318385797, 222.13973812548764, 357.72950932402796, -21.29710311861291, -25.8955047904211, -152.8547496533982, 126.4731755549381, 419.63919018266654, 466.29434422326085, 633.4855106913599, 444.81307600068794, 386.75647042288347, 445.27601313220543, 485.2449004329824, 758.8487067351482, 850.510081065163, 732.8543590445105, 156.6736719863703, 195.13337647781609, 118.48003965445386, 418.7322381974757, 241.66327359565574, 74.94567250460149, -155.2719817779971, -192.45408977338067, -146.08188703971874, -361.4884581878566, -594.3493171743354, -721.1554718276685, -505.2283705453905, -481.6448096117457, -569.1812478729709, -730.3471854028727, -796.9215910438103, -659.1234971028271, -350.8744308220788, -433.5090474949719, -536.4620532812067, -494.1057471759426, -464.67680221961814, -361.55289850925124, -444.84959661307414, -526.8283874811601, -310.59505680686857, -620.8362688185907, -453.700376309557, -21.20357253141411, -129.0038152147109, -78.439162789513, -3.052009939819442, -41.06145184225488, -25.187581262786352, 33.285014075018985, 157.91410678491656, 533.6444943111675, 637.3564082295334, 604.606718480462, 781.9705147564753, 786.8596963432973, 421.26340688711775, -83.36018318385797, 222.13973812548764, 357.72950932402796, -21.29710311861291, -25.8955047904211, -152.8547496533982, 126.4731755549381, 419.63919018266654, 466.29434422326085, 633.4855106913599, 444.81307600068794, 386.75647042288347, 445.27601313220543, 485.2449004329824, 758.8487067351482, 850.510081065163, 732.8543590445105, 156.6736719863703, 195.13337647781609, 118.48003965445386, 418.7322381974757, 241.66327359565574, 74.94567250460149, -155.2719817779971, -192.45408977338067, -146.08188703971874, -361.4884581878566, -594.3493171743354, -721.1554718276685, -505.2283705453905, -481.6448096117457, -569.1812478729709, -730.3471854028727, -796.9215910438103, -659.1234971028271, -350.8744308220788, -433.5090474949719]}, {\"line\": {\"color\": \"rgb(209, 244, 66)\", \"width\": 2}, \"mode\": \"lines\", \"name\": \"Residual\", \"type\": \"scatter\", \"x\": [0, 1, 2, 3, 4, 5, 6, 7, 8, 9, 10, 11, 12, 13, 14, 15, 16, 17, 18, 19, 20, 21, 22, 23, 24, 25, 26, 27, 28, 29, 30, 31, 32, 33, 34, 35, 36, 37, 38, 39, 40, 41, 42, 43, 44, 45, 46, 47, 48, 49, 50, 51, 52, 53, 54, 55, 56, 57, 58, 59, 60, 61, 62, 63, 64, 65, 66, 67, 68, 69, 70, 71, 72, 73, 74, 75, 76, 77, 78, 79, 80, 81, 82, 83, 84, 85, 86, 87, 88, 89, 90, 91, 92, 93, 94, 95, 96, 97, 98, 99, 100, 101, 102, 103, 104, 105, 106, 107, 108, 109, 110, 111, 112, 113, 114, 115, 116, 117, 118, 119, 120, 121, 122, 123, 124, 125, 126, 127, 128, 129, 130, 131, 132, 133, 134, 135, 136, 137, 138, 139, 140, 141, 142, 143, 144, 145, 146, 147, 148, 149, 150, 151, 152, 153, 154, 155, 156, 157, 158, 159, 160, 161, 162, 163, 164, 165, 166, 167, 168, 169, 170, 171, 172, 173, 174, 175, 176, 177, 178, 179, 180, 181, 182, 183, 184, 185, 186, 187, 188, 189, 190, 191, 192, 193, 194, 195, 196, 197, 198, 199, 200, 201, 202, 203, 204, 205, 206, 207, 208, 209, 210, 211, 212, 213, 214, 215, 216, 217, 218, 219, 220, 221, 222, 223, 224, 225, 226, 227, 228, 229, 230, 231, 232, 233, 234, 235, 236, 237, 238, 239, 240, 241, 242, 243, 244, 245, 246, 247, 248, 249, 250, 251, 252, 253, 254, 255, 256, 257, 258, 259, 260, 261, 262, 263, 264, 265, 266, 267, 268, 269, 270, 271, 272, 273, 274, 275, 276, 277, 278, 279, 280, 281, 282, 283, 284, 285, 286, 287, 288, 289, 290, 291, 292, 293, 294, 295, 296, 297, 298, 299, 300, 301, 302, 303, 304, 305, 306, 307, 308, 309, 310, 311, 312, 313, 314, 315, 316, 317, 318, 319, 320, 321, 322, 323, 324, 325, 326, 327, 328, 329, 330, 331, 332, 333, 334, 335, 336, 337, 338, 339, 340, 341, 342, 343, 344, 345, 346, 347, 348, 349, 350, 351, 352, 353, 354, 355, 356, 357, 358, 359, 360, 361, 362, 363, 364, 365, 366, 367, 368, 369, 370, 371, 372, 373, 374, 375, 376, 377, 378, 379, 380, 381, 382, 383, 384, 385, 386, 387, 388, 389, 390, 391, 392, 393, 394, 395, 396, 397, 398, 399, 400, 401, 402, 403, 404, 405, 406, 407, 408, 409, 410, 411, 412, 413, 414, 415, 416, 417, 418, 419, 420, 421, 422, 423, 424, 425, 426, 427, 428, 429, 430, 431, 432, 433, 434, 435, 436, 437, 438, 439, 440, 441, 442, 443, 444, 445, 446, 447, 448, 449, 450, 451, 452, 453, 454, 455, 456, 457, 458, 459, 460, 461, 462, 463, 464, 465, 466, 467, 468, 469, 470, 471, 472, 473, 474, 475, 476, 477, 478, 479, 480, 481, 482, 483, 484, 485, 486, 487, 488, 489, 490, 491, 492, 493, 494, 495, 496, 497, 498, 499, 500, 501, 502, 503, 504, 505, 506, 507, 508, 509, 510, 511, 512, 513, 514, 515, 516, 517, 518, 519, 520, 521, 522, 523, 524, 525, 526, 527, 528, 529, 530, 531, 532, 533, 534, 535, 536, 537, 538, 539, 540, 541, 542, 543, 544, 545, 546, 547, 548, 549, 550, 551, 552, 553, 554, 555, 556, 557, 558, 559, 560, 561, 562, 563, 564, 565, 566, 567, 568, 569, 570, 571, 572, 573, 574, 575, 576, 577, 578, 579, 580, 581, 582, 583, 584, 585, 586, 587, 588, 589, 590, 591, 592, 593, 594, 595, 596, 597, 598, 599, 600, 601, 602, 603, 604, 605, 606, 607, 608, 609, 610, 611, 612, 613, 614, 615, 616, 617, 618, 619, 620, 621, 622, 623, 624, 625, 626, 627, 628, 629, 630, 631, 632, 633, 634, 635, 636, 637, 638, 639, 640, 641, 642, 643, 644, 645, 646, 647, 648, 649, 650, 651, 652, 653, 654, 655, 656, 657, 658, 659], \"y\": [null, null, null, null, null, null, null, null, null, null, null, null, null, null, null, null, null, null, null, null, null, null, null, null, null, null, null, null, null, null, 604.0982233232697, 500.11365643511454, 122.2599542109549, -310.72158741093335, -729.8382903179054, -871.8865518047667, -1706.028569515594, -1520.7044281390256, -1213.1611498072225, -907.7351724705121, -452.6587555137804, -622.0753182781633, -914.5938912265425, -1572.2814461340606, -1066.3228392260828, -1110.973392012134, -893.927039355639, -1075.327989696192, -1039.587031900438, -791.149702451313, -214.51661927079147, 155.180461041905, 349.4608042774511, 665.0279695603114, 808.8368510282536, 1837.113618688651, 1998.8261803515356, 1830.6651368707471, 1639.079425043175, 1775.3469109434318, 1666.6482066432227, 1445.8039235006577, 1456.1151105890447, 1111.95200571494, 502.5604381142822, 157.9185893305854, 155.2507508830397, 523.3026875857404, 352.8398796962508, 249.60144666083363, 502.90197393769915, -98.50453874717451, -319.1418317162812, -65.80154061767689, -190.94124918060834, -300.2077872514739, -166.1584670511499, -693.257321127876, -904.9590027297827, -1371.6676465479072, -1507.0746720173636, -1421.6142979290998, -988.4043473009299, -121.02370058570776, 187.43910338314956, 144.12135364937262, 584.1976309253836, 745.2346412095477, 700.0180311356569, 517.63182795335, 121.87887477845823, 45.4393070623064, -230.47693142173716, 162.6497132003169, 358.26982494859567, 356.58228968641674, 321.94273478367586, 19.23288291359927, -70.83994968328545, 65.86962732985842, 482.2015659928901, 669.7925406133921, 643.7858888539671, 316.49881034437, 429.55301902729093, 184.2380709482719, -517.2050010514095, -649.7694140604324, -896.0735784489071, -555.5019560209059, -405.861719602702, -275.7959548303396, -194.88138322344423, -312.85546373313434, -220.91479815413993, -136.4244235363907, -86.44963862576367, -330.13636530827625, -557.828996065739, -287.1292615381809, -33.76268093471765, 168.6714806054655, -1.1656058972632763, -147.555213408976, -14.658665276590796, 43.55365649795351, -189.67638441519807, -50.98593994796556, -220.97647792003067, -694.9067397393941, -562.9182873730659, -522.2060808084233, -362.12230877873174, -313.0496697342337, -753.0072884955312, -1058.6807592482367, -723.7958511561035, 360.26196937006705, 369.2985357863008, 480.45233713871266, 222.07524714247052, 35.316474684468744, 390.17023202572796, 890.5581858433936, 726.3981213403756, 542.093204945759, 974.563632736926, 1078.2554065721988, 1207.7678155972433, 841.0918672810878, 301.72863295373816, 103.3489630787899, 40.33278412690947, 143.84516882637035, 162.5160438057219, 136.5452427353896, 22.469701235783305, -349.85848400753207, -494.68820446180064, -314.91591567462353, 145.79491966167726, -138.85537444461133, -63.08059134396589, -596.6589419054956, -912.2050791744498, -840.9955256311481, -702.8566931482064, -827.3377645291264, -658.9136934388717, -294.9301857172061, 244.37004806017978, 493.83397599374996, 350.6306315931773, 58.51150453165167, 135.95575733806902, 341.8833772843442, 401.2142717799876, 349.3091548031516, 149.9151375383284, 390.194998124305, 479.0336411435618, 415.48443541785525, 238.81979925633618, 61.643480237522226, 119.29408065924156, 266.364991148988, -2.489052403643427, 237.41671365812, 10.84607941493573, -667.9446512715116, -585.2577172059899, -268.3541424970907, -353.8538626620499, -331.20576682694764, -284.7167052214086, -90.10182777922472, -444.97329019227135, -928.776939809046, -1043.9337317712934, -1060.1552176609707, -1150.494658396127, -1130.3858859320735, -838.4034502906427, -463.43484032084757, -805.9240954627933, -1098.898916797041, -608.9215446070026, -534.6238045658582, -331.2171696722, -537.2213059581115, -468.2795307189682, -246.78874037053447, -791.269987391878, -657.8862691484865, -421.4389240784312, -527.2782889001298, -625.3243601581485, -480.34688365073566, -456.4755198877348, -462.9535377682122, 237.54170769897874, 190.5317758928226, 178.63572761260585, -371.1257771548155, -236.77549429792478, -88.39737689487028, -126.17696289438481, -183.13281707269178, -334.4051164960066, -50.50495578173218, 442.15478530755684, 860.558044324861, 910.2287497213732, 902.4436959801261, 937.6248914395102, 1103.6564305627585, 1147.7480776356874, 938.2102795889996, 477.2576601943632, 733.8372038356136, 1100.6381852835284, 1133.4502139663687, 1137.68133934311, 1301.8713977931945, 1228.535509675281, 1360.0704801675743, 1565.806523268978, 1867.8306223970458, 1731.5709834153702, 1240.3374282310665, 1170.0166930904625, 994.0537147317865, 1100.2142772594102, 1435.4027604041926, 942.583213408669, 1033.4342272193542, 919.9140029086714, 787.8631889990482, 577.2014911977212, 393.41482586608936, -208.97094922181418, -410.74981922795257, -92.47592619112606, 452.54561985424994, 67.92400729058201, 172.358647895104, 642.7150967925894, 660.2312924666359, 1087.0493279037516, 928.1090298024931, 633.9260860225949, 145.41922608424647, -668.0886796191705, -369.2794826706531, -361.7219410873813, -1553.1064294178611, -2911.704491985794, -3011.6846270891747, -3155.07032779993, -3296.9380318846697, -2339.6631084832934, -2359.4330491334435, -1758.51681586505, -1415.5314626394877, -1385.2405863258775, -1210.7914618154732, -961.2131841897062, -333.1905842231315, -330.8501382874566, -71.17496485705055, 210.10165889193524, -106.3061271771411, -428.2465148361076, -270.6459874412657, -4.758410205345058, 9.950868680085136, 491.57385725313236, 441.61370534623256, 92.15741508440567, 201.54546474507322, 600.5062935779314, 775.415229991749, 705.7005300523604, 573.0847510170458, 302.6563045437416, 258.8014003320237, 79.55141822252722, 128.30508483859467, 28.0504561676878, -563.7425687868666, -412.02719820654136, -375.61982394446375, -438.1346252954032, -447.6322845353293, -636.7039623423648, -933.9542672308728, -970.9680538104137, -1095.461407909066, -1023.1106551810899, -1005.6218516765707, -1159.8841710779568, -1094.0096872530676, -763.6640468131666, 202.49889582751277, 493.59050026729506, 195.91942830439461, 613.467666753529, 674.5813294354786, 545.5510539429567, 377.178648893838, 271.101243264642, 510.953291939235, 737.4062507864967, 689.3565665310834, -335.31507012573, -421.70209139547, -440.8593477221434, -487.4138440217223, -91.10660229298549, -69.78299732354469, 345.1069248926841, 490.3677062997716, 622.706419124001, 233.25424972408632, 373.12827765989255, 109.12833925359756, 144.8695371195181, 225.51599469888444, 56.65282780273165, -61.226557294269924, 182.51380808967008, 454.28729013370605, 506.0449075381679, 596.9363128952192, 728.9672540196108, 924.6082185888323, 1024.0577985049272, 1177.3994275352188, 536.2576985603258, 763.3950810164514, 907.4490984833691, 763.2411099893701, 722.7628334998233, 735.5470082444624, 804.0058001405997, 952.2424273677058, 579.455314929631, 655.5799323066612, 504.8134075388923, 53.59233223067314, 6.634510964780105, 210.88623003180155, 93.58929985321757, 104.3226115807679, 17.315078902680852, -61.035441150122274, -139.71494308569225, -384.3378345063376, -336.86997115811664, -515.0800268725511, -910.3597635476606, -979.1675909420773, -704.0084533764204, -271.3307369153033, -542.9647923781006, -669.4853261817459, -275.2574075621402, -324.2587674895102, -298.783451409615, -608.0145865489392, -956.3597849414037, -876.6795264362281, -1024.0354486999984, -792.0837200553524, -786.0892900028057, -1003.9202462310338, -1040.124348003273, -1340.4238004894426, -1438.4671777950743, -1414.0986522346966, -875.3885956771838, -1045.6424790681544, -1004.4968772063836, -1319.5500613251008, -1195.6419316029207, -1050.464240311128, -730.0428818720311, -675.204991365257, -581.3781551984949, -384.11953363828184, -128.08925982501785, 173.35119944345308, 520.3090751575204, 1007.8325824687782, 1168.1480450323734, 1227.459347225093, 1416.8764516948609, 1652.3019483566068, 1023.1133922795956, 983.625033896018, 1037.3809212347724, 1190.838273607285, 1433.3084828346698, 1275.5644554639691, 1313.4645218647147, 1367.6808127703384, 1363.4399789962383, 1389.4093101545723, 1035.6891804186696, 672.4614854610041, 964.9688829691069, 1014.898322225885, 888.1538290434322, 1103.6214897835412, 1166.9055717316737, 712.5006491250522, 561.1134832983746, 103.06271870388252, -207.50678704073925, -128.56193161509736, -209.388215973672, -453.26581005777905, -196.41314401348086, 249.45114618746376, 46.16272141136207, -20.81569681072665, 465.33414850843235, 557.0374496787236, 885.6807366070832, 318.83961061303324, -499.67817315547484, -1181.1702016799063, -1455.7124157365013, -1316.0182362076357, -1282.5973848666445, -1337.6798350825072, -1320.6055368241282, -1432.8953866970398, -1557.3287778902531, -1367.93472726647, -767.9458365278543, -682.0381465359629, -335.293204612664, -505.2108771126134, -317.8945991751009, -108.63563067172562, 214.96130003119197, 154.74444870395948, -138.3794859590008, -150.6258782101097, 22.84482342263948, 144.79065257577997, 126.6776418692956, 119.87604827526059, 178.29873984003018, 468.41759646968296, 355.2661113097125, 200.24984937079444, -123.69287452318042, -302.047858888429, -217.14780409607295, -252.69165050464164, -238.57246718564716, -416.0866976287364, -493.819610440827, -387.03834203451913, -439.4247050073725, 137.9270347482152, -86.77348564754107, -517.6709691917371, -497.0781780407277, -686.4315488976171, -844.2100255077863, -942.7329823819623, -1067.8649460258525, -1142.109222201959, -1213.0156093545127, -1445.3086892926767, -1057.511412270801, -682.5893710363603, -995.4555216431515, -1036.6420094170971, -780.1599687603559, -401.8143757741534, -532.0411880123677, -697.6209988307871, -538.4153750426473, -543.88576083942, -242.91211285012758, -631.4093136679255, -1240.2695886583533, -1413.4341482633536, -1435.8286789134233, -556.3176947380089, 214.49945134281643, -225.7641814955175, -542.9274894176647, -761.30142754339, -1023.199830902705, -751.0729196747878, 46.71978983852469, 248.43141685765787, -65.10177062152943, -529.8849346974005, -115.76465178346578, 596.3527864919403, 1439.942662659002, 1245.4106098312425, 1503.7087816331687, 1915.1358788433706, 1698.1708664686298, 1668.6936037141395, 1695.1979818204113, 1688.969346130445, -79.23393119905711, -533.4174436907409, -369.3565932254245, -51.93110856583098, 331.55897398561626, 519.4810496267672, 54.72848331701141, 67.58433469429781, -428.4540410957536, -961.1629751248495, -1012.5970518269586, -1178.8686018225858, -2005.5613725896408, -2765.8909176836214, -3307.925828167171, -4516.262206263602, -4228.028485690301, -3944.828893070273, -4281.878932772969, -4395.576506627334, -4049.7338750427566, -1909.558234335119, -2079.1177650126597, -2278.3005224642584, -2454.553150439645, -3048.1140857005435, -3645.0997526162546, -3449.7786694272654, -3619.8996496187083, -2540.2851841710717, -1837.8283190699342, -455.24174674492656, -395.96845128327607, -914.7123955847736, 432.9693714142384, 636.2070787990253, 506.2893071993002, 1687.2334622181334, 3979.84844272615, 2280.8908317411024, 2456.1508704495673, 4722.645381973282, 7517.596997675089, 8639.831288792266, 8774.772830588794, 7793.997617035461, 2452.7266781851604, 2523.3562178644947, 1970.3904053533647, 5034.925730968322, 3701.599174966442, 2794.973720710472, 1406.083552769468, 1392.7277977805481, 1693.6608803610789, -281.46685480469864, -2777.2531014742967, -4294.157855152312, -4560.986603850042, -5181.660718599589, -4378.489109071502, -5968.812300204513, -7105.321226610853, -6933.2467379298405, -4293.382542029088, -5503.813331693247, -6321.039054584803, -6433.362061200604, -5751.760691328877, -4260.4229222407685, -3475.0060373856813, -3566.290123690262, -1831.9171818167567, -2848.4592379895594, -773.6989048492608, 4018.9697327373374, 2915.2230956223802, 2950.5420510433723, 3791.8194706449644, 3127.087179022786, 4130.599452333301, 3024.1479529204053, 3531.1517835235604, 4848.690128104066, 5356.379973675249, 6212.3582581730025, 8839.087747419333, 9214.732585569745, 6867.694044406906, 1277.270280122267, 1471.679231298235, 1162.0053406383997, -2187.280107153991, -2123.4241008152194, -4711.688312601184, -2567.977567100048, null, null, null, null, null, null, null, null, null, null, null, null, null, null, null, null, null, null, null, null, null, null, null, null, null, null, null, null, null, null]}, {\"line\": {\"color\": \"rgb(66, 134, 244)\", \"width\": 2}, \"mode\": \"lines\", \"name\": \"Observed\", \"type\": \"scatter\", \"x\": [0, 1, 2, 3, 4, 5, 6, 7, 8, 9, 10, 11, 12, 13, 14, 15, 16, 17, 18, 19, 20, 21, 22, 23, 24, 25, 26, 27, 28, 29, 30, 31, 32, 33, 34, 35, 36, 37, 38, 39, 40, 41, 42, 43, 44, 45, 46, 47, 48, 49, 50, 51, 52, 53, 54, 55, 56, 57, 58, 59, 60, 61, 62, 63, 64, 65, 66, 67, 68, 69, 70, 71, 72, 73, 74, 75, 76, 77, 78, 79, 80, 81, 82, 83, 84, 85, 86, 87, 88, 89, 90, 91, 92, 93, 94, 95, 96, 97, 98, 99, 100, 101, 102, 103, 104, 105, 106, 107, 108, 109, 110, 111, 112, 113, 114, 115, 116, 117, 118, 119, 120, 121, 122, 123, 124, 125, 126, 127, 128, 129, 130, 131, 132, 133, 134, 135, 136, 137, 138, 139, 140, 141, 142, 143, 144, 145, 146, 147, 148, 149, 150, 151, 152, 153, 154, 155, 156, 157, 158, 159, 160, 161, 162, 163, 164, 165, 166, 167, 168, 169, 170, 171, 172, 173, 174, 175, 176, 177, 178, 179, 180, 181, 182, 183, 184, 185, 186, 187, 188, 189, 190, 191, 192, 193, 194, 195, 196, 197, 198, 199, 200, 201, 202, 203, 204, 205, 206, 207, 208, 209, 210, 211, 212, 213, 214, 215, 216, 217, 218, 219, 220, 221, 222, 223, 224, 225, 226, 227, 228, 229, 230, 231, 232, 233, 234, 235, 236, 237, 238, 239, 240, 241, 242, 243, 244, 245, 246, 247, 248, 249, 250, 251, 252, 253, 254, 255, 256, 257, 258, 259, 260, 261, 262, 263, 264, 265, 266, 267, 268, 269, 270, 271, 272, 273, 274, 275, 276, 277, 278, 279, 280, 281, 282, 283, 284, 285, 286, 287, 288, 289, 290, 291, 292, 293, 294, 295, 296, 297, 298, 299, 300, 301, 302, 303, 304, 305, 306, 307, 308, 309, 310, 311, 312, 313, 314, 315, 316, 317, 318, 319, 320, 321, 322, 323, 324, 325, 326, 327, 328, 329, 330, 331, 332, 333, 334, 335, 336, 337, 338, 339, 340, 341, 342, 343, 344, 345, 346, 347, 348, 349, 350, 351, 352, 353, 354, 355, 356, 357, 358, 359, 360, 361, 362, 363, 364, 365, 366, 367, 368, 369, 370, 371, 372, 373, 374, 375, 376, 377, 378, 379, 380, 381, 382, 383, 384, 385, 386, 387, 388, 389, 390, 391, 392, 393, 394, 395, 396, 397, 398, 399, 400, 401, 402, 403, 404, 405, 406, 407, 408, 409, 410, 411, 412, 413, 414, 415, 416, 417, 418, 419, 420, 421, 422, 423, 424, 425, 426, 427, 428, 429, 430, 431, 432, 433, 434, 435, 436, 437, 438, 439, 440, 441, 442, 443, 444, 445, 446, 447, 448, 449, 450, 451, 452, 453, 454, 455, 456, 457, 458, 459, 460, 461, 462, 463, 464, 465, 466, 467, 468, 469, 470, 471, 472, 473, 474, 475, 476, 477, 478, 479, 480, 481, 482, 483, 484, 485, 486, 487, 488, 489, 490, 491, 492, 493, 494, 495, 496, 497, 498, 499, 500, 501, 502, 503, 504, 505, 506, 507, 508, 509, 510, 511, 512, 513, 514, 515, 516, 517, 518, 519, 520, 521, 522, 523, 524, 525, 526, 527, 528, 529, 530, 531, 532, 533, 534, 535, 536, 537, 538, 539, 540, 541, 542, 543, 544, 545, 546, 547, 548, 549, 550, 551, 552, 553, 554, 555, 556, 557, 558, 559, 560, 561, 562, 563, 564, 565, 566, 567, 568, 569, 570, 571, 572, 573, 574, 575, 576, 577, 578, 579, 580, 581, 582, 583, 584, 585, 586, 587, 588, 589, 590, 591, 592, 593, 594, 595, 596, 597, 598, 599, 600, 601, 602, 603, 604, 605, 606, 607, 608, 609, 610, 611, 612, 613, 614, 615, 616, 617, 618, 619, 620, 621, 622, 623, 624, 625, 626, 627, 628, 629, 630, 631, 632, 633, 634, 635, 636, 637, 638, 639, 640, 641, 642, 643, 644, 645, 646, 647, 648, 649, 650, 651, 652, 653, 654, 655, 656, 657, 658, 659], \"y\": [7896.830013286613, 8036.509587763991, 8169.588231822856, 8353.217492064297, 8727.687036371799, 9095.289101530452, 9235.846432505909, 9152.500069336686, 9148.01395901445, 9353.22648559646, 9801.48601844826, 10724.80500475833, 10746.900511013211, 10846.846268886118, 11315.817028152782, 12643.58268406806, 11804.629165520822, 11679.43835006045, 11854.537295204322, 11542.5519109653, 10688.316669892505, 10303.947255003688, 11345.214704756921, 11759.042504677078, 11139.493770149711, 11415.369265018257, 11311.47674802796, 11794.10358029435, 12513.87310001388, 12648.77722987224, 11583.33114395624, 11584.53226697636, 11428.597803701208, 10857.026633891062, 10417.313950106387, 10355.675152687822, 9577.424253618532, 10054.174637386332, 10472.448828593731, 10680.276549055909, 10577.614454422597, 10450.157570706906, 10070.725015713168, 9702.591536684673, 10016.952398913825, 9774.724239339514, 9728.204527019083, 9484.914105643693, 9539.378363609236, 9540.448916710371, 9857.746978877933, 10085.104546979139, 10475.070739547555, 10784.832144716522, 10820.892324169692, 11675.761776815854, 11757.580574404436, 11711.54347617361, 11801.34874174219, 11819.34219296096, 11578.771028918314, 11378.232876254124, 11395.233641041516, 11137.508863135607, 10438.67062931218, 10011.096071667123, 10230.70722326068, 10296.33160926951, 10292.527044551465, 10615.609217593972, 10752.1643426221, 10194.123627454293, 10046.30446167785, 10263.667598541551, 10155.542089256624, 10100.656939299764, 10345.745626969783, 10173.438323876951, 10042.669013722923, 9519.195568464858, 9534.773569215095, 9593.487448702252, 9626.724277129402, 9950.814406600137, 10522.250217800676, 10563.647519247543, 10564.875481794745, 10659.807003605321, 10425.199010551296, 10460.721158303631, 10301.052740780638, 10220.789594924776, 10063.616404874583, 10219.738823657233, 10316.605586066487, 10341.913357534808, 10316.665172788827, 10252.573076358092, 10216.732469111434, 10194.849184511997, 9989.622671113477, 10174.286765040255, 10038.312742536098, 9978.878329965732, 9877.505049456986, 9423.226721940324, 8448.935015594026, 8251.52323198598, 8039.224140808501, 8158.789736606602, 8073.95375222317, 8072.616631082386, 8362.338726063752, 8257.532897378915, 8244.961882187728, 8146.725816650436, 8108.012260229538, 7980.2613741350415, 8040.774269721862, 8209.567752138208, 8338.76799264134, 8560.788050894624, 8398.904302291328, 8334.02326403814, 8358.546977063057, 8308.311406457315, 8264.189831188703, 8064.522897802506, 8032.837878443989, 7962.841632669786, 7959.600127137167, 8020.297620718581, 8222.446397849373, 8199.581749915322, 7736.604987101151, 7450.100639864561, 7880.584318722871, 9318.768119687262, 9413.283675192675, 9476.646249183545, 9383.479470677556, 9193.173796062187, 9172.688580832557, 9155.013009841956, 9281.022513483951, 9217.614908547763, 9257.23580962384, 9343.976273420229, 9335.80494836049, 9237.51896789627, 8978.654813496498, 8810.738395148996, 8896.594757823774, 8792.920336487043, 8734.287632799302, 8747.939129337929, 8655.655597415269, 8539.642750726824, 8470.017927284358, 8514.029198381439, 8378.876831365855, 8115.508755776801, 8098.433021968145, 7847.416641400142, 7341.8049821413415, 7242.510170653162, 7146.012933634438, 6961.916463382017, 7140.8799299101365, 7252.149434008632, 7522.175880529569, 7612.064453473588, 7653.768929907254, 7353.310525060708, 7309.541874785915, 7319.050655238823, 7276.937708947525, 7328.98692136773, 7405.110015872575, 7532.677123219305, 7495.626457542383, 7460.901284415645, 7300.556087797422, 7210.646917069643, 7172.286553317039, 7226.902418159898, 7164.373492626393, 7089.723106689307, 7032.860391371814, 6790.183639408675, 6770.356285148962, 7148.243145801386, 7150.839262453884, 7148.361459371377, 7228.238391081989, 7504.05556303263, 7296.419569266676, 7210.937964009372, 7221.176955374911, 7191.861071997471, 7298.7132554672735, 7345.635970926209, 7297.912752203773, 7199.048192231038, 7195.811552696488, 7072.477633719385, 7218.040866931673, 7321.919470839411, 7430.027209611784, 7533.920318682511, 7929.897113517012, 8235.623274372892, 7898.569229036512, 7888.135214954424, 8113.36082587181, 8111.715362809299, 8102.893845324083, 8574.611704362773, 8743.692143647299, 8674.415975438425, 8852.804577276258, 8891.81703206553, 8847.166821810986, 8644.707999736635, 8646.193566877131, 8665.68548639555, 8435.602730355537, 8383.325486647325, 8321.535235775198, 8430.129199500645, 8723.535466510937, 9041.676236459427, 9331.03335799911, 9370.896512382269, 9342.279203230477, 9372.449065826619, 9377.036114146784, 9330.400380776719, 9202.938405466684, 9403.1671514213, 9689.417025456103, 9776.736692524188, 9813.044905712402, 10080.72238297771, 9922.395658425206, 9957.71639903565, 10344.239488393756, 10286.246258415276, 10262.061382627087, 10143.891251224088, 9905.53388478716, 9720.58739864132, 9846.39599149806, 10098.862828333082, 9582.246888371184, 9689.815450513626, 9660.397790837427, 9870.245958296518, 9735.0504591909, 9490.032467298826, 9033.428049063674, 8796.161047472155, 8698.50545896494, 8686.213148361267, 8557.198634572247, 8747.601872178893, 8791.293455052888, 8761.143370995156, 9019.792645918424, 9098.213160726635, 9053.83207624784, 8569.848185239654, 7882.121460787503, 7948.204795786243, 7849.994645347671, 6666.828861681947, 5294.226216340619, 5410.145281967313, 5300.8230481772, 4985.279471287821, 5313.574447863542, 5285.267935995225, 5765.021215411856, 6361.389077256465, 6169.080863856641, 6132.192548689882, 6105.912299011578, 6653.247179086826, 6662.127716616787, 6671.740301294881, 6692.031633925075, 6227.902488380876, 6104.824055534396, 6274.273825478291, 6451.763185970719, 6308.424179516391, 6724.47057075529, 6814.820556971707, 6773.376351167198, 6796.675729856801, 7092.20980782568, 7318.081696902668, 7302.501675313949, 7304.854342283657, 6972.9333258345405, 6871.078166278377, 6954.0613122503755, 6751.871765907476, 6884.686986010119, 6798.847553762733, 6914.666410146706, 7071.901788128164, 7153.927558603211, 7166.96847035074, 7050.526232960043, 6867.155475591543, 7006.153003182828, 7303.817318437702, 7521.625762324777, 7544.735051663962, 7603.793608820947, 7715.970909100279, 7730.878020961837, 8245.722380213285, 8894.275984848106, 8784.642784720207, 8873.989539326558, 8979.892588601404, 8772.605609500622, 8930.913681363849, 9164.282146281499, 9492.195702154653, 9924.461951193884, 9727.209380738625, 8687.485435756498, 8706.762334109952, 8774.268432777048, 9045.862951861684, 9577.180130024612, 9523.737060923517, 9403.56427666102, 9626.880262499786, 9721.819166062292, 9670.35267339297, 9670.785648144505, 9279.322026266462, 9124.649396746332, 9205.783900625256, 9119.084263966222, 8819.204823993834, 8859.416745109052, 9030.153561311428, 9321.504287944157, 9454.194394877908, 9507.292082854152, 9546.667359008288, 9585.242823246666, 9880.582896244676, 9551.918962460255, 9700.439323044982, 9742.02892493151, 9637.024958752816, 9618.213260328099, 9725.488576168926, 9712.81476224812, 9788.521959529091, 9639.95364215922, 9411.404525844648, 9426.981678573986, 9403.238615212738, 9244.433018226351, 9493.595172876228, 9442.657481252047, 9406.255930210364, 9326.58814320612, 9301.563679662215, 9348.204026697782, 9482.184810315599, 9638.217570861838, 9436.925195856926, 9231.493230758922, 9180.609944562828, 9106.159939018455, 9056.25733932299, 9116.123239308003, 9150.825424038167, 9191.841695595116, 9166.082435541168, 9093.86323172761, 9091.767435316166, 9062.05921703053, 9216.14457661028, 9269.029049758985, 9346.710768472229, 9327.67512244848, 9200.495958052374, 9238.790536103697, 9249.438246949527, 9278.539033505616, 9220.123137702056, 9221.474235418797, 9130.464282660958, 9134.885430465985, 9162.235904973737, 9154.807427888656, 9177.71558705349, 9309.146587307883, 9366.081211529487, 9541.14494662019, 9557.228596370733, 9619.470008863225, 9834.34345093738, 10435.77195985603, 10985.119592693065, 11096.370981655044, 11033.542140439728, 11196.16388741341, 11610.522017505595, 11333.746837542161, 11255.501070308337, 11243.48303516029, 11465.564492601683, 11755.58119980418, 11716.411607805456, 11685.07527079242, 11672.13134572093, 11899.919358701884, 11632.64165288171, 11463.679295341895, 11551.097077250179, 11755.181942272979, 11876.95338583217, 11850.765200290209, 12056.323421185645, 12164.403587578212, 11797.516510981275, 11799.526727126475, 11744.323115112582, 11559.842808898182, 11623.091878436793, 11733.96626806391, 11506.833402339877, 11405.160311917942, 11346.124717479432, 11442.939620304414, 11507.104337665949, 11609.048559349349, 11685.020310521584, 11874.642536686833, 11576.253069074448, 11039.063579204321, 10391.276090070347, 10268.003898553527, 10201.799719070545, 10159.821534655233, 10146.578532762547, 10188.169891084865, 10339.359895954043, 10303.242946947665, 10373.259994796503, 10393.662602084078, 10511.558141261514, 10774.090146760844, 10895.03143561061, 10892.677561047374, 10925.275534520648, 11013.781351278085, 10915.45825408122, 10677.04217749131, 10467.79982894444, 10429.324101451008, 10447.154971139658, 10671.424398447627, 10716.311805883746, 10717.587523472934, 10878.729324832051, 10729.49535984686, 10741.212745922287, 10755.63820110957, 10528.457687540187, 10549.99993040664, 10604.973839338634, 10705.634581668563, 10699.247307400145, 10621.147949777702, 10734.447340398325, 10983.384095603922, 11334.302728770823, 11360.626362271316, 11447.596319805223, 11450.011132570118, 11405.501558826803, 11415.065075223158, 11364.835083056, 11343.749377836299, 11424.963448037346, 11587.264630524502, 11845.688666804634, 12458.755897932593, 12933.452571687387, 12933.337158049088, 13030.405935015915, 13056.228187102959, 13067.70965387573, 13368.090398184955, 13444.61943090971, 13330.564563991633, 13435.770794682676, 13738.185588586952, 13769.800513425602, 13596.939398092709, 13612.77417941822, 13900.019495758215, 14730.150417582641, 15583.101231359724, 15342.928405946426, 15202.594518399836, 15381.907919403448, 15327.286289963866, 15593.693127775707, 15927.901184766653, 16290.81692118418, 16029.412185657806, 15995.998189848071, 16372.39734817653, 17083.845872113267, 17884.628245262506, 17843.01880314236, 18336.446450956217, 18711.31422781042, 18432.242585682645, 18448.16646538194, 18862.79301058334, 19056.07885665344, 17390.736701274283, 16987.86882838683, 17312.290464663183, 17991.419820260784, 18913.478020126488, 19264.72192229652, 18953.713099227087, 19282.563097308335, 19121.886986334714, 18998.079583495823, 19145.14846656942, 19198.998589492392, 18942.096815483357, 18265.61394815205, 18303.163093656254, 17937.337420969445, 18471.79417569884, 19113.047104531674, 19161.334182659233, 19352.60234239375, 20077.722920459753, 22616.832315700016, 22884.61391463473, 23360.905627054184, 23594.411731075204, 23259.466833602102, 23097.83040414722, 23530.78834177154, 23219.253677889596, 24016.3946622597, 25267.112615189963, 27043.386470000005, 26964.020499138907, 26671.00809917778, 28141.234408113214, 28881.524878111817, 29288.824916593705, 30757.429532760427, 33467.36252562915, 31856.12268529163, 32273.087909194484, 34904.997382513895, 38067.44547187983, 39807.603738850725, 40395.370087963165, 39727.27752555421, 34277.110007714575, 34840.250152749315, 34673.97475176043, 38508.45668270349, 37468.42796355629, 36843.154360111876, 35650.76418554722, 36046.172744233656, 36858.91067922985, 35152.737303960435, 32949.072451710425, 31861.05734117567, 32351.814826670856, 32225.07011977885, 33353.08542052355, 31997.221463516013, 31149.419363921512, 31793.884442463186, 35051.46781385279, 34053.71261722708, 33450.93785876327, 33705.97519064721, 34713.696400108354, 36573.09481030624, 37541.548132422206, 37630.04921400489, 39814.35655457264, 38711.77455524941, 41196.61444486643, 46684.490849562455, 45798.7337153625, 46272.21566854445, 47603.415420118086, 47273.84991914459, 48600.49151849026, 47862.39794598202, 48845.16600342642, 50913.92413875071, 51893.311181218756, 53083.8791087993, 56271.288537679146, 57040.82594383049, 54708.31202510767, 48968.837945908424, 49800.28486888126, 49985.23481495351, 46655.920048518725, 47130.208060158875, 44818.44755210362, 47641.53689948156, 48617.28932090135, 50429.44901579067, 49398.2503985708, 47717.64330027977, 48371.54353797001, 50218.21680438112, 50798.35421240729, 53980.847261679024, 55375.36624125794, 56272.596972013926, 56826.56003304944, 58802.601567706326, 60455.84483148646, 57507.73450910979, 55339.80479183194, 56158.0173198603, 58472.11732155986, 58283.54799432517, 58779.76938655648, 57312.59853645818, 56787.14842211064, 54703.38774047086, 55123.99385491758, 52121.68411029948, 53241.03748850518, 55193.35725955907, 55832.958823907036, 56913.99381926178, 58346.912268295404, 58764.349363]}],                        {\"template\": {\"data\": {\"bar\": [{\"error_x\": {\"color\": \"#2a3f5f\"}, \"error_y\": {\"color\": \"#2a3f5f\"}, \"marker\": {\"line\": {\"color\": \"#E5ECF6\", \"width\": 0.5}}, \"type\": \"bar\"}], \"barpolar\": [{\"marker\": {\"line\": {\"color\": \"#E5ECF6\", \"width\": 0.5}}, \"type\": \"barpolar\"}], \"carpet\": [{\"aaxis\": {\"endlinecolor\": \"#2a3f5f\", \"gridcolor\": \"white\", \"linecolor\": \"white\", \"minorgridcolor\": \"white\", \"startlinecolor\": \"#2a3f5f\"}, \"baxis\": {\"endlinecolor\": \"#2a3f5f\", \"gridcolor\": \"white\", \"linecolor\": \"white\", \"minorgridcolor\": \"white\", \"startlinecolor\": \"#2a3f5f\"}, \"type\": \"carpet\"}], \"choropleth\": [{\"colorbar\": {\"outlinewidth\": 0, \"ticks\": \"\"}, \"type\": \"choropleth\"}], \"contour\": [{\"colorbar\": {\"outlinewidth\": 0, \"ticks\": \"\"}, \"colorscale\": [[0.0, \"#0d0887\"], [0.1111111111111111, \"#46039f\"], [0.2222222222222222, \"#7201a8\"], [0.3333333333333333, \"#9c179e\"], [0.4444444444444444, \"#bd3786\"], [0.5555555555555556, \"#d8576b\"], [0.6666666666666666, \"#ed7953\"], [0.7777777777777778, \"#fb9f3a\"], [0.8888888888888888, \"#fdca26\"], [1.0, \"#f0f921\"]], \"type\": \"contour\"}], \"contourcarpet\": [{\"colorbar\": {\"outlinewidth\": 0, \"ticks\": \"\"}, \"type\": \"contourcarpet\"}], \"heatmap\": [{\"colorbar\": {\"outlinewidth\": 0, \"ticks\": \"\"}, \"colorscale\": [[0.0, \"#0d0887\"], [0.1111111111111111, \"#46039f\"], [0.2222222222222222, \"#7201a8\"], [0.3333333333333333, \"#9c179e\"], [0.4444444444444444, \"#bd3786\"], [0.5555555555555556, \"#d8576b\"], [0.6666666666666666, \"#ed7953\"], [0.7777777777777778, \"#fb9f3a\"], [0.8888888888888888, \"#fdca26\"], [1.0, \"#f0f921\"]], \"type\": \"heatmap\"}], \"heatmapgl\": [{\"colorbar\": {\"outlinewidth\": 0, \"ticks\": \"\"}, \"colorscale\": [[0.0, \"#0d0887\"], [0.1111111111111111, \"#46039f\"], [0.2222222222222222, \"#7201a8\"], [0.3333333333333333, \"#9c179e\"], [0.4444444444444444, \"#bd3786\"], [0.5555555555555556, \"#d8576b\"], [0.6666666666666666, \"#ed7953\"], [0.7777777777777778, \"#fb9f3a\"], [0.8888888888888888, \"#fdca26\"], [1.0, \"#f0f921\"]], \"type\": \"heatmapgl\"}], \"histogram\": [{\"marker\": {\"colorbar\": {\"outlinewidth\": 0, \"ticks\": \"\"}}, \"type\": \"histogram\"}], \"histogram2d\": [{\"colorbar\": {\"outlinewidth\": 0, \"ticks\": \"\"}, \"colorscale\": [[0.0, \"#0d0887\"], [0.1111111111111111, \"#46039f\"], [0.2222222222222222, \"#7201a8\"], [0.3333333333333333, \"#9c179e\"], [0.4444444444444444, \"#bd3786\"], [0.5555555555555556, \"#d8576b\"], [0.6666666666666666, \"#ed7953\"], [0.7777777777777778, \"#fb9f3a\"], [0.8888888888888888, \"#fdca26\"], [1.0, \"#f0f921\"]], \"type\": \"histogram2d\"}], \"histogram2dcontour\": [{\"colorbar\": {\"outlinewidth\": 0, \"ticks\": \"\"}, \"colorscale\": [[0.0, \"#0d0887\"], [0.1111111111111111, \"#46039f\"], [0.2222222222222222, \"#7201a8\"], [0.3333333333333333, \"#9c179e\"], [0.4444444444444444, \"#bd3786\"], [0.5555555555555556, \"#d8576b\"], [0.6666666666666666, \"#ed7953\"], [0.7777777777777778, \"#fb9f3a\"], [0.8888888888888888, \"#fdca26\"], [1.0, \"#f0f921\"]], \"type\": \"histogram2dcontour\"}], \"mesh3d\": [{\"colorbar\": {\"outlinewidth\": 0, \"ticks\": \"\"}, \"type\": \"mesh3d\"}], \"parcoords\": [{\"line\": {\"colorbar\": {\"outlinewidth\": 0, \"ticks\": \"\"}}, \"type\": \"parcoords\"}], \"pie\": [{\"automargin\": true, \"type\": \"pie\"}], \"scatter\": [{\"marker\": {\"colorbar\": {\"outlinewidth\": 0, \"ticks\": \"\"}}, \"type\": \"scatter\"}], \"scatter3d\": [{\"line\": {\"colorbar\": {\"outlinewidth\": 0, \"ticks\": \"\"}}, \"marker\": {\"colorbar\": {\"outlinewidth\": 0, \"ticks\": \"\"}}, \"type\": \"scatter3d\"}], \"scattercarpet\": [{\"marker\": {\"colorbar\": {\"outlinewidth\": 0, \"ticks\": \"\"}}, \"type\": \"scattercarpet\"}], \"scattergeo\": [{\"marker\": {\"colorbar\": {\"outlinewidth\": 0, \"ticks\": \"\"}}, \"type\": \"scattergeo\"}], \"scattergl\": [{\"marker\": {\"colorbar\": {\"outlinewidth\": 0, \"ticks\": \"\"}}, \"type\": \"scattergl\"}], \"scattermapbox\": [{\"marker\": {\"colorbar\": {\"outlinewidth\": 0, \"ticks\": \"\"}}, \"type\": \"scattermapbox\"}], \"scatterpolar\": [{\"marker\": {\"colorbar\": {\"outlinewidth\": 0, \"ticks\": \"\"}}, \"type\": \"scatterpolar\"}], \"scatterpolargl\": [{\"marker\": {\"colorbar\": {\"outlinewidth\": 0, \"ticks\": \"\"}}, \"type\": \"scatterpolargl\"}], \"scatterternary\": [{\"marker\": {\"colorbar\": {\"outlinewidth\": 0, \"ticks\": \"\"}}, \"type\": \"scatterternary\"}], \"surface\": [{\"colorbar\": {\"outlinewidth\": 0, \"ticks\": \"\"}, \"colorscale\": [[0.0, \"#0d0887\"], [0.1111111111111111, \"#46039f\"], [0.2222222222222222, \"#7201a8\"], [0.3333333333333333, \"#9c179e\"], [0.4444444444444444, \"#bd3786\"], [0.5555555555555556, \"#d8576b\"], [0.6666666666666666, \"#ed7953\"], [0.7777777777777778, \"#fb9f3a\"], [0.8888888888888888, \"#fdca26\"], [1.0, \"#f0f921\"]], \"type\": \"surface\"}], \"table\": [{\"cells\": {\"fill\": {\"color\": \"#EBF0F8\"}, \"line\": {\"color\": \"white\"}}, \"header\": {\"fill\": {\"color\": \"#C8D4E3\"}, \"line\": {\"color\": \"white\"}}, \"type\": \"table\"}]}, \"layout\": {\"annotationdefaults\": {\"arrowcolor\": \"#2a3f5f\", \"arrowhead\": 0, \"arrowwidth\": 1}, \"autotypenumbers\": \"strict\", \"coloraxis\": {\"colorbar\": {\"outlinewidth\": 0, \"ticks\": \"\"}}, \"colorscale\": {\"diverging\": [[0, \"#8e0152\"], [0.1, \"#c51b7d\"], [0.2, \"#de77ae\"], [0.3, \"#f1b6da\"], [0.4, \"#fde0ef\"], [0.5, \"#f7f7f7\"], [0.6, \"#e6f5d0\"], [0.7, \"#b8e186\"], [0.8, \"#7fbc41\"], [0.9, \"#4d9221\"], [1, \"#276419\"]], \"sequential\": [[0.0, \"#0d0887\"], [0.1111111111111111, \"#46039f\"], [0.2222222222222222, \"#7201a8\"], [0.3333333333333333, \"#9c179e\"], [0.4444444444444444, \"#bd3786\"], [0.5555555555555556, \"#d8576b\"], [0.6666666666666666, \"#ed7953\"], [0.7777777777777778, \"#fb9f3a\"], [0.8888888888888888, \"#fdca26\"], [1.0, \"#f0f921\"]], \"sequentialminus\": [[0.0, \"#0d0887\"], [0.1111111111111111, \"#46039f\"], [0.2222222222222222, \"#7201a8\"], [0.3333333333333333, \"#9c179e\"], [0.4444444444444444, \"#bd3786\"], [0.5555555555555556, \"#d8576b\"], [0.6666666666666666, \"#ed7953\"], [0.7777777777777778, \"#fb9f3a\"], [0.8888888888888888, \"#fdca26\"], [1.0, \"#f0f921\"]]}, \"colorway\": [\"#636efa\", \"#EF553B\", \"#00cc96\", \"#ab63fa\", \"#FFA15A\", \"#19d3f3\", \"#FF6692\", \"#B6E880\", \"#FF97FF\", \"#FECB52\"], \"font\": {\"color\": \"#2a3f5f\"}, \"geo\": {\"bgcolor\": \"white\", \"lakecolor\": \"white\", \"landcolor\": \"#E5ECF6\", \"showlakes\": true, \"showland\": true, \"subunitcolor\": \"white\"}, \"hoverlabel\": {\"align\": \"left\"}, \"hovermode\": \"closest\", \"mapbox\": {\"style\": \"light\"}, \"paper_bgcolor\": \"white\", \"plot_bgcolor\": \"#E5ECF6\", \"polar\": {\"angularaxis\": {\"gridcolor\": \"white\", \"linecolor\": \"white\", \"ticks\": \"\"}, \"bgcolor\": \"#E5ECF6\", \"radialaxis\": {\"gridcolor\": \"white\", \"linecolor\": \"white\", \"ticks\": \"\"}}, \"scene\": {\"xaxis\": {\"backgroundcolor\": \"#E5ECF6\", \"gridcolor\": \"white\", \"gridwidth\": 2, \"linecolor\": \"white\", \"showbackground\": true, \"ticks\": \"\", \"zerolinecolor\": \"white\"}, \"yaxis\": {\"backgroundcolor\": \"#E5ECF6\", \"gridcolor\": \"white\", \"gridwidth\": 2, \"linecolor\": \"white\", \"showbackground\": true, \"ticks\": \"\", \"zerolinecolor\": \"white\"}, \"zaxis\": {\"backgroundcolor\": \"#E5ECF6\", \"gridcolor\": \"white\", \"gridwidth\": 2, \"linecolor\": \"white\", \"showbackground\": true, \"ticks\": \"\", \"zerolinecolor\": \"white\"}}, \"shapedefaults\": {\"line\": {\"color\": \"#2a3f5f\"}}, \"ternary\": {\"aaxis\": {\"gridcolor\": \"white\", \"linecolor\": \"white\", \"ticks\": \"\"}, \"baxis\": {\"gridcolor\": \"white\", \"linecolor\": \"white\", \"ticks\": \"\"}, \"bgcolor\": \"#E5ECF6\", \"caxis\": {\"gridcolor\": \"white\", \"linecolor\": \"white\", \"ticks\": \"\"}}, \"title\": {\"x\": 0.05}, \"xaxis\": {\"automargin\": true, \"gridcolor\": \"white\", \"linecolor\": \"white\", \"ticks\": \"\", \"title\": {\"standoff\": 15}, \"zerolinecolor\": \"white\", \"zerolinewidth\": 2}, \"yaxis\": {\"automargin\": true, \"gridcolor\": \"white\", \"linecolor\": \"white\", \"ticks\": \"\", \"title\": {\"standoff\": 15}, \"zerolinecolor\": \"white\", \"zerolinewidth\": 2}}}, \"title\": {\"text\": \"Seasonal decomposition\"}, \"xaxis\": {\"title\": {\"text\": \"Time\"}}, \"yaxis\": {\"title\": {\"text\": \"Price, USD\"}}},                        {\"responsive\": true}                    ).then(function(){\n",
       "                            \n",
       "var gd = document.getElementById('000229d5-dc54-4271-89b4-0711fec8a230');\n",
       "var x = new MutationObserver(function (mutations, observer) {{\n",
       "        var display = window.getComputedStyle(gd).display;\n",
       "        if (!display || display === 'none') {{\n",
       "            console.log([gd, 'removed!']);\n",
       "            Plotly.purge(gd);\n",
       "            observer.disconnect();\n",
       "        }}\n",
       "}});\n",
       "\n",
       "// Listen for the removal of the full notebook cells\n",
       "var notebookContainer = gd.closest('#notebook-container');\n",
       "if (notebookContainer) {{\n",
       "    x.observe(notebookContainer, {childList: true});\n",
       "}}\n",
       "\n",
       "// Listen for the clearing of the current output cell\n",
       "var outputEl = gd.closest('.output');\n",
       "if (outputEl) {{\n",
       "    x.observe(outputEl, {childList: true});\n",
       "}}\n",
       "\n",
       "                        })                };                });            </script>        </div>"
      ]
     },
     "metadata": {},
     "output_type": "display_data"
    }
   ],
   "source": [
    "trace1 = go.Scatter(x = np.arange(0, len(s.trend), 1),y = s.trend,mode = 'lines',name = 'Trend',\n",
    "    line = dict(color = ('rgb(244, 146, 65)'), width = 4))\n",
    "trace2 = go.Scatter(x = np.arange(0, len(s.seasonal), 1),y = s.seasonal,mode = 'lines',name = 'Seasonal',\n",
    "    line = dict(color = ('rgb(66, 244, 155)'), width = 2))\n",
    "\n",
    "trace3 = go.Scatter(x = np.arange(0, len(s.resid), 1),y = s.resid,mode = 'lines',name = 'Residual',\n",
    "    line = dict(color = ('rgb(209, 244, 66)'), width = 2))\n",
    "\n",
    "trace4 = go.Scatter(x = np.arange(0, len(s.observed), 1),y = s.observed,mode = 'lines',name = 'Observed',\n",
    "    line = dict(color = ('rgb(66, 134, 244)'), width = 2))\n",
    "\n",
    "data = [trace1, trace2, trace3, trace4]\n",
    "layout = dict(title = 'Seasonal decomposition', xaxis = dict(title = 'Time'), yaxis = dict(title = 'Price, USD'))\n",
    "fig = dict(data=data, layout=layout)\n",
    "py.iplot(fig, filename='seasonal_decomposition')"
   ]
  },
  {
   "cell_type": "markdown",
   "metadata": {
    "_cell_guid": "6ff4d4d1-b71c-41c5-86da-fc24ba0d99f2",
    "_uuid": "7f24bdcd4ef464b01aaa7cb2cc59a351b579f7c6"
   },
   "source": [
    "The next thing we do is an examination of the **autocorrelation**. It is it is the similarity between observations as a function of the time lag between them. It is important for finding repeating patterns in the data. "
   ]
  },
  {
   "cell_type": "code",
   "execution_count": 15,
   "metadata": {
    "_cell_guid": "edbcd456-92f3-43ad-a8a7-71885235952c",
    "_uuid": "cdc6e24a71f9e2b22e18cebf5b9ce2cbde2b9931"
   },
   "outputs": [
    {
     "data": {
      "image/png": "[encoded data removed]",
      "text/plain": [
       "<Figure size 1080x504 with 2 Axes>"
      ]
     },
     "metadata": {
      "needs_background": "light"
     },
     "output_type": "display_data"
    }
   ],
   "source": [
    "plt.figure(figsize=(15,7))\n",
    "ax = plt.subplot(211)\n",
    "sm.graphics.tsa.plot_acf(working_data.Weighted_Price.values.squeeze(), lags=48, ax=ax)\n",
    "ax = plt.subplot(212)\n",
    "sm.graphics.tsa.plot_pacf(working_data.Weighted_Price.values.squeeze(), lags=48, ax=ax)\n",
    "plt.tight_layout()\n",
    "plt.show()"
   ]
  },
  {
   "cell_type": "markdown",
   "metadata": {
    "_cell_guid": "cdeb0390-cc75-4127-92bd-9a3d9a951839",
    "_uuid": "091b8085cbdc42fc0bbec0f6283465435d75d52a"
   },
   "source": [
    "Now we need to recover our df_train and df_test datasets:"
   ]
  },
  {
   "cell_type": "code",
   "execution_count": 16,
   "metadata": {
    "_cell_guid": "bc2dde80-4e57-4dbc-99ee-7e75ea277e80",
    "_uuid": "e0c18a544ec36d8eb784590742e79850b694816a"
   },
   "outputs": [],
   "source": [
    "df_train = working_data[:-60]\n",
    "df_test = working_data[-60:]"
   ]
  },
  {
   "cell_type": "markdown",
   "metadata": {
    "_cell_guid": "c26c777e-6d50-4fad-83a7-192cb1f83cc6",
    "_uuid": "d0ee3d170b35a09734d6dbac177a426c3e17dc04"
   },
   "source": [
    "# Data preparation\n",
    "\n",
    "We need to prepare our dataset according to the requirements of the model, as well as to split the dataset into train and test parts. \n",
    "In the next cell, we define a function which creates X inputs and Y labels for our model. In the sequential forecasting, we predict the future value based on some previous and current values. So, our Y label is the value from the next (future) point of time while the X inputs are one or several values from the past. The amount of this values we can set by tuning the parameter *look_back* in our function. If we set it to 1, this means that we predict current value *t* based on the previous value *(t-1)*."
   ]
  },
  {
   "cell_type": "code",
   "execution_count": 17,
   "metadata": {
    "_cell_guid": "d0b98c6a-4e04-46be-b02f-553fbb3cd169",
    "_uuid": "4f52886af240af7df73307d66631a8a83b8650f4"
   },
   "outputs": [],
   "source": [
    "def create_lookback(dataset, look_back=1):\n",
    "    X, Y = [], []\n",
    "    for i in range(len(dataset) - look_back):\n",
    "        a = dataset[i:(i + look_back), 0]\n",
    "        X.append(a)\n",
    "        Y.append(dataset[i + look_back, 0])\n",
    "    return np.array(X), np.array(Y)"
   ]
  },
  {
   "cell_type": "markdown",
   "metadata": {
    "_cell_guid": "a05b3820-0fb1-4cb3-b388-5332d42897c5",
    "_uuid": "fbf150e78040190477d351c42991cd338e92431d"
   },
   "source": [
    "Now we perform **final data preparation**:\n",
    "   1. Reshape the train and test set according to the requirements of the model.\n",
    "   2. Scale the dataset by using the MinMaxScaler because LSTM models are scale sensitive.\n",
    "   3. Apply our *create_lookback* function."
   ]
  },
  {
   "cell_type": "code",
   "execution_count": 18,
   "metadata": {
    "_cell_guid": "42e23593-4dfb-42a5-ace0-3e3779d523e2",
    "_uuid": "81931375dc7bdd7e9f96a89240a8294e55a807cc"
   },
   "outputs": [],
   "source": [
    "from sklearn.preprocessing import MinMaxScaler\n",
    "\n",
    "training_set = df_train.values\n",
    "training_set = np.reshape(training_set, (len(training_set), 1))\n",
    "test_set = df_test.values\n",
    "test_set = np.reshape(test_set, (len(test_set), 1))\n",
    "\n",
    "#scale datasets\n",
    "scaler = MinMaxScaler()\n",
    "training_set = scaler.fit_transform(training_set)\n",
    "test_set = scaler.transform(test_set)\n",
    "\n",
    "# create datasets which are suitable for time series forecasting\n",
    "look_back = 1\n",
    "X_train, Y_train = create_lookback(training_set, look_back)\n",
    "X_test, Y_test = create_lookback(test_set, look_back)\n",
    "\n",
    " # reshape datasets so that they will be ok for the requirements of the LSTM model in Keras\n",
    "X_train = np.reshape(X_train, (len(X_train), 1, X_train.shape[1]))\n",
    "X_test = np.reshape(X_test, (len(X_test), 1, X_test.shape[1]))"
   ]
  },
  {
   "cell_type": "markdown",
   "metadata": {
    "_cell_guid": "9683104c-5f6a-4d23-8537-e3fc5e28feea",
    "_uuid": "1c8f73b21cdebc83c6d7b6ea8ed5ad062de512af"
   },
   "source": [
    "We have tried to train several different models and compare their results. You can found them in the table below.\n",
    "These results were obtained using the following hardware: 4-core CPU, 16 GB RAM and by training each model ten times with different random states.\n",
    "As we can see, the best result is obtained by using the 2-stacked LSTM. Nevertheless, this model is much slower then GRU or 1-layer LSTM. The Autoregressive integrated moving average model (ARIMA) shows the worst results both in performance and training time. We can also see, that the 1-layer LSTM model is not capable to recognize patterns in the data so we need more complex models. We are going to demonstrate 2-layers LSTM neural network in more detail. \n",
    "\n",
    "<table>\n",
    "    <thead>\n",
    "        <tr>\n",
    "            <th>Model</th>\n",
    "            <th>RMSE</th>\n",
    "            <th>Training time, sec</th>\n",
    "        </tr>\n",
    "    </thead>\n",
    "    <tbody>\n",
    "        <tr>\n",
    "            <td>ARIMA</td>\n",
    "            <td>164</td>\n",
    "            <td>166</td>\n",
    "        </tr>\n",
    "        <tr>\n",
    "            <td>1-layer LSTM</td>\n",
    "            <td>91.2 +- (2.2)</td>\n",
    "            <td>21</td>\n",
    "        </tr>\n",
    "        <tr>\n",
    "            <td>Bidirectional 1-layer LSTM</td>\n",
    "            <td>51.6 +- (9.5)</td>\n",
    "            <td>42</td>\n",
    "        </tr>\n",
    "        <tr>\n",
    "            <td>Gated Recurrent Unit (GRU)</td>\n",
    "            <td>32.6 +- (1.5)</td>\n",
    "            <td>16</td>\n",
    "        </tr>   \n",
    "        <tr>\n",
    "            <td>2-layers LSTM</td>\n",
    "            <td>19.5 +- (4.2)</td>\n",
    "            <td>57</td>\n",
    "        </tr>        \n",
    "    </tbody>\n",
    "</table>\n"
   ]
  },
  {
   "cell_type": "markdown",
   "metadata": {
    "_cell_guid": "d87a9f1b-c512-4544-a9ad-2597b80f42ab",
    "_uuid": "17d41a384e7b15fb5563bd7f67b20b247143184d",
    "collapsed": true
   },
   "source": [
    "# Training 2-layers LSTM Neural Network\n",
    "\n",
    "Eventually, we can build and train our model. We use Keras framework for deep learning. \n",
    "Our model consists of two stacked LSTM layers with 256 units each and the densely connected output layer with one neuron. We are using [Adam optimizer](https://arxiv.org/abs/1412.6980) and MSE as a loss. Also, we use an early stopping if the result doesn't improve during 20 training iterations (epochs).\n",
    "We performed several experiments and found that the optimal number of epochs and butch_size is 100 and 16 respectively.\n",
    "Also, it is important to set *shuffle=False* because we don't want to shuffle time series data."
   ]
  },
  {
   "cell_type": "code",
   "execution_count": 19,
   "metadata": {
    "_cell_guid": "ff2bf0e9-18aa-45b6-b2c1-1a43c08e2abc",
    "_uuid": "759bf04dc636fb92287417851c65319545097f29"
   },
   "outputs": [
    {
     "name": "stdout",
     "output_type": "stream",
     "text": [
      "Epoch 1/100\n",
      "38/38 [==============================] - 19s 33ms/step - loss: 0.0109 - val_loss: 0.3823\n",
      "Epoch 2/100\n",
      "38/38 [==============================] - 0s 5ms/step - loss: 0.0243 - val_loss: 0.3186\n",
      "Epoch 3/100\n",
      "38/38 [==============================] - 0s 6ms/step - loss: 0.0063 - val_loss: 0.0118\n",
      "Epoch 4/100\n",
      "38/38 [==============================] - 0s 6ms/step - loss: 0.0015 - val_loss: 0.0293\n",
      "Epoch 5/100\n",
      "38/38 [==============================] - 0s 4ms/step - loss: 8.8054e-04 - val_loss: 0.0032\n",
      "Epoch 6/100\n",
      "38/38 [==============================] - 0s 4ms/step - loss: 8.0735e-04 - val_loss: 0.0101\n",
      "Epoch 7/100\n",
      "38/38 [==============================] - 0s 4ms/step - loss: 1.2324e-04 - val_loss: 0.0047\n",
      "Epoch 8/100\n",
      "38/38 [==============================] - 0s 4ms/step - loss: 4.5466e-04 - val_loss: 0.0070\n",
      "Epoch 9/100\n",
      "38/38 [==============================] - 0s 4ms/step - loss: 1.6780e-04 - val_loss: 0.0044\n",
      "Epoch 10/100\n",
      "38/38 [==============================] - 0s 4ms/step - loss: 5.3746e-04 - val_loss: 0.0056\n",
      "Epoch 11/100\n",
      "38/38 [==============================] - 0s 7ms/step - loss: 2.0188e-04 - val_loss: 0.0039\n",
      "Epoch 12/100\n",
      "38/38 [==============================] - 0s 7ms/step - loss: 6.6990e-04 - val_loss: 0.0048\n",
      "Epoch 13/100\n",
      "38/38 [==============================] - 0s 6ms/step - loss: 2.0565e-04 - val_loss: 0.0037\n",
      "Epoch 14/100\n",
      "38/38 [==============================] - 0s 5ms/step - loss: 8.0284e-04 - val_loss: 0.0044\n",
      "Epoch 15/100\n",
      "38/38 [==============================] - 0s 4ms/step - loss: 1.8641e-04 - val_loss: 0.0036\n",
      "Epoch 16/100\n",
      "38/38 [==============================] - 0s 5ms/step - loss: 9.0273e-04 - val_loss: 0.0042\n",
      "Epoch 17/100\n",
      "38/38 [==============================] - 0s 5ms/step - loss: 1.6481e-04 - val_loss: 0.0037\n",
      "Epoch 18/100\n",
      "38/38 [==============================] - 0s 5ms/step - loss: 9.3175e-04 - val_loss: 0.0040\n",
      "Epoch 19/100\n",
      "38/38 [==============================] - 0s 5ms/step - loss: 1.5571e-04 - val_loss: 0.0039\n",
      "Epoch 20/100\n",
      "38/38 [==============================] - 0s 5ms/step - loss: 8.6068e-04 - val_loss: 0.0040\n",
      "Epoch 21/100\n",
      "38/38 [==============================] - 0s 4ms/step - loss: 1.6814e-04 - val_loss: 0.0040\n",
      "Epoch 22/100\n",
      "38/38 [==============================] - 0s 5ms/step - loss: 7.0135e-04 - val_loss: 0.0040\n",
      "Epoch 23/100\n",
      "38/38 [==============================] - 0s 5ms/step - loss: 2.1374e-04 - val_loss: 0.0041\n",
      "Epoch 24/100\n",
      "38/38 [==============================] - 0s 5ms/step - loss: 5.1800e-04 - val_loss: 0.0040\n",
      "Epoch 25/100\n",
      "38/38 [==============================] - 0s 5ms/step - loss: 2.8596e-04 - val_loss: 0.0041\n",
      "Epoch 00025: early stopping\n"
     ]
    }
   ],
   "source": [
    "# initialize sequential model, add 2 stacked LSTM layers and densely connected output neuron\n",
    "model = Sequential()\n",
    "model.add(LSTM(256, return_sequences=True, input_shape=(X_train.shape[1], X_train.shape[2])))\n",
    "model.add(LSTM(256))\n",
    "model.add(Dense(1))\n",
    "\n",
    "# compile and fit the model\n",
    "model.compile(loss='mean_squared_error', optimizer='adam')\n",
    "history = model.fit(X_train, Y_train, epochs=100, batch_size=16, shuffle=False, \n",
    "                    validation_data=(X_test, Y_test), \n",
    "                    callbacks = [EarlyStopping(monitor='val_loss', min_delta=5e-5, patience=20, verbose=1)])"
   ]
  },
  {
   "cell_type": "code",
   "execution_count": 20,
   "metadata": {
    "_cell_guid": "37c1a750-4421-4b20-ba26-909ab9a0ee41",
    "_uuid": "ac55eec1ad24e59a7a252690539d2dccd6ae88b9"
   },
   "outputs": [
    {
     "data": {
      "application/vnd.plotly.v1+json": {
       "config": {
        "linkText": "Export to plot.ly",
        "plotlyServerURL": "https://plot.ly",
        "showLink": false
       },
       "data": [
        {
         "line": {
          "color": "rgb(66, 244, 155)",
          "dash": "dash",
          "width": 2
         },
         "mode": "lines",
         "name": "Train loss",
         "type": "scatter",
         "x": [
          0,
          1,
          2,
          3,
          4,
          5,
          6,
          7,
          8,
          9,
          10,
          11,
          12,
          13,
          14,
          15,
          16,
          17,
          18,
          19,
          20,
          21,
          22,
          23,
          24
         ],
         "y": [
          0.01685168780386448,
          0.028374893590807915,
          0.0070270877331495285,
          0.0017345526721328497,
          0.0007769288495182991,
          0.0007314547547139227,
          0.0003137833846267313,
          0.00048072892241179943,
          0.00033111561788246036,
          0.0005006989231333137,
          0.00034853475517593324,
          0.0005514799850061536,
          0.00035526667488738894,
          0.000606659974437207,
          0.00035198399564251304,
          0.0006482708849944174,
          0.0003420865396037698,
          0.0006554125575348735,
          0.0003276958013884723,
          0.0006138078169897199,
          0.0003155980084557086,
          0.000533103768248111,
          0.00032016445766203105,
          0.0004473139997571707,
          0.0003448485513217747
         ]
        },
        {
         "line": {
          "color": "rgb(244, 146, 65)",
          "width": 2
         },
         "mode": "lines",
         "name": "Test loss",
         "type": "scatter",
         "x": [
          0,
          1,
          2,
          3,
          4,
          5,
          6,
          7,
          8,
          9,
          10,
          11,
          12,
          13,
          14,
          15,
          16,
          17,
          18,
          19,
          20,
          21,
          22,
          23,
          24
         ],
         "y": [
          0.3822568356990814,
          0.31861740350723267,
          0.011755337938666344,
          0.02932608127593994,
          0.0031648350413888693,
          0.010149852372705936,
          0.0047382572665810585,
          0.0070190648548305035,
          0.004393261391669512,
          0.005642512813210487,
          0.003949370700865984,
          0.00484873540699482,
          0.0036951061338186264,
          0.004397972021251917,
          0.003634003223851323,
          0.004152138251811266,
          0.0037231403402984142,
          0.004026480950415134,
          0.003895747009664774,
          0.003971383441239595,
          0.004047627095133066,
          0.003963014110922813,
          0.0040997774340212345,
          0.003991956822574139,
          0.004078784957528114
         ]
        }
       ],
       "layout": {
        "template": {
         "data": {
          "bar": [
           {
            "error_x": {
             "color": "#2a3f5f"
            },
            "error_y": {
             "color": "#2a3f5f"
            },
            "marker": {
             "line": {
              "color": "#E5ECF6",
              "width": 0.5
             }
            },
            "type": "bar"
           }
          ],
          "barpolar": [
           {
            "marker": {
             "line": {
              "color": "#E5ECF6",
              "width": 0.5
             }
            },
            "type": "barpolar"
           }
          ],
          "carpet": [
           {
            "aaxis": {
             "endlinecolor": "#2a3f5f",
             "gridcolor": "white",
             "linecolor": "white",
             "minorgridcolor": "white",
             "startlinecolor": "#2a3f5f"
            },
            "baxis": {
             "endlinecolor": "#2a3f5f",
             "gridcolor": "white",
             "linecolor": "white",
             "minorgridcolor": "white",
             "startlinecolor": "#2a3f5f"
            },
            "type": "carpet"
           }
          ],
          "choropleth": [
           {
            "colorbar": {
             "outlinewidth": 0,
             "ticks": ""
            },
            "type": "choropleth"
           }
          ],
          "contour": [
           {
            "colorbar": {
             "outlinewidth": 0,
             "ticks": ""
            },
            "colorscale": [
             [
              0,
              "#0d0887"
             ],
             [
              0.1111111111111111,
              "#46039f"
             ],
             [
              0.2222222222222222,
              "#7201a8"
             ],
             [
              0.3333333333333333,
              "#9c179e"
             ],
             [
              0.4444444444444444,
              "#bd3786"
             ],
             [
              0.5555555555555556,
              "#d8576b"
             ],
             [
              0.6666666666666666,
              "#ed7953"
             ],
             [
              0.7777777777777778,
              "#fb9f3a"
             ],
             [
              0.8888888888888888,
              "#fdca26"
             ],
             [
              1,
              "#f0f921"
             ]
            ],
            "type": "contour"
           }
          ],
          "contourcarpet": [
           {
            "colorbar": {
             "outlinewidth": 0,
             "ticks": ""
            },
            "type": "contourcarpet"
           }
          ],
          "heatmap": [
           {
            "colorbar": {
             "outlinewidth": 0,
             "ticks": ""
            },
            "colorscale": [
             [
              0,
              "#0d0887"
             ],
             [
              0.1111111111111111,
              "#46039f"
             ],
             [
              0.2222222222222222,
              "#7201a8"
             ],
             [
              0.3333333333333333,
              "#9c179e"
             ],
             [
              0.4444444444444444,
              "#bd3786"
             ],
             [
              0.5555555555555556,
              "#d8576b"
             ],
             [
              0.6666666666666666,
              "#ed7953"
             ],
             [
              0.7777777777777778,
              "#fb9f3a"
             ],
             [
              0.8888888888888888,
              "#fdca26"
             ],
             [
              1,
              "#f0f921"
             ]
            ],
            "type": "heatmap"
           }
          ],
          "heatmapgl": [
           {
            "colorbar": {
             "outlinewidth": 0,
             "ticks": ""
            },
            "colorscale": [
             [
              0,
              "#0d0887"
             ],
             [
              0.1111111111111111,
              "#46039f"
             ],
             [
              0.2222222222222222,
              "#7201a8"
             ],
             [
              0.3333333333333333,
              "#9c179e"
             ],
             [
              0.4444444444444444,
              "#bd3786"
             ],
             [
              0.5555555555555556,
              "#d8576b"
             ],
             [
              0.6666666666666666,
              "#ed7953"
             ],
             [
              0.7777777777777778,
              "#fb9f3a"
             ],
             [
              0.8888888888888888,
              "#fdca26"
             ],
             [
              1,
              "#f0f921"
             ]
            ],
            "type": "heatmapgl"
           }
          ],
          "histogram": [
           {
            "marker": {
             "colorbar": {
              "outlinewidth": 0,
              "ticks": ""
             }
            },
            "type": "histogram"
           }
          ],
          "histogram2d": [
           {
            "colorbar": {
             "outlinewidth": 0,
             "ticks": ""
            },
            "colorscale": [
             [
              0,
              "#0d0887"
             ],
             [
              0.1111111111111111,
              "#46039f"
             ],
             [
              0.2222222222222222,
              "#7201a8"
             ],
             [
              0.3333333333333333,
              "#9c179e"
             ],
             [
              0.4444444444444444,
              "#bd3786"
             ],
             [
              0.5555555555555556,
              "#d8576b"
             ],
             [
              0.6666666666666666,
              "#ed7953"
             ],
             [
              0.7777777777777778,
              "#fb9f3a"
             ],
             [
              0.8888888888888888,
              "#fdca26"
             ],
             [
              1,
              "#f0f921"
             ]
            ],
            "type": "histogram2d"
           }
          ],
          "histogram2dcontour": [
           {
            "colorbar": {
             "outlinewidth": 0,
             "ticks": ""
            },
            "colorscale": [
             [
              0,
              "#0d0887"
             ],
             [
              0.1111111111111111,
              "#46039f"
             ],
             [
              0.2222222222222222,
              "#7201a8"
             ],
             [
              0.3333333333333333,
              "#9c179e"
             ],
             [
              0.4444444444444444,
              "#bd3786"
             ],
             [
              0.5555555555555556,
              "#d8576b"
             ],
             [
              0.6666666666666666,
              "#ed7953"
             ],
             [
              0.7777777777777778,
              "#fb9f3a"
             ],
             [
              0.8888888888888888,
              "#fdca26"
             ],
             [
              1,
              "#f0f921"
             ]
            ],
            "type": "histogram2dcontour"
           }
          ],
          "mesh3d": [
           {
            "colorbar": {
             "outlinewidth": 0,
             "ticks": ""
            },
            "type": "mesh3d"
           }
          ],
          "parcoords": [
           {
            "line": {
             "colorbar": {
              "outlinewidth": 0,
              "ticks": ""
             }
            },
            "type": "parcoords"
           }
          ],
          "pie": [
           {
            "automargin": true,
            "type": "pie"
           }
          ],
          "scatter": [
           {
            "marker": {
             "colorbar": {
              "outlinewidth": 0,
              "ticks": ""
             }
            },
            "type": "scatter"
           }
          ],
          "scatter3d": [
           {
            "line": {
             "colorbar": {
              "outlinewidth": 0,
              "ticks": ""
             }
            },
            "marker": {
             "colorbar": {
              "outlinewidth": 0,
              "ticks": ""
             }
            },
            "type": "scatter3d"
           }
          ],
          "scattercarpet": [
           {
            "marker": {
             "colorbar": {
              "outlinewidth": 0,
              "ticks": ""
             }
            },
            "type": "scattercarpet"
           }
          ],
          "scattergeo": [
           {
            "marker": {
             "colorbar": {
              "outlinewidth": 0,
              "ticks": ""
             }
            },
            "type": "scattergeo"
           }
          ],
          "scattergl": [
           {
            "marker": {
             "colorbar": {
              "outlinewidth": 0,
              "ticks": ""
             }
            },
            "type": "scattergl"
           }
          ],
          "scattermapbox": [
           {
            "marker": {
             "colorbar": {
              "outlinewidth": 0,
              "ticks": ""
             }
            },
            "type": "scattermapbox"
           }
          ],
          "scatterpolar": [
           {
            "marker": {
             "colorbar": {
              "outlinewidth": 0,
              "ticks": ""
             }
            },
            "type": "scatterpolar"
           }
          ],
          "scatterpolargl": [
           {
            "marker": {
             "colorbar": {
              "outlinewidth": 0,
              "ticks": ""
             }
            },
            "type": "scatterpolargl"
           }
          ],
          "scatterternary": [
           {
            "marker": {
             "colorbar": {
              "outlinewidth": 0,
              "ticks": ""
             }
            },
            "type": "scatterternary"
           }
          ],
          "surface": [
           {
            "colorbar": {
             "outlinewidth": 0,
             "ticks": ""
            },
            "colorscale": [
             [
              0,
              "#0d0887"
             ],
             [
              0.1111111111111111,
              "#46039f"
             ],
             [
              0.2222222222222222,
              "#7201a8"
             ],
             [
              0.3333333333333333,
              "#9c179e"
             ],
             [
              0.4444444444444444,
              "#bd3786"
             ],
             [
              0.5555555555555556,
              "#d8576b"
             ],
             [
              0.6666666666666666,
              "#ed7953"
             ],
             [
              0.7777777777777778,
              "#fb9f3a"
             ],
             [
              0.8888888888888888,
              "#fdca26"
             ],
             [
              1,
              "#f0f921"
             ]
            ],
            "type": "surface"
           }
          ],
          "table": [
           {
            "cells": {
             "fill": {
              "color": "#EBF0F8"
             },
             "line": {
              "color": "white"
             }
            },
            "header": {
             "fill": {
              "color": "#C8D4E3"
             },
             "line": {
              "color": "white"
             }
            },
            "type": "table"
           }
          ]
         },
         "layout": {
          "annotationdefaults": {
           "arrowcolor": "#2a3f5f",
           "arrowhead": 0,
           "arrowwidth": 1
          },
          "autotypenumbers": "strict",
          "coloraxis": {
           "colorbar": {
            "outlinewidth": 0,
            "ticks": ""
           }
          },
          "colorscale": {
           "diverging": [
            [
             0,
             "#8e0152"
            ],
            [
             0.1,
             "#c51b7d"
            ],
            [
             0.2,
             "#de77ae"
            ],
            [
             0.3,
             "#f1b6da"
            ],
            [
             0.4,
             "#fde0ef"
            ],
            [
             0.5,
             "#f7f7f7"
            ],
            [
             0.6,
             "#e6f5d0"
            ],
            [
             0.7,
             "#b8e186"
            ],
            [
             0.8,
             "#7fbc41"
            ],
            [
             0.9,
             "#4d9221"
            ],
            [
             1,
             "#276419"
            ]
           ],
           "sequential": [
            [
             0,
             "#0d0887"
            ],
            [
             0.1111111111111111,
             "#46039f"
            ],
            [
             0.2222222222222222,
             "#7201a8"
            ],
            [
             0.3333333333333333,
             "#9c179e"
            ],
            [
             0.4444444444444444,
             "#bd3786"
            ],
            [
             0.5555555555555556,
             "#d8576b"
            ],
            [
             0.6666666666666666,
             "#ed7953"
            ],
            [
             0.7777777777777778,
             "#fb9f3a"
            ],
            [
             0.8888888888888888,
             "#fdca26"
            ],
            [
             1,
             "#f0f921"
            ]
           ],
           "sequentialminus": [
            [
             0,
             "#0d0887"
            ],
            [
             0.1111111111111111,
             "#46039f"
            ],
            [
             0.2222222222222222,
             "#7201a8"
            ],
            [
             0.3333333333333333,
             "#9c179e"
            ],
            [
             0.4444444444444444,
             "#bd3786"
            ],
            [
             0.5555555555555556,
             "#d8576b"
            ],
            [
             0.6666666666666666,
             "#ed7953"
            ],
            [
             0.7777777777777778,
             "#fb9f3a"
            ],
            [
             0.8888888888888888,
             "#fdca26"
            ],
            [
             1,
             "#f0f921"
            ]
           ]
          },
          "colorway": [
           "#636efa",
           "#EF553B",
           "#00cc96",
           "#ab63fa",
           "#FFA15A",
           "#19d3f3",
           "#FF6692",
           "#B6E880",
           "#FF97FF",
           "#FECB52"
          ],
          "font": {
           "color": "#2a3f5f"
          },
          "geo": {
           "bgcolor": "white",
           "lakecolor": "white",
           "landcolor": "#E5ECF6",
           "showlakes": true,
           "showland": true,
           "subunitcolor": "white"
          },
          "hoverlabel": {
           "align": "left"
          },
          "hovermode": "closest",
          "mapbox": {
           "style": "light"
          },
          "paper_bgcolor": "white",
          "plot_bgcolor": "#E5ECF6",
          "polar": {
           "angularaxis": {
            "gridcolor": "white",
            "linecolor": "white",
            "ticks": ""
           },
           "bgcolor": "#E5ECF6",
           "radialaxis": {
            "gridcolor": "white",
            "linecolor": "white",
            "ticks": ""
           }
          },
          "scene": {
           "xaxis": {
            "backgroundcolor": "#E5ECF6",
            "gridcolor": "white",
            "gridwidth": 2,
            "linecolor": "white",
            "showbackground": true,
            "ticks": "",
            "zerolinecolor": "white"
           },
           "yaxis": {
            "backgroundcolor": "#E5ECF6",
            "gridcolor": "white",
            "gridwidth": 2,
            "linecolor": "white",
            "showbackground": true,
            "ticks": "",
            "zerolinecolor": "white"
           },
           "zaxis": {
            "backgroundcolor": "#E5ECF6",
            "gridcolor": "white",
            "gridwidth": 2,
            "linecolor": "white",
            "showbackground": true,
            "ticks": "",
            "zerolinecolor": "white"
           }
          },
          "shapedefaults": {
           "line": {
            "color": "#2a3f5f"
           }
          },
          "ternary": {
           "aaxis": {
            "gridcolor": "white",
            "linecolor": "white",
            "ticks": ""
           },
           "baxis": {
            "gridcolor": "white",
            "linecolor": "white",
            "ticks": ""
           },
           "bgcolor": "#E5ECF6",
           "caxis": {
            "gridcolor": "white",
            "linecolor": "white",
            "ticks": ""
           }
          },
          "title": {
           "x": 0.05
          },
          "xaxis": {
           "automargin": true,
           "gridcolor": "white",
           "linecolor": "white",
           "ticks": "",
           "title": {
            "standoff": 15
           },
           "zerolinecolor": "white",
           "zerolinewidth": 2
          },
          "yaxis": {
           "automargin": true,
           "gridcolor": "white",
           "linecolor": "white",
           "ticks": "",
           "title": {
            "standoff": 15
           },
           "zerolinecolor": "white",
           "zerolinewidth": 2
          }
         }
        },
        "title": {
         "text": "Train and Test Loss during training"
        },
        "xaxis": {
         "title": {
          "text": "Epoch number"
         }
        },
        "yaxis": {
         "title": {
          "text": "Loss"
         }
        }
       }
      },
      "text/html": [
       "<div>                            <div id=\"6d69479f-97a1-49ef-b0f5-5257fe59562f\" class=\"plotly-graph-div\" style=\"height:525px; width:100%;\"></div>            <script type=\"text/javascript\">                require([\"plotly\"], function(Plotly) {                    window.PLOTLYENV=window.PLOTLYENV || {};                                    if (document.getElementById(\"6d69479f-97a1-49ef-b0f5-5257fe59562f\")) {                    Plotly.newPlot(                        \"6d69479f-97a1-49ef-b0f5-5257fe59562f\",                        [{\"line\": {\"color\": \"rgb(66, 244, 155)\", \"dash\": \"dash\", \"width\": 2}, \"mode\": \"lines\", \"name\": \"Train loss\", \"type\": \"scatter\", \"x\": [0, 1, 2, 3, 4, 5, 6, 7, 8, 9, 10, 11, 12, 13, 14, 15, 16, 17, 18, 19, 20, 21, 22, 23, 24], \"y\": [0.01685168780386448, 0.028374893590807915, 0.0070270877331495285, 0.0017345526721328497, 0.0007769288495182991, 0.0007314547547139227, 0.0003137833846267313, 0.00048072892241179943, 0.00033111561788246036, 0.0005006989231333137, 0.00034853475517593324, 0.0005514799850061536, 0.00035526667488738894, 0.000606659974437207, 0.00035198399564251304, 0.0006482708849944174, 0.0003420865396037698, 0.0006554125575348735, 0.0003276958013884723, 0.0006138078169897199, 0.0003155980084557086, 0.000533103768248111, 0.00032016445766203105, 0.0004473139997571707, 0.0003448485513217747]}, {\"line\": {\"color\": \"rgb(244, 146, 65)\", \"width\": 2}, \"mode\": \"lines\", \"name\": \"Test loss\", \"type\": \"scatter\", \"x\": [0, 1, 2, 3, 4, 5, 6, 7, 8, 9, 10, 11, 12, 13, 14, 15, 16, 17, 18, 19, 20, 21, 22, 23, 24], \"y\": [0.3822568356990814, 0.31861740350723267, 0.011755337938666344, 0.02932608127593994, 0.0031648350413888693, 0.010149852372705936, 0.0047382572665810585, 0.0070190648548305035, 0.004393261391669512, 0.005642512813210487, 0.003949370700865984, 0.00484873540699482, 0.0036951061338186264, 0.004397972021251917, 0.003634003223851323, 0.004152138251811266, 0.0037231403402984142, 0.004026480950415134, 0.003895747009664774, 0.003971383441239595, 0.004047627095133066, 0.003963014110922813, 0.0040997774340212345, 0.003991956822574139, 0.004078784957528114]}],                        {\"template\": {\"data\": {\"bar\": [{\"error_x\": {\"color\": \"#2a3f5f\"}, \"error_y\": {\"color\": \"#2a3f5f\"}, \"marker\": {\"line\": {\"color\": \"#E5ECF6\", \"width\": 0.5}}, \"type\": \"bar\"}], \"barpolar\": [{\"marker\": {\"line\": {\"color\": \"#E5ECF6\", \"width\": 0.5}}, \"type\": \"barpolar\"}], \"carpet\": [{\"aaxis\": {\"endlinecolor\": \"#2a3f5f\", \"gridcolor\": \"white\", \"linecolor\": \"white\", \"minorgridcolor\": \"white\", \"startlinecolor\": \"#2a3f5f\"}, \"baxis\": {\"endlinecolor\": \"#2a3f5f\", \"gridcolor\": \"white\", \"linecolor\": \"white\", \"minorgridcolor\": \"white\", \"startlinecolor\": \"#2a3f5f\"}, \"type\": \"carpet\"}], \"choropleth\": [{\"colorbar\": {\"outlinewidth\": 0, \"ticks\": \"\"}, \"type\": \"choropleth\"}], \"contour\": [{\"colorbar\": {\"outlinewidth\": 0, \"ticks\": \"\"}, \"colorscale\": [[0.0, \"#0d0887\"], [0.1111111111111111, \"#46039f\"], [0.2222222222222222, \"#7201a8\"], [0.3333333333333333, \"#9c179e\"], [0.4444444444444444, \"#bd3786\"], [0.5555555555555556, \"#d8576b\"], [0.6666666666666666, \"#ed7953\"], [0.7777777777777778, \"#fb9f3a\"], [0.8888888888888888, \"#fdca26\"], [1.0, \"#f0f921\"]], \"type\": \"contour\"}], \"contourcarpet\": [{\"colorbar\": {\"outlinewidth\": 0, \"ticks\": \"\"}, \"type\": \"contourcarpet\"}], \"heatmap\": [{\"colorbar\": {\"outlinewidth\": 0, \"ticks\": \"\"}, \"colorscale\": [[0.0, \"#0d0887\"], [0.1111111111111111, \"#46039f\"], [0.2222222222222222, \"#7201a8\"], [0.3333333333333333, \"#9c179e\"], [0.4444444444444444, \"#bd3786\"], [0.5555555555555556, \"#d8576b\"], [0.6666666666666666, \"#ed7953\"], [0.7777777777777778, \"#fb9f3a\"], [0.8888888888888888, \"#fdca26\"], [1.0, \"#f0f921\"]], \"type\": \"heatmap\"}], \"heatmapgl\": [{\"colorbar\": {\"outlinewidth\": 0, \"ticks\": \"\"}, \"colorscale\": [[0.0, \"#0d0887\"], [0.1111111111111111, \"#46039f\"], [0.2222222222222222, \"#7201a8\"], [0.3333333333333333, \"#9c179e\"], [0.4444444444444444, \"#bd3786\"], [0.5555555555555556, \"#d8576b\"], [0.6666666666666666, \"#ed7953\"], [0.7777777777777778, \"#fb9f3a\"], [0.8888888888888888, \"#fdca26\"], [1.0, \"#f0f921\"]], \"type\": \"heatmapgl\"}], \"histogram\": [{\"marker\": {\"colorbar\": {\"outlinewidth\": 0, \"ticks\": \"\"}}, \"type\": \"histogram\"}], \"histogram2d\": [{\"colorbar\": {\"outlinewidth\": 0, \"ticks\": \"\"}, \"colorscale\": [[0.0, \"#0d0887\"], [0.1111111111111111, \"#46039f\"], [0.2222222222222222, \"#7201a8\"], [0.3333333333333333, \"#9c179e\"], [0.4444444444444444, \"#bd3786\"], [0.5555555555555556, \"#d8576b\"], [0.6666666666666666, \"#ed7953\"], [0.7777777777777778, \"#fb9f3a\"], [0.8888888888888888, \"#fdca26\"], [1.0, \"#f0f921\"]], \"type\": \"histogram2d\"}], \"histogram2dcontour\": [{\"colorbar\": {\"outlinewidth\": 0, \"ticks\": \"\"}, \"colorscale\": [[0.0, \"#0d0887\"], [0.1111111111111111, \"#46039f\"], [0.2222222222222222, \"#7201a8\"], [0.3333333333333333, \"#9c179e\"], [0.4444444444444444, \"#bd3786\"], [0.5555555555555556, \"#d8576b\"], [0.6666666666666666, \"#ed7953\"], [0.7777777777777778, \"#fb9f3a\"], [0.8888888888888888, \"#fdca26\"], [1.0, \"#f0f921\"]], \"type\": \"histogram2dcontour\"}], \"mesh3d\": [{\"colorbar\": {\"outlinewidth\": 0, \"ticks\": \"\"}, \"type\": \"mesh3d\"}], \"parcoords\": [{\"line\": {\"colorbar\": {\"outlinewidth\": 0, \"ticks\": \"\"}}, \"type\": \"parcoords\"}], \"pie\": [{\"automargin\": true, \"type\": \"pie\"}], \"scatter\": [{\"marker\": {\"colorbar\": {\"outlinewidth\": 0, \"ticks\": \"\"}}, \"type\": \"scatter\"}], \"scatter3d\": [{\"line\": {\"colorbar\": {\"outlinewidth\": 0, \"ticks\": \"\"}}, \"marker\": {\"colorbar\": {\"outlinewidth\": 0, \"ticks\": \"\"}}, \"type\": \"scatter3d\"}], \"scattercarpet\": [{\"marker\": {\"colorbar\": {\"outlinewidth\": 0, \"ticks\": \"\"}}, \"type\": \"scattercarpet\"}], \"scattergeo\": [{\"marker\": {\"colorbar\": {\"outlinewidth\": 0, \"ticks\": \"\"}}, \"type\": \"scattergeo\"}], \"scattergl\": [{\"marker\": {\"colorbar\": {\"outlinewidth\": 0, \"ticks\": \"\"}}, \"type\": \"scattergl\"}], \"scattermapbox\": [{\"marker\": {\"colorbar\": {\"outlinewidth\": 0, \"ticks\": \"\"}}, \"type\": \"scattermapbox\"}], \"scatterpolar\": [{\"marker\": {\"colorbar\": {\"outlinewidth\": 0, \"ticks\": \"\"}}, \"type\": \"scatterpolar\"}], \"scatterpolargl\": [{\"marker\": {\"colorbar\": {\"outlinewidth\": 0, \"ticks\": \"\"}}, \"type\": \"scatterpolargl\"}], \"scatterternary\": [{\"marker\": {\"colorbar\": {\"outlinewidth\": 0, \"ticks\": \"\"}}, \"type\": \"scatterternary\"}], \"surface\": [{\"colorbar\": {\"outlinewidth\": 0, \"ticks\": \"\"}, \"colorscale\": [[0.0, \"#0d0887\"], [0.1111111111111111, \"#46039f\"], [0.2222222222222222, \"#7201a8\"], [0.3333333333333333, \"#9c179e\"], [0.4444444444444444, \"#bd3786\"], [0.5555555555555556, \"#d8576b\"], [0.6666666666666666, \"#ed7953\"], [0.7777777777777778, \"#fb9f3a\"], [0.8888888888888888, \"#fdca26\"], [1.0, \"#f0f921\"]], \"type\": \"surface\"}], \"table\": [{\"cells\": {\"fill\": {\"color\": \"#EBF0F8\"}, \"line\": {\"color\": \"white\"}}, \"header\": {\"fill\": {\"color\": \"#C8D4E3\"}, \"line\": {\"color\": \"white\"}}, \"type\": \"table\"}]}, \"layout\": {\"annotationdefaults\": {\"arrowcolor\": \"#2a3f5f\", \"arrowhead\": 0, \"arrowwidth\": 1}, \"autotypenumbers\": \"strict\", \"coloraxis\": {\"colorbar\": {\"outlinewidth\": 0, \"ticks\": \"\"}}, \"colorscale\": {\"diverging\": [[0, \"#8e0152\"], [0.1, \"#c51b7d\"], [0.2, \"#de77ae\"], [0.3, \"#f1b6da\"], [0.4, \"#fde0ef\"], [0.5, \"#f7f7f7\"], [0.6, \"#e6f5d0\"], [0.7, \"#b8e186\"], [0.8, \"#7fbc41\"], [0.9, \"#4d9221\"], [1, \"#276419\"]], \"sequential\": [[0.0, \"#0d0887\"], [0.1111111111111111, \"#46039f\"], [0.2222222222222222, \"#7201a8\"], [0.3333333333333333, \"#9c179e\"], [0.4444444444444444, \"#bd3786\"], [0.5555555555555556, \"#d8576b\"], [0.6666666666666666, \"#ed7953\"], [0.7777777777777778, \"#fb9f3a\"], [0.8888888888888888, \"#fdca26\"], [1.0, \"#f0f921\"]], \"sequentialminus\": [[0.0, \"#0d0887\"], [0.1111111111111111, \"#46039f\"], [0.2222222222222222, \"#7201a8\"], [0.3333333333333333, \"#9c179e\"], [0.4444444444444444, \"#bd3786\"], [0.5555555555555556, \"#d8576b\"], [0.6666666666666666, \"#ed7953\"], [0.7777777777777778, \"#fb9f3a\"], [0.8888888888888888, \"#fdca26\"], [1.0, \"#f0f921\"]]}, \"colorway\": [\"#636efa\", \"#EF553B\", \"#00cc96\", \"#ab63fa\", \"#FFA15A\", \"#19d3f3\", \"#FF6692\", \"#B6E880\", \"#FF97FF\", \"#FECB52\"], \"font\": {\"color\": \"#2a3f5f\"}, \"geo\": {\"bgcolor\": \"white\", \"lakecolor\": \"white\", \"landcolor\": \"#E5ECF6\", \"showlakes\": true, \"showland\": true, \"subunitcolor\": \"white\"}, \"hoverlabel\": {\"align\": \"left\"}, \"hovermode\": \"closest\", \"mapbox\": {\"style\": \"light\"}, \"paper_bgcolor\": \"white\", \"plot_bgcolor\": \"#E5ECF6\", \"polar\": {\"angularaxis\": {\"gridcolor\": \"white\", \"linecolor\": \"white\", \"ticks\": \"\"}, \"bgcolor\": \"#E5ECF6\", \"radialaxis\": {\"gridcolor\": \"white\", \"linecolor\": \"white\", \"ticks\": \"\"}}, \"scene\": {\"xaxis\": {\"backgroundcolor\": \"#E5ECF6\", \"gridcolor\": \"white\", \"gridwidth\": 2, \"linecolor\": \"white\", \"showbackground\": true, \"ticks\": \"\", \"zerolinecolor\": \"white\"}, \"yaxis\": {\"backgroundcolor\": \"#E5ECF6\", \"gridcolor\": \"white\", \"gridwidth\": 2, \"linecolor\": \"white\", \"showbackground\": true, \"ticks\": \"\", \"zerolinecolor\": \"white\"}, \"zaxis\": {\"backgroundcolor\": \"#E5ECF6\", \"gridcolor\": \"white\", \"gridwidth\": 2, \"linecolor\": \"white\", \"showbackground\": true, \"ticks\": \"\", \"zerolinecolor\": \"white\"}}, \"shapedefaults\": {\"line\": {\"color\": \"#2a3f5f\"}}, \"ternary\": {\"aaxis\": {\"gridcolor\": \"white\", \"linecolor\": \"white\", \"ticks\": \"\"}, \"baxis\": {\"gridcolor\": \"white\", \"linecolor\": \"white\", \"ticks\": \"\"}, \"bgcolor\": \"#E5ECF6\", \"caxis\": {\"gridcolor\": \"white\", \"linecolor\": \"white\", \"ticks\": \"\"}}, \"title\": {\"x\": 0.05}, \"xaxis\": {\"automargin\": true, \"gridcolor\": \"white\", \"linecolor\": \"white\", \"ticks\": \"\", \"title\": {\"standoff\": 15}, \"zerolinecolor\": \"white\", \"zerolinewidth\": 2}, \"yaxis\": {\"automargin\": true, \"gridcolor\": \"white\", \"linecolor\": \"white\", \"ticks\": \"\", \"title\": {\"standoff\": 15}, \"zerolinecolor\": \"white\", \"zerolinewidth\": 2}}}, \"title\": {\"text\": \"Train and Test Loss during training\"}, \"xaxis\": {\"title\": {\"text\": \"Epoch number\"}}, \"yaxis\": {\"title\": {\"text\": \"Loss\"}}},                        {\"responsive\": true}                    ).then(function(){\n",
       "                            \n",
       "var gd = document.getElementById('6d69479f-97a1-49ef-b0f5-5257fe59562f');\n",
       "var x = new MutationObserver(function (mutations, observer) {{\n",
       "        var display = window.getComputedStyle(gd).display;\n",
       "        if (!display || display === 'none') {{\n",
       "            console.log([gd, 'removed!']);\n",
       "            Plotly.purge(gd);\n",
       "            observer.disconnect();\n",
       "        }}\n",
       "}});\n",
       "\n",
       "// Listen for the removal of the full notebook cells\n",
       "var notebookContainer = gd.closest('#notebook-container');\n",
       "if (notebookContainer) {{\n",
       "    x.observe(notebookContainer, {childList: true});\n",
       "}}\n",
       "\n",
       "// Listen for the clearing of the current output cell\n",
       "var outputEl = gd.closest('.output');\n",
       "if (outputEl) {{\n",
       "    x.observe(outputEl, {childList: true});\n",
       "}}\n",
       "\n",
       "                        })                };                });            </script>        </div>"
      ]
     },
     "metadata": {},
     "output_type": "display_data"
    }
   ],
   "source": [
    "trace1 = go.Scatter(\n",
    "    x = np.arange(0, len(history.history['loss']), 1),\n",
    "    y = history.history['loss'],\n",
    "    mode = 'lines',\n",
    "    name = 'Train loss',\n",
    "    line = dict(color=('rgb(66, 244, 155)'), width=2, dash='dash')\n",
    ")\n",
    "trace2 = go.Scatter(\n",
    "    x = np.arange(0, len(history.history['val_loss']), 1),\n",
    "    y = history.history['val_loss'],\n",
    "    mode = 'lines',\n",
    "    name = 'Test loss',\n",
    "    line = dict(color=('rgb(244, 146, 65)'), width=2)\n",
    ")\n",
    "\n",
    "data = [trace1, trace2]\n",
    "layout = dict(title = 'Train and Test Loss during training', \n",
    "              xaxis = dict(title = 'Epoch number'), yaxis = dict(title = 'Loss'))\n",
    "fig = dict(data=data, layout=layout)\n",
    "py.iplot(fig, filename='training_process')"
   ]
  },
  {
   "cell_type": "markdown",
   "metadata": {
    "_cell_guid": "5a9c8869-97da-49d4-8bda-0a2844359a68",
    "_uuid": "28ba5854e7e9ff7449a11e8ac809bd078fc52101"
   },
   "source": [
    "We trained our model. You can see that it has good performance even after several iterations. On the plot above, we compare the Train and Test loss on each iteration of the training process. We can see, that after some iterations train and test loss become very similar, which is a good sign (this means we are not overfitting the train set). \n",
    "Below, we use our model to **predict labels for the test set**. Then we inverse original scale of our data. You can see a comparison of true and predicted labels on the chart below. It looks like our model gives good results (lines are very similar)!"
   ]
  },
  {
   "cell_type": "code",
   "execution_count": 36,
   "metadata": {
    "_cell_guid": "f45ff786-e272-4c0b-8327-db25cde237fb",
    "_uuid": "e7245ec9aab788530d749b3855424cc154e1dc59"
   },
   "outputs": [],
   "source": [
    "# add one additional data point to align shapes of the predictions and true labels\n",
    "X_test = np.append(X_test, scaler.transform(np.reshape(working_data.iloc[-1][0], (-1,1))))\n",
    "X_test = np.reshape(X_test, (len(X_test), 1, 1))\n",
    "\n",
    "# get predictions and then make some transformations to be able to calculate RMSE properly in USD\n",
    "prediction = model.predict(X_test)\n",
    "prediction_inverse = scaler.inverse_transform(prediction.reshape(-1, 1))\n",
    "Y_test_inverse = scaler.inverse_transform(Y_test.reshape(-1, 1))\n",
    "prediction2_inverse = np.array(prediction_inverse[:,0][1:])\n",
    "Y_test2_inverse = np.array(Y_test_inverse[:,0])"
   ]
  },
  {
   "cell_type": "code",
   "execution_count": 29,
   "metadata": {
    "_cell_guid": "136cbe49-8e76-4149-afbe-1e3d19ed23d1",
    "_uuid": "5b07c4ceb60eac5e125580cd41db26191c4695cf"
   },
   "outputs": [
    {
     "data": {
      "application/vnd.plotly.v1+json": {
       "config": {
        "linkText": "Export to plot.ly",
        "plotlyServerURL": "https://plot.ly",
        "showLink": false
       },
       "data": [
        {
         "line": {
          "color": "rgb(244, 146, 65)",
          "width": 2
         },
         "mode": "lines",
         "name": "Predicted labels",
         "type": "scatter",
         "x": [
          0,
          1,
          2,
          3,
          4,
          5,
          6,
          7,
          8,
          9,
          10,
          11,
          12,
          13,
          14,
          15,
          16,
          17,
          18,
          19,
          20,
          21,
          22,
          23,
          24,
          25,
          26,
          27,
          28,
          29,
          30,
          31,
          32,
          33,
          34,
          35,
          36,
          37,
          38,
          39,
          40,
          41,
          42,
          43,
          44,
          45,
          46,
          47,
          48,
          49,
          50,
          51,
          52,
          53,
          54,
          55,
          56,
          57,
          58
         ],
         "y": [
          34241.6171875,
          35279.390625,
          37202.74609375,
          38208.76171875,
          38300.8359375,
          40580.6875,
          39428.1328125,
          42030.47265625,
          47836.16796875,
          46894.0390625,
          47397.4296875,
          48815.5,
          48464.046875,
          49880.265625,
          49091.84765625,
          50141.88671875,
          52358.95703125,
          53411.578125,
          54693.64453125,
          58138.35546875,
          58972.51171875,
          56447.0546875,
          50274.16796875,
          51164.375,
          51362.5859375,
          47805.75390625,
          48310.9375,
          45853.5703125,
          48856.1640625,
          49898.22265625,
          51838.95703125,
          50733.74609375,
          48937.375,
          49635.578125,
          51612.390625,
          52234.87109375,
          55661.2578125,
          57168.390625,
          58139.7734375,
          58740.15625,
          60885.50390625,
          62684.52734375,
          59479.05078125,
          57129.921875,
          58015.65625,
          60526.3203125,
          60321.44140625,
          60860.68359375,
          59267.3125,
          58697.4296875,
          56441.734375,
          56896.47265625,
          53657.296875,
          54863.0703125,
          56971.49609375,
          57663.640625,
          58834.9609375,
          60390.28125,
          60843.92578125
         ]
        },
        {
         "line": {
          "color": "rgb(66, 244, 155)",
          "width": 2
         },
         "mode": "lines",
         "name": "True labels",
         "type": "scatter",
         "x": [
          0,
          1,
          2,
          3,
          4,
          5,
          6,
          7,
          8,
          9,
          10,
          11,
          12,
          13,
          14,
          15,
          16,
          17,
          18,
          19,
          20,
          21,
          22,
          23,
          24,
          25,
          26,
          27,
          28,
          29,
          30,
          31,
          32,
          33,
          34,
          35,
          36,
          37,
          38,
          39,
          40,
          41,
          42,
          43,
          44,
          45,
          46,
          47,
          48,
          49,
          50,
          51,
          52,
          53,
          54,
          55,
          56,
          57,
          58
         ],
         "y": [
          33705.97519064721,
          34713.696400108354,
          36573.09481030624,
          37541.548132422206,
          37630.04921400489,
          39814.35655457264,
          38711.77455524941,
          41196.61444486643,
          46684.490849562455,
          45798.7337153625,
          46272.21566854445,
          47603.415420118086,
          47273.84991914459,
          48600.49151849026,
          47862.39794598202,
          48845.16600342642,
          50913.92413875071,
          51893.311181218756,
          53083.8791087993,
          56271.288537679146,
          57040.82594383049,
          54708.31202510767,
          48968.837945908424,
          49800.28486888125,
          49985.23481495351,
          46655.920048518725,
          47130.208060158875,
          44818.44755210362,
          47641.53689948156,
          48617.28932090135,
          50429.44901579067,
          49398.2503985708,
          47717.64330027977,
          48371.54353797001,
          50218.21680438112,
          50798.35421240729,
          53980.847261679024,
          55375.36624125794,
          56272.59697201393,
          56826.56003304944,
          58802.601567706326,
          60455.84483148646,
          57507.73450910979,
          55339.80479183194,
          56158.0173198603,
          58472.11732155987,
          58283.54799432516,
          58779.76938655648,
          57312.59853645818,
          56787.14842211064,
          54703.38774047086,
          55123.99385491758,
          52121.68411029948,
          53241.03748850518,
          55193.35725955907,
          55832.958823907036,
          56913.99381926178,
          58346.912268295404,
          58764.349363
         ]
        }
       ],
       "layout": {
        "template": {
         "data": {
          "bar": [
           {
            "error_x": {
             "color": "#2a3f5f"
            },
            "error_y": {
             "color": "#2a3f5f"
            },
            "marker": {
             "line": {
              "color": "#E5ECF6",
              "width": 0.5
             }
            },
            "type": "bar"
           }
          ],
          "barpolar": [
           {
            "marker": {
             "line": {
              "color": "#E5ECF6",
              "width": 0.5
             }
            },
            "type": "barpolar"
           }
          ],
          "carpet": [
           {
            "aaxis": {
             "endlinecolor": "#2a3f5f",
             "gridcolor": "white",
             "linecolor": "white",
             "minorgridcolor": "white",
             "startlinecolor": "#2a3f5f"
            },
            "baxis": {
             "endlinecolor": "#2a3f5f",
             "gridcolor": "white",
             "linecolor": "white",
             "minorgridcolor": "white",
             "startlinecolor": "#2a3f5f"
            },
            "type": "carpet"
           }
          ],
          "choropleth": [
           {
            "colorbar": {
             "outlinewidth": 0,
             "ticks": ""
            },
            "type": "choropleth"
           }
          ],
          "contour": [
           {
            "colorbar": {
             "outlinewidth": 0,
             "ticks": ""
            },
            "colorscale": [
             [
              0,
              "#0d0887"
             ],
             [
              0.1111111111111111,
              "#46039f"
             ],
             [
              0.2222222222222222,
              "#7201a8"
             ],
             [
              0.3333333333333333,
              "#9c179e"
             ],
             [
              0.4444444444444444,
              "#bd3786"
             ],
             [
              0.5555555555555556,
              "#d8576b"
             ],
             [
              0.6666666666666666,
              "#ed7953"
             ],
             [
              0.7777777777777778,
              "#fb9f3a"
             ],
             [
              0.8888888888888888,
              "#fdca26"
             ],
             [
              1,
              "#f0f921"
             ]
            ],
            "type": "contour"
           }
          ],
          "contourcarpet": [
           {
            "colorbar": {
             "outlinewidth": 0,
             "ticks": ""
            },
            "type": "contourcarpet"
           }
          ],
          "heatmap": [
           {
            "colorbar": {
             "outlinewidth": 0,
             "ticks": ""
            },
            "colorscale": [
             [
              0,
              "#0d0887"
             ],
             [
              0.1111111111111111,
              "#46039f"
             ],
             [
              0.2222222222222222,
              "#7201a8"
             ],
             [
              0.3333333333333333,
              "#9c179e"
             ],
             [
              0.4444444444444444,
              "#bd3786"
             ],
             [
              0.5555555555555556,
              "#d8576b"
             ],
             [
              0.6666666666666666,
              "#ed7953"
             ],
             [
              0.7777777777777778,
              "#fb9f3a"
             ],
             [
              0.8888888888888888,
              "#fdca26"
             ],
             [
              1,
              "#f0f921"
             ]
            ],
            "type": "heatmap"
           }
          ],
          "heatmapgl": [
           {
            "colorbar": {
             "outlinewidth": 0,
             "ticks": ""
            },
            "colorscale": [
             [
              0,
              "#0d0887"
             ],
             [
              0.1111111111111111,
              "#46039f"
             ],
             [
              0.2222222222222222,
              "#7201a8"
             ],
             [
              0.3333333333333333,
              "#9c179e"
             ],
             [
              0.4444444444444444,
              "#bd3786"
             ],
             [
              0.5555555555555556,
              "#d8576b"
             ],
             [
              0.6666666666666666,
              "#ed7953"
             ],
             [
              0.7777777777777778,
              "#fb9f3a"
             ],
             [
              0.8888888888888888,
              "#fdca26"
             ],
             [
              1,
              "#f0f921"
             ]
            ],
            "type": "heatmapgl"
           }
          ],
          "histogram": [
           {
            "marker": {
             "colorbar": {
              "outlinewidth": 0,
              "ticks": ""
             }
            },
            "type": "histogram"
           }
          ],
          "histogram2d": [
           {
            "colorbar": {
             "outlinewidth": 0,
             "ticks": ""
            },
            "colorscale": [
             [
              0,
              "#0d0887"
             ],
             [
              0.1111111111111111,
              "#46039f"
             ],
             [
              0.2222222222222222,
              "#7201a8"
             ],
             [
              0.3333333333333333,
              "#9c179e"
             ],
             [
              0.4444444444444444,
              "#bd3786"
             ],
             [
              0.5555555555555556,
              "#d8576b"
             ],
             [
              0.6666666666666666,
              "#ed7953"
             ],
             [
              0.7777777777777778,
              "#fb9f3a"
             ],
             [
              0.8888888888888888,
              "#fdca26"
             ],
             [
              1,
              "#f0f921"
             ]
            ],
            "type": "histogram2d"
           }
          ],
          "histogram2dcontour": [
           {
            "colorbar": {
             "outlinewidth": 0,
             "ticks": ""
            },
            "colorscale": [
             [
              0,
              "#0d0887"
             ],
             [
              0.1111111111111111,
              "#46039f"
             ],
             [
              0.2222222222222222,
              "#7201a8"
             ],
             [
              0.3333333333333333,
              "#9c179e"
             ],
             [
              0.4444444444444444,
              "#bd3786"
             ],
             [
              0.5555555555555556,
              "#d8576b"
             ],
             [
              0.6666666666666666,
              "#ed7953"
             ],
             [
              0.7777777777777778,
              "#fb9f3a"
             ],
             [
              0.8888888888888888,
              "#fdca26"
             ],
             [
              1,
              "#f0f921"
             ]
            ],
            "type": "histogram2dcontour"
           }
          ],
          "mesh3d": [
           {
            "colorbar": {
             "outlinewidth": 0,
             "ticks": ""
            },
            "type": "mesh3d"
           }
          ],
          "parcoords": [
           {
            "line": {
             "colorbar": {
              "outlinewidth": 0,
              "ticks": ""
             }
            },
            "type": "parcoords"
           }
          ],
          "pie": [
           {
            "automargin": true,
            "type": "pie"
           }
          ],
          "scatter": [
           {
            "marker": {
             "colorbar": {
              "outlinewidth": 0,
              "ticks": ""
             }
            },
            "type": "scatter"
           }
          ],
          "scatter3d": [
           {
            "line": {
             "colorbar": {
              "outlinewidth": 0,
              "ticks": ""
             }
            },
            "marker": {
             "colorbar": {
              "outlinewidth": 0,
              "ticks": ""
             }
            },
            "type": "scatter3d"
           }
          ],
          "scattercarpet": [
           {
            "marker": {
             "colorbar": {
              "outlinewidth": 0,
              "ticks": ""
             }
            },
            "type": "scattercarpet"
           }
          ],
          "scattergeo": [
           {
            "marker": {
             "colorbar": {
              "outlinewidth": 0,
              "ticks": ""
             }
            },
            "type": "scattergeo"
           }
          ],
          "scattergl": [
           {
            "marker": {
             "colorbar": {
              "outlinewidth": 0,
              "ticks": ""
             }
            },
            "type": "scattergl"
           }
          ],
          "scattermapbox": [
           {
            "marker": {
             "colorbar": {
              "outlinewidth": 0,
              "ticks": ""
             }
            },
            "type": "scattermapbox"
           }
          ],
          "scatterpolar": [
           {
            "marker": {
             "colorbar": {
              "outlinewidth": 0,
              "ticks": ""
             }
            },
            "type": "scatterpolar"
           }
          ],
          "scatterpolargl": [
           {
            "marker": {
             "colorbar": {
              "outlinewidth": 0,
              "ticks": ""
             }
            },
            "type": "scatterpolargl"
           }
          ],
          "scatterternary": [
           {
            "marker": {
             "colorbar": {
              "outlinewidth": 0,
              "ticks": ""
             }
            },
            "type": "scatterternary"
           }
          ],
          "surface": [
           {
            "colorbar": {
             "outlinewidth": 0,
             "ticks": ""
            },
            "colorscale": [
             [
              0,
              "#0d0887"
             ],
             [
              0.1111111111111111,
              "#46039f"
             ],
             [
              0.2222222222222222,
              "#7201a8"
             ],
             [
              0.3333333333333333,
              "#9c179e"
             ],
             [
              0.4444444444444444,
              "#bd3786"
             ],
             [
              0.5555555555555556,
              "#d8576b"
             ],
             [
              0.6666666666666666,
              "#ed7953"
             ],
             [
              0.7777777777777778,
              "#fb9f3a"
             ],
             [
              0.8888888888888888,
              "#fdca26"
             ],
             [
              1,
              "#f0f921"
             ]
            ],
            "type": "surface"
           }
          ],
          "table": [
           {
            "cells": {
             "fill": {
              "color": "#EBF0F8"
             },
             "line": {
              "color": "white"
             }
            },
            "header": {
             "fill": {
              "color": "#C8D4E3"
             },
             "line": {
              "color": "white"
             }
            },
            "type": "table"
           }
          ]
         },
         "layout": {
          "annotationdefaults": {
           "arrowcolor": "#2a3f5f",
           "arrowhead": 0,
           "arrowwidth": 1
          },
          "autotypenumbers": "strict",
          "coloraxis": {
           "colorbar": {
            "outlinewidth": 0,
            "ticks": ""
           }
          },
          "colorscale": {
           "diverging": [
            [
             0,
             "#8e0152"
            ],
            [
             0.1,
             "#c51b7d"
            ],
            [
             0.2,
             "#de77ae"
            ],
            [
             0.3,
             "#f1b6da"
            ],
            [
             0.4,
             "#fde0ef"
            ],
            [
             0.5,
             "#f7f7f7"
            ],
            [
             0.6,
             "#e6f5d0"
            ],
            [
             0.7,
             "#b8e186"
            ],
            [
             0.8,
             "#7fbc41"
            ],
            [
             0.9,
             "#4d9221"
            ],
            [
             1,
             "#276419"
            ]
           ],
           "sequential": [
            [
             0,
             "#0d0887"
            ],
            [
             0.1111111111111111,
             "#46039f"
            ],
            [
             0.2222222222222222,
             "#7201a8"
            ],
            [
             0.3333333333333333,
             "#9c179e"
            ],
            [
             0.4444444444444444,
             "#bd3786"
            ],
            [
             0.5555555555555556,
             "#d8576b"
            ],
            [
             0.6666666666666666,
             "#ed7953"
            ],
            [
             0.7777777777777778,
             "#fb9f3a"
            ],
            [
             0.8888888888888888,
             "#fdca26"
            ],
            [
             1,
             "#f0f921"
            ]
           ],
           "sequentialminus": [
            [
             0,
             "#0d0887"
            ],
            [
             0.1111111111111111,
             "#46039f"
            ],
            [
             0.2222222222222222,
             "#7201a8"
            ],
            [
             0.3333333333333333,
             "#9c179e"
            ],
            [
             0.4444444444444444,
             "#bd3786"
            ],
            [
             0.5555555555555556,
             "#d8576b"
            ],
            [
             0.6666666666666666,
             "#ed7953"
            ],
            [
             0.7777777777777778,
             "#fb9f3a"
            ],
            [
             0.8888888888888888,
             "#fdca26"
            ],
            [
             1,
             "#f0f921"
            ]
           ]
          },
          "colorway": [
           "#636efa",
           "#EF553B",
           "#00cc96",
           "#ab63fa",
           "#FFA15A",
           "#19d3f3",
           "#FF6692",
           "#B6E880",
           "#FF97FF",
           "#FECB52"
          ],
          "font": {
           "color": "#2a3f5f"
          },
          "geo": {
           "bgcolor": "white",
           "lakecolor": "white",
           "landcolor": "#E5ECF6",
           "showlakes": true,
           "showland": true,
           "subunitcolor": "white"
          },
          "hoverlabel": {
           "align": "left"
          },
          "hovermode": "closest",
          "mapbox": {
           "style": "light"
          },
          "paper_bgcolor": "white",
          "plot_bgcolor": "#E5ECF6",
          "polar": {
           "angularaxis": {
            "gridcolor": "white",
            "linecolor": "white",
            "ticks": ""
           },
           "bgcolor": "#E5ECF6",
           "radialaxis": {
            "gridcolor": "white",
            "linecolor": "white",
            "ticks": ""
           }
          },
          "scene": {
           "xaxis": {
            "backgroundcolor": "#E5ECF6",
            "gridcolor": "white",
            "gridwidth": 2,
            "linecolor": "white",
            "showbackground": true,
            "ticks": "",
            "zerolinecolor": "white"
           },
           "yaxis": {
            "backgroundcolor": "#E5ECF6",
            "gridcolor": "white",
            "gridwidth": 2,
            "linecolor": "white",
            "showbackground": true,
            "ticks": "",
            "zerolinecolor": "white"
           },
           "zaxis": {
            "backgroundcolor": "#E5ECF6",
            "gridcolor": "white",
            "gridwidth": 2,
            "linecolor": "white",
            "showbackground": true,
            "ticks": "",
            "zerolinecolor": "white"
           }
          },
          "shapedefaults": {
           "line": {
            "color": "#2a3f5f"
           }
          },
          "ternary": {
           "aaxis": {
            "gridcolor": "white",
            "linecolor": "white",
            "ticks": ""
           },
           "baxis": {
            "gridcolor": "white",
            "linecolor": "white",
            "ticks": ""
           },
           "bgcolor": "#E5ECF6",
           "caxis": {
            "gridcolor": "white",
            "linecolor": "white",
            "ticks": ""
           }
          },
          "title": {
           "x": 0.05
          },
          "xaxis": {
           "automargin": true,
           "gridcolor": "white",
           "linecolor": "white",
           "ticks": "",
           "title": {
            "standoff": 15
           },
           "zerolinecolor": "white",
           "zerolinewidth": 2
          },
          "yaxis": {
           "automargin": true,
           "gridcolor": "white",
           "linecolor": "white",
           "ticks": "",
           "title": {
            "standoff": 15
           },
           "zerolinecolor": "white",
           "zerolinewidth": 2
          }
         }
        },
        "title": {
         "text": "Comparison of true prices (on the test dataset) with prices our model predicted"
        },
        "xaxis": {
         "title": {
          "text": "Day number"
         }
        },
        "yaxis": {
         "title": {
          "text": "Price, USD"
         }
        }
       }
      },
      "text/html": [
       "<div>                            <div id=\"54443d3a-3eba-4a13-9d2e-ce160d5bb265\" class=\"plotly-graph-div\" style=\"height:525px; width:100%;\"></div>            <script type=\"text/javascript\">                require([\"plotly\"], function(Plotly) {                    window.PLOTLYENV=window.PLOTLYENV || {};                                    if (document.getElementById(\"54443d3a-3eba-4a13-9d2e-ce160d5bb265\")) {                    Plotly.newPlot(                        \"54443d3a-3eba-4a13-9d2e-ce160d5bb265\",                        [{\"line\": {\"color\": \"rgb(244, 146, 65)\", \"width\": 2}, \"mode\": \"lines\", \"name\": \"Predicted labels\", \"type\": \"scatter\", \"x\": [0, 1, 2, 3, 4, 5, 6, 7, 8, 9, 10, 11, 12, 13, 14, 15, 16, 17, 18, 19, 20, 21, 22, 23, 24, 25, 26, 27, 28, 29, 30, 31, 32, 33, 34, 35, 36, 37, 38, 39, 40, 41, 42, 43, 44, 45, 46, 47, 48, 49, 50, 51, 52, 53, 54, 55, 56, 57, 58], \"y\": [34241.6171875, 35279.390625, 37202.74609375, 38208.76171875, 38300.8359375, 40580.6875, 39428.1328125, 42030.47265625, 47836.16796875, 46894.0390625, 47397.4296875, 48815.5, 48464.046875, 49880.265625, 49091.84765625, 50141.88671875, 52358.95703125, 53411.578125, 54693.64453125, 58138.35546875, 58972.51171875, 56447.0546875, 50274.16796875, 51164.375, 51362.5859375, 47805.75390625, 48310.9375, 45853.5703125, 48856.1640625, 49898.22265625, 51838.95703125, 50733.74609375, 48937.375, 49635.578125, 51612.390625, 52234.87109375, 55661.2578125, 57168.390625, 58139.7734375, 58740.15625, 60885.50390625, 62684.52734375, 59479.05078125, 57129.921875, 58015.65625, 60526.3203125, 60321.44140625, 60860.68359375, 59267.3125, 58697.4296875, 56441.734375, 56896.47265625, 53657.296875, 54863.0703125, 56971.49609375, 57663.640625, 58834.9609375, 60390.28125, 60843.92578125]}, {\"line\": {\"color\": \"rgb(66, 244, 155)\", \"width\": 2}, \"mode\": \"lines\", \"name\": \"True labels\", \"type\": \"scatter\", \"x\": [0, 1, 2, 3, 4, 5, 6, 7, 8, 9, 10, 11, 12, 13, 14, 15, 16, 17, 18, 19, 20, 21, 22, 23, 24, 25, 26, 27, 28, 29, 30, 31, 32, 33, 34, 35, 36, 37, 38, 39, 40, 41, 42, 43, 44, 45, 46, 47, 48, 49, 50, 51, 52, 53, 54, 55, 56, 57, 58], \"y\": [33705.97519064721, 34713.696400108354, 36573.09481030624, 37541.548132422206, 37630.04921400489, 39814.35655457264, 38711.77455524941, 41196.61444486643, 46684.490849562455, 45798.7337153625, 46272.21566854445, 47603.415420118086, 47273.84991914459, 48600.49151849026, 47862.39794598202, 48845.16600342642, 50913.92413875071, 51893.311181218756, 53083.8791087993, 56271.288537679146, 57040.82594383049, 54708.31202510767, 48968.837945908424, 49800.28486888125, 49985.23481495351, 46655.920048518725, 47130.208060158875, 44818.44755210362, 47641.53689948156, 48617.28932090135, 50429.44901579067, 49398.2503985708, 47717.64330027977, 48371.54353797001, 50218.21680438112, 50798.35421240729, 53980.847261679024, 55375.36624125794, 56272.59697201393, 56826.56003304944, 58802.601567706326, 60455.84483148646, 57507.73450910979, 55339.80479183194, 56158.0173198603, 58472.11732155987, 58283.54799432516, 58779.76938655648, 57312.59853645818, 56787.14842211064, 54703.38774047086, 55123.99385491758, 52121.68411029948, 53241.03748850518, 55193.35725955907, 55832.958823907036, 56913.99381926178, 58346.912268295404, 58764.349363]}],                        {\"template\": {\"data\": {\"bar\": [{\"error_x\": {\"color\": \"#2a3f5f\"}, \"error_y\": {\"color\": \"#2a3f5f\"}, \"marker\": {\"line\": {\"color\": \"#E5ECF6\", \"width\": 0.5}}, \"type\": \"bar\"}], \"barpolar\": [{\"marker\": {\"line\": {\"color\": \"#E5ECF6\", \"width\": 0.5}}, \"type\": \"barpolar\"}], \"carpet\": [{\"aaxis\": {\"endlinecolor\": \"#2a3f5f\", \"gridcolor\": \"white\", \"linecolor\": \"white\", \"minorgridcolor\": \"white\", \"startlinecolor\": \"#2a3f5f\"}, \"baxis\": {\"endlinecolor\": \"#2a3f5f\", \"gridcolor\": \"white\", \"linecolor\": \"white\", \"minorgridcolor\": \"white\", \"startlinecolor\": \"#2a3f5f\"}, \"type\": \"carpet\"}], \"choropleth\": [{\"colorbar\": {\"outlinewidth\": 0, \"ticks\": \"\"}, \"type\": \"choropleth\"}], \"contour\": [{\"colorbar\": {\"outlinewidth\": 0, \"ticks\": \"\"}, \"colorscale\": [[0.0, \"#0d0887\"], [0.1111111111111111, \"#46039f\"], [0.2222222222222222, \"#7201a8\"], [0.3333333333333333, \"#9c179e\"], [0.4444444444444444, \"#bd3786\"], [0.5555555555555556, \"#d8576b\"], [0.6666666666666666, \"#ed7953\"], [0.7777777777777778, \"#fb9f3a\"], [0.8888888888888888, \"#fdca26\"], [1.0, \"#f0f921\"]], \"type\": \"contour\"}], \"contourcarpet\": [{\"colorbar\": {\"outlinewidth\": 0, \"ticks\": \"\"}, \"type\": \"contourcarpet\"}], \"heatmap\": [{\"colorbar\": {\"outlinewidth\": 0, \"ticks\": \"\"}, \"colorscale\": [[0.0, \"#0d0887\"], [0.1111111111111111, \"#46039f\"], [0.2222222222222222, \"#7201a8\"], [0.3333333333333333, \"#9c179e\"], [0.4444444444444444, \"#bd3786\"], [0.5555555555555556, \"#d8576b\"], [0.6666666666666666, \"#ed7953\"], [0.7777777777777778, \"#fb9f3a\"], [0.8888888888888888, \"#fdca26\"], [1.0, \"#f0f921\"]], \"type\": \"heatmap\"}], \"heatmapgl\": [{\"colorbar\": {\"outlinewidth\": 0, \"ticks\": \"\"}, \"colorscale\": [[0.0, \"#0d0887\"], [0.1111111111111111, \"#46039f\"], [0.2222222222222222, \"#7201a8\"], [0.3333333333333333, \"#9c179e\"], [0.4444444444444444, \"#bd3786\"], [0.5555555555555556, \"#d8576b\"], [0.6666666666666666, \"#ed7953\"], [0.7777777777777778, \"#fb9f3a\"], [0.8888888888888888, \"#fdca26\"], [1.0, \"#f0f921\"]], \"type\": \"heatmapgl\"}], \"histogram\": [{\"marker\": {\"colorbar\": {\"outlinewidth\": 0, \"ticks\": \"\"}}, \"type\": \"histogram\"}], \"histogram2d\": [{\"colorbar\": {\"outlinewidth\": 0, \"ticks\": \"\"}, \"colorscale\": [[0.0, \"#0d0887\"], [0.1111111111111111, \"#46039f\"], [0.2222222222222222, \"#7201a8\"], [0.3333333333333333, \"#9c179e\"], [0.4444444444444444, \"#bd3786\"], [0.5555555555555556, \"#d8576b\"], [0.6666666666666666, \"#ed7953\"], [0.7777777777777778, \"#fb9f3a\"], [0.8888888888888888, \"#fdca26\"], [1.0, \"#f0f921\"]], \"type\": \"histogram2d\"}], \"histogram2dcontour\": [{\"colorbar\": {\"outlinewidth\": 0, \"ticks\": \"\"}, \"colorscale\": [[0.0, \"#0d0887\"], [0.1111111111111111, \"#46039f\"], [0.2222222222222222, \"#7201a8\"], [0.3333333333333333, \"#9c179e\"], [0.4444444444444444, \"#bd3786\"], [0.5555555555555556, \"#d8576b\"], [0.6666666666666666, \"#ed7953\"], [0.7777777777777778, \"#fb9f3a\"], [0.8888888888888888, \"#fdca26\"], [1.0, \"#f0f921\"]], \"type\": \"histogram2dcontour\"}], \"mesh3d\": [{\"colorbar\": {\"outlinewidth\": 0, \"ticks\": \"\"}, \"type\": \"mesh3d\"}], \"parcoords\": [{\"line\": {\"colorbar\": {\"outlinewidth\": 0, \"ticks\": \"\"}}, \"type\": \"parcoords\"}], \"pie\": [{\"automargin\": true, \"type\": \"pie\"}], \"scatter\": [{\"marker\": {\"colorbar\": {\"outlinewidth\": 0, \"ticks\": \"\"}}, \"type\": \"scatter\"}], \"scatter3d\": [{\"line\": {\"colorbar\": {\"outlinewidth\": 0, \"ticks\": \"\"}}, \"marker\": {\"colorbar\": {\"outlinewidth\": 0, \"ticks\": \"\"}}, \"type\": \"scatter3d\"}], \"scattercarpet\": [{\"marker\": {\"colorbar\": {\"outlinewidth\": 0, \"ticks\": \"\"}}, \"type\": \"scattercarpet\"}], \"scattergeo\": [{\"marker\": {\"colorbar\": {\"outlinewidth\": 0, \"ticks\": \"\"}}, \"type\": \"scattergeo\"}], \"scattergl\": [{\"marker\": {\"colorbar\": {\"outlinewidth\": 0, \"ticks\": \"\"}}, \"type\": \"scattergl\"}], \"scattermapbox\": [{\"marker\": {\"colorbar\": {\"outlinewidth\": 0, \"ticks\": \"\"}}, \"type\": \"scattermapbox\"}], \"scatterpolar\": [{\"marker\": {\"colorbar\": {\"outlinewidth\": 0, \"ticks\": \"\"}}, \"type\": \"scatterpolar\"}], \"scatterpolargl\": [{\"marker\": {\"colorbar\": {\"outlinewidth\": 0, \"ticks\": \"\"}}, \"type\": \"scatterpolargl\"}], \"scatterternary\": [{\"marker\": {\"colorbar\": {\"outlinewidth\": 0, \"ticks\": \"\"}}, \"type\": \"scatterternary\"}], \"surface\": [{\"colorbar\": {\"outlinewidth\": 0, \"ticks\": \"\"}, \"colorscale\": [[0.0, \"#0d0887\"], [0.1111111111111111, \"#46039f\"], [0.2222222222222222, \"#7201a8\"], [0.3333333333333333, \"#9c179e\"], [0.4444444444444444, \"#bd3786\"], [0.5555555555555556, \"#d8576b\"], [0.6666666666666666, \"#ed7953\"], [0.7777777777777778, \"#fb9f3a\"], [0.8888888888888888, \"#fdca26\"], [1.0, \"#f0f921\"]], \"type\": \"surface\"}], \"table\": [{\"cells\": {\"fill\": {\"color\": \"#EBF0F8\"}, \"line\": {\"color\": \"white\"}}, \"header\": {\"fill\": {\"color\": \"#C8D4E3\"}, \"line\": {\"color\": \"white\"}}, \"type\": \"table\"}]}, \"layout\": {\"annotationdefaults\": {\"arrowcolor\": \"#2a3f5f\", \"arrowhead\": 0, \"arrowwidth\": 1}, \"autotypenumbers\": \"strict\", \"coloraxis\": {\"colorbar\": {\"outlinewidth\": 0, \"ticks\": \"\"}}, \"colorscale\": {\"diverging\": [[0, \"#8e0152\"], [0.1, \"#c51b7d\"], [0.2, \"#de77ae\"], [0.3, \"#f1b6da\"], [0.4, \"#fde0ef\"], [0.5, \"#f7f7f7\"], [0.6, \"#e6f5d0\"], [0.7, \"#b8e186\"], [0.8, \"#7fbc41\"], [0.9, \"#4d9221\"], [1, \"#276419\"]], \"sequential\": [[0.0, \"#0d0887\"], [0.1111111111111111, \"#46039f\"], [0.2222222222222222, \"#7201a8\"], [0.3333333333333333, \"#9c179e\"], [0.4444444444444444, \"#bd3786\"], [0.5555555555555556, \"#d8576b\"], [0.6666666666666666, \"#ed7953\"], [0.7777777777777778, \"#fb9f3a\"], [0.8888888888888888, \"#fdca26\"], [1.0, \"#f0f921\"]], \"sequentialminus\": [[0.0, \"#0d0887\"], [0.1111111111111111, \"#46039f\"], [0.2222222222222222, \"#7201a8\"], [0.3333333333333333, \"#9c179e\"], [0.4444444444444444, \"#bd3786\"], [0.5555555555555556, \"#d8576b\"], [0.6666666666666666, \"#ed7953\"], [0.7777777777777778, \"#fb9f3a\"], [0.8888888888888888, \"#fdca26\"], [1.0, \"#f0f921\"]]}, \"colorway\": [\"#636efa\", \"#EF553B\", \"#00cc96\", \"#ab63fa\", \"#FFA15A\", \"#19d3f3\", \"#FF6692\", \"#B6E880\", \"#FF97FF\", \"#FECB52\"], \"font\": {\"color\": \"#2a3f5f\"}, \"geo\": {\"bgcolor\": \"white\", \"lakecolor\": \"white\", \"landcolor\": \"#E5ECF6\", \"showlakes\": true, \"showland\": true, \"subunitcolor\": \"white\"}, \"hoverlabel\": {\"align\": \"left\"}, \"hovermode\": \"closest\", \"mapbox\": {\"style\": \"light\"}, \"paper_bgcolor\": \"white\", \"plot_bgcolor\": \"#E5ECF6\", \"polar\": {\"angularaxis\": {\"gridcolor\": \"white\", \"linecolor\": \"white\", \"ticks\": \"\"}, \"bgcolor\": \"#E5ECF6\", \"radialaxis\": {\"gridcolor\": \"white\", \"linecolor\": \"white\", \"ticks\": \"\"}}, \"scene\": {\"xaxis\": {\"backgroundcolor\": \"#E5ECF6\", \"gridcolor\": \"white\", \"gridwidth\": 2, \"linecolor\": \"white\", \"showbackground\": true, \"ticks\": \"\", \"zerolinecolor\": \"white\"}, \"yaxis\": {\"backgroundcolor\": \"#E5ECF6\", \"gridcolor\": \"white\", \"gridwidth\": 2, \"linecolor\": \"white\", \"showbackground\": true, \"ticks\": \"\", \"zerolinecolor\": \"white\"}, \"zaxis\": {\"backgroundcolor\": \"#E5ECF6\", \"gridcolor\": \"white\", \"gridwidth\": 2, \"linecolor\": \"white\", \"showbackground\": true, \"ticks\": \"\", \"zerolinecolor\": \"white\"}}, \"shapedefaults\": {\"line\": {\"color\": \"#2a3f5f\"}}, \"ternary\": {\"aaxis\": {\"gridcolor\": \"white\", \"linecolor\": \"white\", \"ticks\": \"\"}, \"baxis\": {\"gridcolor\": \"white\", \"linecolor\": \"white\", \"ticks\": \"\"}, \"bgcolor\": \"#E5ECF6\", \"caxis\": {\"gridcolor\": \"white\", \"linecolor\": \"white\", \"ticks\": \"\"}}, \"title\": {\"x\": 0.05}, \"xaxis\": {\"automargin\": true, \"gridcolor\": \"white\", \"linecolor\": \"white\", \"ticks\": \"\", \"title\": {\"standoff\": 15}, \"zerolinecolor\": \"white\", \"zerolinewidth\": 2}, \"yaxis\": {\"automargin\": true, \"gridcolor\": \"white\", \"linecolor\": \"white\", \"ticks\": \"\", \"title\": {\"standoff\": 15}, \"zerolinecolor\": \"white\", \"zerolinewidth\": 2}}}, \"title\": {\"text\": \"Comparison of true prices (on the test dataset) with prices our model predicted\"}, \"xaxis\": {\"title\": {\"text\": \"Day number\"}}, \"yaxis\": {\"title\": {\"text\": \"Price, USD\"}}},                        {\"responsive\": true}                    ).then(function(){\n",
       "                            \n",
       "var gd = document.getElementById('54443d3a-3eba-4a13-9d2e-ce160d5bb265');\n",
       "var x = new MutationObserver(function (mutations, observer) {{\n",
       "        var display = window.getComputedStyle(gd).display;\n",
       "        if (!display || display === 'none') {{\n",
       "            console.log([gd, 'removed!']);\n",
       "            Plotly.purge(gd);\n",
       "            observer.disconnect();\n",
       "        }}\n",
       "}});\n",
       "\n",
       "// Listen for the removal of the full notebook cells\n",
       "var notebookContainer = gd.closest('#notebook-container');\n",
       "if (notebookContainer) {{\n",
       "    x.observe(notebookContainer, {childList: true});\n",
       "}}\n",
       "\n",
       "// Listen for the clearing of the current output cell\n",
       "var outputEl = gd.closest('.output');\n",
       "if (outputEl) {{\n",
       "    x.observe(outputEl, {childList: true});\n",
       "}}\n",
       "\n",
       "                        })                };                });            </script>        </div>"
      ]
     },
     "metadata": {},
     "output_type": "display_data"
    }
   ],
   "source": [
    "trace1 = go.Scatter(\n",
    "    x = np.arange(0, len(prediction2_inverse), 1),\n",
    "    y = prediction2_inverse,\n",
    "    mode = 'lines',\n",
    "    name = 'Predicted labels',\n",
    "    line = dict(color=('rgb(244, 146, 65)'), width=2)\n",
    ")\n",
    "trace2 = go.Scatter(\n",
    "    x = np.arange(0, len(Y_test2_inverse), 1),\n",
    "    y = Y_test2_inverse,\n",
    "    mode = 'lines',\n",
    "    name = 'True labels',\n",
    "    line = dict(color=('rgb(66, 244, 155)'), width=2)\n",
    ")\n",
    "\n",
    "data = [trace1, trace2]\n",
    "layout = dict(title = 'Comparison of true prices (on the test dataset) with prices our model predicted',\n",
    "             xaxis = dict(title = 'Day number'), yaxis = dict(title = 'Price, USD'))\n",
    "fig = dict(data=data, layout=layout)\n",
    "py.iplot(fig, filename='results_demonstrating0')"
   ]
  },
  {
   "cell_type": "markdown",
   "metadata": {
    "_cell_guid": "dfd3f55a-35cf-41c0-8857-63366b915a3f",
    "_uuid": "9f93e523bddca19c8dc95da07d70fde44b3512ee"
   },
   "source": [
    "Below we calculated the **root mean squared error** ([RMSE](https://en.wikipedia.org/wiki/Root-mean-square_deviation)). The meaning of this indicator is what  is the average distance between predicted points on the test set and the actual (true) labels. In other words, it shows the extent of our error. The less this number, the better. We can see, that our model's RMSE is not very big (consider that the price in our data set is in thousands of USD, and we are mistaken only by tens of USD)."
   ]
  },
  {
   "cell_type": "code",
   "execution_count": 30,
   "metadata": {
    "_cell_guid": "f9a48bfc-2b01-4029-8493-3a502bab6de3",
    "_uuid": "b0df1b97b4ac3cf42ea1996771ff9b37466d434c"
   },
   "outputs": [
    {
     "name": "stdout",
     "output_type": "stream",
     "text": [
      "Test RMSE: 1533.356\n"
     ]
    }
   ],
   "source": [
    "RMSE = sqrt(mean_squared_error(Y_test2_inverse, prediction2_inverse))\n",
    "print('Test RMSE: %.3f' % RMSE)"
   ]
  },
  {
   "cell_type": "markdown",
   "metadata": {
    "_cell_guid": "26cdf67f-1c0a-4887-9fb8-06413ec61427",
    "_uuid": "cbcd8120a1d96ab758cc03072a658e45c46994fc",
    "collapsed": true
   },
   "source": [
    "Below we extract the convenient format of dates and plot the same chart as above, but with these dates on the X-axis. "
   ]
  },
  {
   "cell_type": "code",
   "execution_count": 31,
   "metadata": {
    "_cell_guid": "66070cca-b765-47f1-90e1-9627acdd747e",
    "_uuid": "6ba9a2815831491b5f6c9065e9a436309467f5ff"
   },
   "outputs": [
    {
     "data": {
      "application/vnd.plotly.v1+json": {
       "config": {
        "linkText": "Export to plot.ly",
        "plotlyServerURL": "https://plot.ly",
        "showLink": false
       },
       "data": [
        {
         "line": {
          "color": "rgb(66, 244, 155)",
          "width": 2
         },
         "name": "Actual Price",
         "type": "scatter",
         "x": [
          "2021-01-30",
          "2021-01-31",
          "2021-02-01",
          "2021-02-02",
          "2021-02-03",
          "2021-02-04",
          "2021-02-05",
          "2021-02-06",
          "2021-02-07",
          "2021-02-08",
          "2021-02-09",
          "2021-02-10",
          "2021-02-11",
          "2021-02-12",
          "2021-02-13",
          "2021-02-14",
          "2021-02-15",
          "2021-02-16",
          "2021-02-17",
          "2021-02-18",
          "2021-02-19",
          "2021-02-20",
          "2021-02-21",
          "2021-02-22",
          "2021-02-23",
          "2021-02-24",
          "2021-02-25",
          "2021-02-26",
          "2021-02-27",
          "2021-02-28",
          "2021-03-01",
          "2021-03-02",
          "2021-03-03",
          "2021-03-04",
          "2021-03-05",
          "2021-03-06",
          "2021-03-07",
          "2021-03-08",
          "2021-03-09",
          "2021-03-10",
          "2021-03-11",
          "2021-03-12",
          "2021-03-13",
          "2021-03-14",
          "2021-03-15",
          "2021-03-16",
          "2021-03-17",
          "2021-03-18",
          "2021-03-19",
          "2021-03-20",
          "2021-03-21",
          "2021-03-22",
          "2021-03-23",
          "2021-03-24",
          "2021-03-25",
          "2021-03-26",
          "2021-03-27",
          "2021-03-28",
          "2021-03-29",
          "2021-03-30",
          "2021-03-31"
         ],
         "y": [
          33705.97519064721,
          34713.696400108354,
          36573.09481030624,
          37541.548132422206,
          37630.04921400489,
          39814.35655457264,
          38711.77455524941,
          41196.61444486643,
          46684.490849562455,
          45798.7337153625,
          46272.21566854445,
          47603.415420118086,
          47273.84991914459,
          48600.49151849026,
          47862.39794598202,
          48845.16600342642,
          50913.92413875071,
          51893.311181218756,
          53083.8791087993,
          56271.288537679146,
          57040.82594383049,
          54708.31202510767,
          48968.837945908424,
          49800.28486888125,
          49985.23481495351,
          46655.920048518725,
          47130.208060158875,
          44818.44755210362,
          47641.53689948156,
          48617.28932090135,
          50429.44901579067,
          49398.2503985708,
          47717.64330027977,
          48371.54353797001,
          50218.21680438112,
          50798.35421240729,
          53980.847261679024,
          55375.36624125794,
          56272.59697201393,
          56826.56003304944,
          58802.601567706326,
          60455.84483148646,
          57507.73450910979,
          55339.80479183194,
          56158.0173198603,
          58472.11732155987,
          58283.54799432516,
          58779.76938655648,
          57312.59853645818,
          56787.14842211064,
          54703.38774047086,
          55123.99385491758,
          52121.68411029948,
          53241.03748850518,
          55193.35725955907,
          55832.958823907036,
          56913.99381926178,
          58346.912268295404,
          58764.349363
         ]
        },
        {
         "line": {
          "color": "rgb(244, 146, 65)",
          "width": 2
         },
         "name": "Predicted Price",
         "type": "scatter",
         "x": [
          "2021-01-30",
          "2021-01-31",
          "2021-02-01",
          "2021-02-02",
          "2021-02-03",
          "2021-02-04",
          "2021-02-05",
          "2021-02-06",
          "2021-02-07",
          "2021-02-08",
          "2021-02-09",
          "2021-02-10",
          "2021-02-11",
          "2021-02-12",
          "2021-02-13",
          "2021-02-14",
          "2021-02-15",
          "2021-02-16",
          "2021-02-17",
          "2021-02-18",
          "2021-02-19",
          "2021-02-20",
          "2021-02-21",
          "2021-02-22",
          "2021-02-23",
          "2021-02-24",
          "2021-02-25",
          "2021-02-26",
          "2021-02-27",
          "2021-02-28",
          "2021-03-01",
          "2021-03-02",
          "2021-03-03",
          "2021-03-04",
          "2021-03-05",
          "2021-03-06",
          "2021-03-07",
          "2021-03-08",
          "2021-03-09",
          "2021-03-10",
          "2021-03-11",
          "2021-03-12",
          "2021-03-13",
          "2021-03-14",
          "2021-03-15",
          "2021-03-16",
          "2021-03-17",
          "2021-03-18",
          "2021-03-19",
          "2021-03-20",
          "2021-03-21",
          "2021-03-22",
          "2021-03-23",
          "2021-03-24",
          "2021-03-25",
          "2021-03-26",
          "2021-03-27",
          "2021-03-28",
          "2021-03-29",
          "2021-03-30",
          "2021-03-31"
         ],
         "y": [
          34241.6171875,
          35279.390625,
          37202.74609375,
          38208.76171875,
          38300.8359375,
          40580.6875,
          39428.1328125,
          42030.47265625,
          47836.16796875,
          46894.0390625,
          47397.4296875,
          48815.5,
          48464.046875,
          49880.265625,
          49091.84765625,
          50141.88671875,
          52358.95703125,
          53411.578125,
          54693.64453125,
          58138.35546875,
          58972.51171875,
          56447.0546875,
          50274.16796875,
          51164.375,
          51362.5859375,
          47805.75390625,
          48310.9375,
          45853.5703125,
          48856.1640625,
          49898.22265625,
          51838.95703125,
          50733.74609375,
          48937.375,
          49635.578125,
          51612.390625,
          52234.87109375,
          55661.2578125,
          57168.390625,
          58139.7734375,
          58740.15625,
          60885.50390625,
          62684.52734375,
          59479.05078125,
          57129.921875,
          58015.65625,
          60526.3203125,
          60321.44140625,
          60860.68359375,
          59267.3125,
          58697.4296875,
          56441.734375,
          56896.47265625,
          53657.296875,
          54863.0703125,
          56971.49609375,
          57663.640625,
          58834.9609375,
          60390.28125,
          60843.92578125
         ]
        }
       ],
       "layout": {
        "template": {
         "data": {
          "bar": [
           {
            "error_x": {
             "color": "#2a3f5f"
            },
            "error_y": {
             "color": "#2a3f5f"
            },
            "marker": {
             "line": {
              "color": "#E5ECF6",
              "width": 0.5
             }
            },
            "type": "bar"
           }
          ],
          "barpolar": [
           {
            "marker": {
             "line": {
              "color": "#E5ECF6",
              "width": 0.5
             }
            },
            "type": "barpolar"
           }
          ],
          "carpet": [
           {
            "aaxis": {
             "endlinecolor": "#2a3f5f",
             "gridcolor": "white",
             "linecolor": "white",
             "minorgridcolor": "white",
             "startlinecolor": "#2a3f5f"
            },
            "baxis": {
             "endlinecolor": "#2a3f5f",
             "gridcolor": "white",
             "linecolor": "white",
             "minorgridcolor": "white",
             "startlinecolor": "#2a3f5f"
            },
            "type": "carpet"
           }
          ],
          "choropleth": [
           {
            "colorbar": {
             "outlinewidth": 0,
             "ticks": ""
            },
            "type": "choropleth"
           }
          ],
          "contour": [
           {
            "colorbar": {
             "outlinewidth": 0,
             "ticks": ""
            },
            "colorscale": [
             [
              0,
              "#0d0887"
             ],
             [
              0.1111111111111111,
              "#46039f"
             ],
             [
              0.2222222222222222,
              "#7201a8"
             ],
             [
              0.3333333333333333,
              "#9c179e"
             ],
             [
              0.4444444444444444,
              "#bd3786"
             ],
             [
              0.5555555555555556,
              "#d8576b"
             ],
             [
              0.6666666666666666,
              "#ed7953"
             ],
             [
              0.7777777777777778,
              "#fb9f3a"
             ],
             [
              0.8888888888888888,
              "#fdca26"
             ],
             [
              1,
              "#f0f921"
             ]
            ],
            "type": "contour"
           }
          ],
          "contourcarpet": [
           {
            "colorbar": {
             "outlinewidth": 0,
             "ticks": ""
            },
            "type": "contourcarpet"
           }
          ],
          "heatmap": [
           {
            "colorbar": {
             "outlinewidth": 0,
             "ticks": ""
            },
            "colorscale": [
             [
              0,
              "#0d0887"
             ],
             [
              0.1111111111111111,
              "#46039f"
             ],
             [
              0.2222222222222222,
              "#7201a8"
             ],
             [
              0.3333333333333333,
              "#9c179e"
             ],
             [
              0.4444444444444444,
              "#bd3786"
             ],
             [
              0.5555555555555556,
              "#d8576b"
             ],
             [
              0.6666666666666666,
              "#ed7953"
             ],
             [
              0.7777777777777778,
              "#fb9f3a"
             ],
             [
              0.8888888888888888,
              "#fdca26"
             ],
             [
              1,
              "#f0f921"
             ]
            ],
            "type": "heatmap"
           }
          ],
          "heatmapgl": [
           {
            "colorbar": {
             "outlinewidth": 0,
             "ticks": ""
            },
            "colorscale": [
             [
              0,
              "#0d0887"
             ],
             [
              0.1111111111111111,
              "#46039f"
             ],
             [
              0.2222222222222222,
              "#7201a8"
             ],
             [
              0.3333333333333333,
              "#9c179e"
             ],
             [
              0.4444444444444444,
              "#bd3786"
             ],
             [
              0.5555555555555556,
              "#d8576b"
             ],
             [
              0.6666666666666666,
              "#ed7953"
             ],
             [
              0.7777777777777778,
              "#fb9f3a"
             ],
             [
              0.8888888888888888,
              "#fdca26"
             ],
             [
              1,
              "#f0f921"
             ]
            ],
            "type": "heatmapgl"
           }
          ],
          "histogram": [
           {
            "marker": {
             "colorbar": {
              "outlinewidth": 0,
              "ticks": ""
             }
            },
            "type": "histogram"
           }
          ],
          "histogram2d": [
           {
            "colorbar": {
             "outlinewidth": 0,
             "ticks": ""
            },
            "colorscale": [
             [
              0,
              "#0d0887"
             ],
             [
              0.1111111111111111,
              "#46039f"
             ],
             [
              0.2222222222222222,
              "#7201a8"
             ],
             [
              0.3333333333333333,
              "#9c179e"
             ],
             [
              0.4444444444444444,
              "#bd3786"
             ],
             [
              0.5555555555555556,
              "#d8576b"
             ],
             [
              0.6666666666666666,
              "#ed7953"
             ],
             [
              0.7777777777777778,
              "#fb9f3a"
             ],
             [
              0.8888888888888888,
              "#fdca26"
             ],
             [
              1,
              "#f0f921"
             ]
            ],
            "type": "histogram2d"
           }
          ],
          "histogram2dcontour": [
           {
            "colorbar": {
             "outlinewidth": 0,
             "ticks": ""
            },
            "colorscale": [
             [
              0,
              "#0d0887"
             ],
             [
              0.1111111111111111,
              "#46039f"
             ],
             [
              0.2222222222222222,
              "#7201a8"
             ],
             [
              0.3333333333333333,
              "#9c179e"
             ],
             [
              0.4444444444444444,
              "#bd3786"
             ],
             [
              0.5555555555555556,
              "#d8576b"
             ],
             [
              0.6666666666666666,
              "#ed7953"
             ],
             [
              0.7777777777777778,
              "#fb9f3a"
             ],
             [
              0.8888888888888888,
              "#fdca26"
             ],
             [
              1,
              "#f0f921"
             ]
            ],
            "type": "histogram2dcontour"
           }
          ],
          "mesh3d": [
           {
            "colorbar": {
             "outlinewidth": 0,
             "ticks": ""
            },
            "type": "mesh3d"
           }
          ],
          "parcoords": [
           {
            "line": {
             "colorbar": {
              "outlinewidth": 0,
              "ticks": ""
             }
            },
            "type": "parcoords"
           }
          ],
          "pie": [
           {
            "automargin": true,
            "type": "pie"
           }
          ],
          "scatter": [
           {
            "marker": {
             "colorbar": {
              "outlinewidth": 0,
              "ticks": ""
             }
            },
            "type": "scatter"
           }
          ],
          "scatter3d": [
           {
            "line": {
             "colorbar": {
              "outlinewidth": 0,
              "ticks": ""
             }
            },
            "marker": {
             "colorbar": {
              "outlinewidth": 0,
              "ticks": ""
             }
            },
            "type": "scatter3d"
           }
          ],
          "scattercarpet": [
           {
            "marker": {
             "colorbar": {
              "outlinewidth": 0,
              "ticks": ""
             }
            },
            "type": "scattercarpet"
           }
          ],
          "scattergeo": [
           {
            "marker": {
             "colorbar": {
              "outlinewidth": 0,
              "ticks": ""
             }
            },
            "type": "scattergeo"
           }
          ],
          "scattergl": [
           {
            "marker": {
             "colorbar": {
              "outlinewidth": 0,
              "ticks": ""
             }
            },
            "type": "scattergl"
           }
          ],
          "scattermapbox": [
           {
            "marker": {
             "colorbar": {
              "outlinewidth": 0,
              "ticks": ""
             }
            },
            "type": "scattermapbox"
           }
          ],
          "scatterpolar": [
           {
            "marker": {
             "colorbar": {
              "outlinewidth": 0,
              "ticks": ""
             }
            },
            "type": "scatterpolar"
           }
          ],
          "scatterpolargl": [
           {
            "marker": {
             "colorbar": {
              "outlinewidth": 0,
              "ticks": ""
             }
            },
            "type": "scatterpolargl"
           }
          ],
          "scatterternary": [
           {
            "marker": {
             "colorbar": {
              "outlinewidth": 0,
              "ticks": ""
             }
            },
            "type": "scatterternary"
           }
          ],
          "surface": [
           {
            "colorbar": {
             "outlinewidth": 0,
             "ticks": ""
            },
            "colorscale": [
             [
              0,
              "#0d0887"
             ],
             [
              0.1111111111111111,
              "#46039f"
             ],
             [
              0.2222222222222222,
              "#7201a8"
             ],
             [
              0.3333333333333333,
              "#9c179e"
             ],
             [
              0.4444444444444444,
              "#bd3786"
             ],
             [
              0.5555555555555556,
              "#d8576b"
             ],
             [
              0.6666666666666666,
              "#ed7953"
             ],
             [
              0.7777777777777778,
              "#fb9f3a"
             ],
             [
              0.8888888888888888,
              "#fdca26"
             ],
             [
              1,
              "#f0f921"
             ]
            ],
            "type": "surface"
           }
          ],
          "table": [
           {
            "cells": {
             "fill": {
              "color": "#EBF0F8"
             },
             "line": {
              "color": "white"
             }
            },
            "header": {
             "fill": {
              "color": "#C8D4E3"
             },
             "line": {
              "color": "white"
             }
            },
            "type": "table"
           }
          ]
         },
         "layout": {
          "annotationdefaults": {
           "arrowcolor": "#2a3f5f",
           "arrowhead": 0,
           "arrowwidth": 1
          },
          "autotypenumbers": "strict",
          "coloraxis": {
           "colorbar": {
            "outlinewidth": 0,
            "ticks": ""
           }
          },
          "colorscale": {
           "diverging": [
            [
             0,
             "#8e0152"
            ],
            [
             0.1,
             "#c51b7d"
            ],
            [
             0.2,
             "#de77ae"
            ],
            [
             0.3,
             "#f1b6da"
            ],
            [
             0.4,
             "#fde0ef"
            ],
            [
             0.5,
             "#f7f7f7"
            ],
            [
             0.6,
             "#e6f5d0"
            ],
            [
             0.7,
             "#b8e186"
            ],
            [
             0.8,
             "#7fbc41"
            ],
            [
             0.9,
             "#4d9221"
            ],
            [
             1,
             "#276419"
            ]
           ],
           "sequential": [
            [
             0,
             "#0d0887"
            ],
            [
             0.1111111111111111,
             "#46039f"
            ],
            [
             0.2222222222222222,
             "#7201a8"
            ],
            [
             0.3333333333333333,
             "#9c179e"
            ],
            [
             0.4444444444444444,
             "#bd3786"
            ],
            [
             0.5555555555555556,
             "#d8576b"
            ],
            [
             0.6666666666666666,
             "#ed7953"
            ],
            [
             0.7777777777777778,
             "#fb9f3a"
            ],
            [
             0.8888888888888888,
             "#fdca26"
            ],
            [
             1,
             "#f0f921"
            ]
           ],
           "sequentialminus": [
            [
             0,
             "#0d0887"
            ],
            [
             0.1111111111111111,
             "#46039f"
            ],
            [
             0.2222222222222222,
             "#7201a8"
            ],
            [
             0.3333333333333333,
             "#9c179e"
            ],
            [
             0.4444444444444444,
             "#bd3786"
            ],
            [
             0.5555555555555556,
             "#d8576b"
            ],
            [
             0.6666666666666666,
             "#ed7953"
            ],
            [
             0.7777777777777778,
             "#fb9f3a"
            ],
            [
             0.8888888888888888,
             "#fdca26"
            ],
            [
             1,
             "#f0f921"
            ]
           ]
          },
          "colorway": [
           "#636efa",
           "#EF553B",
           "#00cc96",
           "#ab63fa",
           "#FFA15A",
           "#19d3f3",
           "#FF6692",
           "#B6E880",
           "#FF97FF",
           "#FECB52"
          ],
          "font": {
           "color": "#2a3f5f"
          },
          "geo": {
           "bgcolor": "white",
           "lakecolor": "white",
           "landcolor": "#E5ECF6",
           "showlakes": true,
           "showland": true,
           "subunitcolor": "white"
          },
          "hoverlabel": {
           "align": "left"
          },
          "hovermode": "closest",
          "mapbox": {
           "style": "light"
          },
          "paper_bgcolor": "white",
          "plot_bgcolor": "#E5ECF6",
          "polar": {
           "angularaxis": {
            "gridcolor": "white",
            "linecolor": "white",
            "ticks": ""
           },
           "bgcolor": "#E5ECF6",
           "radialaxis": {
            "gridcolor": "white",
            "linecolor": "white",
            "ticks": ""
           }
          },
          "scene": {
           "xaxis": {
            "backgroundcolor": "#E5ECF6",
            "gridcolor": "white",
            "gridwidth": 2,
            "linecolor": "white",
            "showbackground": true,
            "ticks": "",
            "zerolinecolor": "white"
           },
           "yaxis": {
            "backgroundcolor": "#E5ECF6",
            "gridcolor": "white",
            "gridwidth": 2,
            "linecolor": "white",
            "showbackground": true,
            "ticks": "",
            "zerolinecolor": "white"
           },
           "zaxis": {
            "backgroundcolor": "#E5ECF6",
            "gridcolor": "white",
            "gridwidth": 2,
            "linecolor": "white",
            "showbackground": true,
            "ticks": "",
            "zerolinecolor": "white"
           }
          },
          "shapedefaults": {
           "line": {
            "color": "#2a3f5f"
           }
          },
          "ternary": {
           "aaxis": {
            "gridcolor": "white",
            "linecolor": "white",
            "ticks": ""
           },
           "baxis": {
            "gridcolor": "white",
            "linecolor": "white",
            "ticks": ""
           },
           "bgcolor": "#E5ECF6",
           "caxis": {
            "gridcolor": "white",
            "linecolor": "white",
            "ticks": ""
           }
          },
          "title": {
           "x": 0.05
          },
          "xaxis": {
           "automargin": true,
           "gridcolor": "white",
           "linecolor": "white",
           "ticks": "",
           "title": {
            "standoff": 15
           },
           "zerolinecolor": "white",
           "zerolinewidth": 2
          },
          "yaxis": {
           "automargin": true,
           "gridcolor": "white",
           "linecolor": "white",
           "ticks": "",
           "title": {
            "standoff": 15
           },
           "zerolinecolor": "white",
           "zerolinewidth": 2
          }
         }
        },
        "title": {
         "text": "Comparison of true prices (on the test dataset) with prices our model predicted, by dates"
        },
        "xaxis": {
         "title": {
          "text": "Date"
         }
        },
        "yaxis": {
         "title": {
          "text": "Price, USD"
         }
        }
       }
      },
      "text/html": [
       "<div>                            <div id=\"30a783e2-d893-4841-bcb2-ad0a50ee11a0\" class=\"plotly-graph-div\" style=\"height:525px; width:100%;\"></div>            <script type=\"text/javascript\">                require([\"plotly\"], function(Plotly) {                    window.PLOTLYENV=window.PLOTLYENV || {};                                    if (document.getElementById(\"30a783e2-d893-4841-bcb2-ad0a50ee11a0\")) {                    Plotly.newPlot(                        \"30a783e2-d893-4841-bcb2-ad0a50ee11a0\",                        [{\"line\": {\"color\": \"rgb(66, 244, 155)\", \"width\": 2}, \"name\": \"Actual Price\", \"type\": \"scatter\", \"x\": [\"2021-01-30\", \"2021-01-31\", \"2021-02-01\", \"2021-02-02\", \"2021-02-03\", \"2021-02-04\", \"2021-02-05\", \"2021-02-06\", \"2021-02-07\", \"2021-02-08\", \"2021-02-09\", \"2021-02-10\", \"2021-02-11\", \"2021-02-12\", \"2021-02-13\", \"2021-02-14\", \"2021-02-15\", \"2021-02-16\", \"2021-02-17\", \"2021-02-18\", \"2021-02-19\", \"2021-02-20\", \"2021-02-21\", \"2021-02-22\", \"2021-02-23\", \"2021-02-24\", \"2021-02-25\", \"2021-02-26\", \"2021-02-27\", \"2021-02-28\", \"2021-03-01\", \"2021-03-02\", \"2021-03-03\", \"2021-03-04\", \"2021-03-05\", \"2021-03-06\", \"2021-03-07\", \"2021-03-08\", \"2021-03-09\", \"2021-03-10\", \"2021-03-11\", \"2021-03-12\", \"2021-03-13\", \"2021-03-14\", \"2021-03-15\", \"2021-03-16\", \"2021-03-17\", \"2021-03-18\", \"2021-03-19\", \"2021-03-20\", \"2021-03-21\", \"2021-03-22\", \"2021-03-23\", \"2021-03-24\", \"2021-03-25\", \"2021-03-26\", \"2021-03-27\", \"2021-03-28\", \"2021-03-29\", \"2021-03-30\", \"2021-03-31\"], \"y\": [33705.97519064721, 34713.696400108354, 36573.09481030624, 37541.548132422206, 37630.04921400489, 39814.35655457264, 38711.77455524941, 41196.61444486643, 46684.490849562455, 45798.7337153625, 46272.21566854445, 47603.415420118086, 47273.84991914459, 48600.49151849026, 47862.39794598202, 48845.16600342642, 50913.92413875071, 51893.311181218756, 53083.8791087993, 56271.288537679146, 57040.82594383049, 54708.31202510767, 48968.837945908424, 49800.28486888125, 49985.23481495351, 46655.920048518725, 47130.208060158875, 44818.44755210362, 47641.53689948156, 48617.28932090135, 50429.44901579067, 49398.2503985708, 47717.64330027977, 48371.54353797001, 50218.21680438112, 50798.35421240729, 53980.847261679024, 55375.36624125794, 56272.59697201393, 56826.56003304944, 58802.601567706326, 60455.84483148646, 57507.73450910979, 55339.80479183194, 56158.0173198603, 58472.11732155987, 58283.54799432516, 58779.76938655648, 57312.59853645818, 56787.14842211064, 54703.38774047086, 55123.99385491758, 52121.68411029948, 53241.03748850518, 55193.35725955907, 55832.958823907036, 56913.99381926178, 58346.912268295404, 58764.349363]}, {\"line\": {\"color\": \"rgb(244, 146, 65)\", \"width\": 2}, \"name\": \"Predicted Price\", \"type\": \"scatter\", \"x\": [\"2021-01-30\", \"2021-01-31\", \"2021-02-01\", \"2021-02-02\", \"2021-02-03\", \"2021-02-04\", \"2021-02-05\", \"2021-02-06\", \"2021-02-07\", \"2021-02-08\", \"2021-02-09\", \"2021-02-10\", \"2021-02-11\", \"2021-02-12\", \"2021-02-13\", \"2021-02-14\", \"2021-02-15\", \"2021-02-16\", \"2021-02-17\", \"2021-02-18\", \"2021-02-19\", \"2021-02-20\", \"2021-02-21\", \"2021-02-22\", \"2021-02-23\", \"2021-02-24\", \"2021-02-25\", \"2021-02-26\", \"2021-02-27\", \"2021-02-28\", \"2021-03-01\", \"2021-03-02\", \"2021-03-03\", \"2021-03-04\", \"2021-03-05\", \"2021-03-06\", \"2021-03-07\", \"2021-03-08\", \"2021-03-09\", \"2021-03-10\", \"2021-03-11\", \"2021-03-12\", \"2021-03-13\", \"2021-03-14\", \"2021-03-15\", \"2021-03-16\", \"2021-03-17\", \"2021-03-18\", \"2021-03-19\", \"2021-03-20\", \"2021-03-21\", \"2021-03-22\", \"2021-03-23\", \"2021-03-24\", \"2021-03-25\", \"2021-03-26\", \"2021-03-27\", \"2021-03-28\", \"2021-03-29\", \"2021-03-30\", \"2021-03-31\"], \"y\": [34241.6171875, 35279.390625, 37202.74609375, 38208.76171875, 38300.8359375, 40580.6875, 39428.1328125, 42030.47265625, 47836.16796875, 46894.0390625, 47397.4296875, 48815.5, 48464.046875, 49880.265625, 49091.84765625, 50141.88671875, 52358.95703125, 53411.578125, 54693.64453125, 58138.35546875, 58972.51171875, 56447.0546875, 50274.16796875, 51164.375, 51362.5859375, 47805.75390625, 48310.9375, 45853.5703125, 48856.1640625, 49898.22265625, 51838.95703125, 50733.74609375, 48937.375, 49635.578125, 51612.390625, 52234.87109375, 55661.2578125, 57168.390625, 58139.7734375, 58740.15625, 60885.50390625, 62684.52734375, 59479.05078125, 57129.921875, 58015.65625, 60526.3203125, 60321.44140625, 60860.68359375, 59267.3125, 58697.4296875, 56441.734375, 56896.47265625, 53657.296875, 54863.0703125, 56971.49609375, 57663.640625, 58834.9609375, 60390.28125, 60843.92578125]}],                        {\"template\": {\"data\": {\"bar\": [{\"error_x\": {\"color\": \"#2a3f5f\"}, \"error_y\": {\"color\": \"#2a3f5f\"}, \"marker\": {\"line\": {\"color\": \"#E5ECF6\", \"width\": 0.5}}, \"type\": \"bar\"}], \"barpolar\": [{\"marker\": {\"line\": {\"color\": \"#E5ECF6\", \"width\": 0.5}}, \"type\": \"barpolar\"}], \"carpet\": [{\"aaxis\": {\"endlinecolor\": \"#2a3f5f\", \"gridcolor\": \"white\", \"linecolor\": \"white\", \"minorgridcolor\": \"white\", \"startlinecolor\": \"#2a3f5f\"}, \"baxis\": {\"endlinecolor\": \"#2a3f5f\", \"gridcolor\": \"white\", \"linecolor\": \"white\", \"minorgridcolor\": \"white\", \"startlinecolor\": \"#2a3f5f\"}, \"type\": \"carpet\"}], \"choropleth\": [{\"colorbar\": {\"outlinewidth\": 0, \"ticks\": \"\"}, \"type\": \"choropleth\"}], \"contour\": [{\"colorbar\": {\"outlinewidth\": 0, \"ticks\": \"\"}, \"colorscale\": [[0.0, \"#0d0887\"], [0.1111111111111111, \"#46039f\"], [0.2222222222222222, \"#7201a8\"], [0.3333333333333333, \"#9c179e\"], [0.4444444444444444, \"#bd3786\"], [0.5555555555555556, \"#d8576b\"], [0.6666666666666666, \"#ed7953\"], [0.7777777777777778, \"#fb9f3a\"], [0.8888888888888888, \"#fdca26\"], [1.0, \"#f0f921\"]], \"type\": \"contour\"}], \"contourcarpet\": [{\"colorbar\": {\"outlinewidth\": 0, \"ticks\": \"\"}, \"type\": \"contourcarpet\"}], \"heatmap\": [{\"colorbar\": {\"outlinewidth\": 0, \"ticks\": \"\"}, \"colorscale\": [[0.0, \"#0d0887\"], [0.1111111111111111, \"#46039f\"], [0.2222222222222222, \"#7201a8\"], [0.3333333333333333, \"#9c179e\"], [0.4444444444444444, \"#bd3786\"], [0.5555555555555556, \"#d8576b\"], [0.6666666666666666, \"#ed7953\"], [0.7777777777777778, \"#fb9f3a\"], [0.8888888888888888, \"#fdca26\"], [1.0, \"#f0f921\"]], \"type\": \"heatmap\"}], \"heatmapgl\": [{\"colorbar\": {\"outlinewidth\": 0, \"ticks\": \"\"}, \"colorscale\": [[0.0, \"#0d0887\"], [0.1111111111111111, \"#46039f\"], [0.2222222222222222, \"#7201a8\"], [0.3333333333333333, \"#9c179e\"], [0.4444444444444444, \"#bd3786\"], [0.5555555555555556, \"#d8576b\"], [0.6666666666666666, \"#ed7953\"], [0.7777777777777778, \"#fb9f3a\"], [0.8888888888888888, \"#fdca26\"], [1.0, \"#f0f921\"]], \"type\": \"heatmapgl\"}], \"histogram\": [{\"marker\": {\"colorbar\": {\"outlinewidth\": 0, \"ticks\": \"\"}}, \"type\": \"histogram\"}], \"histogram2d\": [{\"colorbar\": {\"outlinewidth\": 0, \"ticks\": \"\"}, \"colorscale\": [[0.0, \"#0d0887\"], [0.1111111111111111, \"#46039f\"], [0.2222222222222222, \"#7201a8\"], [0.3333333333333333, \"#9c179e\"], [0.4444444444444444, \"#bd3786\"], [0.5555555555555556, \"#d8576b\"], [0.6666666666666666, \"#ed7953\"], [0.7777777777777778, \"#fb9f3a\"], [0.8888888888888888, \"#fdca26\"], [1.0, \"#f0f921\"]], \"type\": \"histogram2d\"}], \"histogram2dcontour\": [{\"colorbar\": {\"outlinewidth\": 0, \"ticks\": \"\"}, \"colorscale\": [[0.0, \"#0d0887\"], [0.1111111111111111, \"#46039f\"], [0.2222222222222222, \"#7201a8\"], [0.3333333333333333, \"#9c179e\"], [0.4444444444444444, \"#bd3786\"], [0.5555555555555556, \"#d8576b\"], [0.6666666666666666, \"#ed7953\"], [0.7777777777777778, \"#fb9f3a\"], [0.8888888888888888, \"#fdca26\"], [1.0, \"#f0f921\"]], \"type\": \"histogram2dcontour\"}], \"mesh3d\": [{\"colorbar\": {\"outlinewidth\": 0, \"ticks\": \"\"}, \"type\": \"mesh3d\"}], \"parcoords\": [{\"line\": {\"colorbar\": {\"outlinewidth\": 0, \"ticks\": \"\"}}, \"type\": \"parcoords\"}], \"pie\": [{\"automargin\": true, \"type\": \"pie\"}], \"scatter\": [{\"marker\": {\"colorbar\": {\"outlinewidth\": 0, \"ticks\": \"\"}}, \"type\": \"scatter\"}], \"scatter3d\": [{\"line\": {\"colorbar\": {\"outlinewidth\": 0, \"ticks\": \"\"}}, \"marker\": {\"colorbar\": {\"outlinewidth\": 0, \"ticks\": \"\"}}, \"type\": \"scatter3d\"}], \"scattercarpet\": [{\"marker\": {\"colorbar\": {\"outlinewidth\": 0, \"ticks\": \"\"}}, \"type\": \"scattercarpet\"}], \"scattergeo\": [{\"marker\": {\"colorbar\": {\"outlinewidth\": 0, \"ticks\": \"\"}}, \"type\": \"scattergeo\"}], \"scattergl\": [{\"marker\": {\"colorbar\": {\"outlinewidth\": 0, \"ticks\": \"\"}}, \"type\": \"scattergl\"}], \"scattermapbox\": [{\"marker\": {\"colorbar\": {\"outlinewidth\": 0, \"ticks\": \"\"}}, \"type\": \"scattermapbox\"}], \"scatterpolar\": [{\"marker\": {\"colorbar\": {\"outlinewidth\": 0, \"ticks\": \"\"}}, \"type\": \"scatterpolar\"}], \"scatterpolargl\": [{\"marker\": {\"colorbar\": {\"outlinewidth\": 0, \"ticks\": \"\"}}, \"type\": \"scatterpolargl\"}], \"scatterternary\": [{\"marker\": {\"colorbar\": {\"outlinewidth\": 0, \"ticks\": \"\"}}, \"type\": \"scatterternary\"}], \"surface\": [{\"colorbar\": {\"outlinewidth\": 0, \"ticks\": \"\"}, \"colorscale\": [[0.0, \"#0d0887\"], [0.1111111111111111, \"#46039f\"], [0.2222222222222222, \"#7201a8\"], [0.3333333333333333, \"#9c179e\"], [0.4444444444444444, \"#bd3786\"], [0.5555555555555556, \"#d8576b\"], [0.6666666666666666, \"#ed7953\"], [0.7777777777777778, \"#fb9f3a\"], [0.8888888888888888, \"#fdca26\"], [1.0, \"#f0f921\"]], \"type\": \"surface\"}], \"table\": [{\"cells\": {\"fill\": {\"color\": \"#EBF0F8\"}, \"line\": {\"color\": \"white\"}}, \"header\": {\"fill\": {\"color\": \"#C8D4E3\"}, \"line\": {\"color\": \"white\"}}, \"type\": \"table\"}]}, \"layout\": {\"annotationdefaults\": {\"arrowcolor\": \"#2a3f5f\", \"arrowhead\": 0, \"arrowwidth\": 1}, \"autotypenumbers\": \"strict\", \"coloraxis\": {\"colorbar\": {\"outlinewidth\": 0, \"ticks\": \"\"}}, \"colorscale\": {\"diverging\": [[0, \"#8e0152\"], [0.1, \"#c51b7d\"], [0.2, \"#de77ae\"], [0.3, \"#f1b6da\"], [0.4, \"#fde0ef\"], [0.5, \"#f7f7f7\"], [0.6, \"#e6f5d0\"], [0.7, \"#b8e186\"], [0.8, \"#7fbc41\"], [0.9, \"#4d9221\"], [1, \"#276419\"]], \"sequential\": [[0.0, \"#0d0887\"], [0.1111111111111111, \"#46039f\"], [0.2222222222222222, \"#7201a8\"], [0.3333333333333333, \"#9c179e\"], [0.4444444444444444, \"#bd3786\"], [0.5555555555555556, \"#d8576b\"], [0.6666666666666666, \"#ed7953\"], [0.7777777777777778, \"#fb9f3a\"], [0.8888888888888888, \"#fdca26\"], [1.0, \"#f0f921\"]], \"sequentialminus\": [[0.0, \"#0d0887\"], [0.1111111111111111, \"#46039f\"], [0.2222222222222222, \"#7201a8\"], [0.3333333333333333, \"#9c179e\"], [0.4444444444444444, \"#bd3786\"], [0.5555555555555556, \"#d8576b\"], [0.6666666666666666, \"#ed7953\"], [0.7777777777777778, \"#fb9f3a\"], [0.8888888888888888, \"#fdca26\"], [1.0, \"#f0f921\"]]}, \"colorway\": [\"#636efa\", \"#EF553B\", \"#00cc96\", \"#ab63fa\", \"#FFA15A\", \"#19d3f3\", \"#FF6692\", \"#B6E880\", \"#FF97FF\", \"#FECB52\"], \"font\": {\"color\": \"#2a3f5f\"}, \"geo\": {\"bgcolor\": \"white\", \"lakecolor\": \"white\", \"landcolor\": \"#E5ECF6\", \"showlakes\": true, \"showland\": true, \"subunitcolor\": \"white\"}, \"hoverlabel\": {\"align\": \"left\"}, \"hovermode\": \"closest\", \"mapbox\": {\"style\": \"light\"}, \"paper_bgcolor\": \"white\", \"plot_bgcolor\": \"#E5ECF6\", \"polar\": {\"angularaxis\": {\"gridcolor\": \"white\", \"linecolor\": \"white\", \"ticks\": \"\"}, \"bgcolor\": \"#E5ECF6\", \"radialaxis\": {\"gridcolor\": \"white\", \"linecolor\": \"white\", \"ticks\": \"\"}}, \"scene\": {\"xaxis\": {\"backgroundcolor\": \"#E5ECF6\", \"gridcolor\": \"white\", \"gridwidth\": 2, \"linecolor\": \"white\", \"showbackground\": true, \"ticks\": \"\", \"zerolinecolor\": \"white\"}, \"yaxis\": {\"backgroundcolor\": \"#E5ECF6\", \"gridcolor\": \"white\", \"gridwidth\": 2, \"linecolor\": \"white\", \"showbackground\": true, \"ticks\": \"\", \"zerolinecolor\": \"white\"}, \"zaxis\": {\"backgroundcolor\": \"#E5ECF6\", \"gridcolor\": \"white\", \"gridwidth\": 2, \"linecolor\": \"white\", \"showbackground\": true, \"ticks\": \"\", \"zerolinecolor\": \"white\"}}, \"shapedefaults\": {\"line\": {\"color\": \"#2a3f5f\"}}, \"ternary\": {\"aaxis\": {\"gridcolor\": \"white\", \"linecolor\": \"white\", \"ticks\": \"\"}, \"baxis\": {\"gridcolor\": \"white\", \"linecolor\": \"white\", \"ticks\": \"\"}, \"bgcolor\": \"#E5ECF6\", \"caxis\": {\"gridcolor\": \"white\", \"linecolor\": \"white\", \"ticks\": \"\"}}, \"title\": {\"x\": 0.05}, \"xaxis\": {\"automargin\": true, \"gridcolor\": \"white\", \"linecolor\": \"white\", \"ticks\": \"\", \"title\": {\"standoff\": 15}, \"zerolinecolor\": \"white\", \"zerolinewidth\": 2}, \"yaxis\": {\"automargin\": true, \"gridcolor\": \"white\", \"linecolor\": \"white\", \"ticks\": \"\", \"title\": {\"standoff\": 15}, \"zerolinecolor\": \"white\", \"zerolinewidth\": 2}}}, \"title\": {\"text\": \"Comparison of true prices (on the test dataset) with prices our model predicted, by dates\"}, \"xaxis\": {\"title\": {\"text\": \"Date\"}}, \"yaxis\": {\"title\": {\"text\": \"Price, USD\"}}},                        {\"responsive\": true}                    ).then(function(){\n",
       "                            \n",
       "var gd = document.getElementById('30a783e2-d893-4841-bcb2-ad0a50ee11a0');\n",
       "var x = new MutationObserver(function (mutations, observer) {{\n",
       "        var display = window.getComputedStyle(gd).display;\n",
       "        if (!display || display === 'none') {{\n",
       "            console.log([gd, 'removed!']);\n",
       "            Plotly.purge(gd);\n",
       "            observer.disconnect();\n",
       "        }}\n",
       "}});\n",
       "\n",
       "// Listen for the removal of the full notebook cells\n",
       "var notebookContainer = gd.closest('#notebook-container');\n",
       "if (notebookContainer) {{\n",
       "    x.observe(notebookContainer, {childList: true});\n",
       "}}\n",
       "\n",
       "// Listen for the clearing of the current output cell\n",
       "var outputEl = gd.closest('.output');\n",
       "if (outputEl) {{\n",
       "    x.observe(outputEl, {childList: true});\n",
       "}}\n",
       "\n",
       "                        })                };                });            </script>        </div>"
      ]
     },
     "metadata": {},
     "output_type": "display_data"
    }
   ],
   "source": [
    "Test_Dates = Daily_Price[len(Daily_Price)-days_from_train:].index\n",
    "\n",
    "trace1 = go.Scatter(x=Test_Dates, y=Y_test2_inverse, name= 'Actual Price', \n",
    "                   line = dict(color = ('rgb(66, 244, 155)'),width = 2))\n",
    "trace2 = go.Scatter(x=Test_Dates, y=prediction2_inverse, name= 'Predicted Price',\n",
    "                   line = dict(color = ('rgb(244, 146, 65)'),width = 2))\n",
    "data = [trace1, trace2]\n",
    "layout = dict(title = 'Comparison of true prices (on the test dataset) with prices our model predicted, by dates',\n",
    "             xaxis = dict(title = 'Date'), yaxis = dict(title = 'Price, USD'))\n",
    "fig = dict(data=data, layout=layout)\n",
    "py.iplot(fig, filename='results_demonstrating1')"
   ]
  },
  {
   "cell_type": "markdown",
   "metadata": {
    "_cell_guid": "e22df660-fa16-445e-993a-60de28c5c94b",
    "_uuid": "60c5fab473551ab2ee1d71f31d4072c051f497e5"
   },
   "source": [
    "The results we obtained can be improved. For this, we will try the following thing. We get 10 different train and test datasets and train the model on each train test and then test it on the corresponding test dataset. After this, we calculate the RMSE for each pair of train/test dataset. Then we find an average RMSE on all these datasets and subtract this value from each prediction, obtained from our current model. This can improve the performance.\n",
    "\n",
    "We want to demonstrate this approach on the GRU model just to show different models."
   ]
  },
  {
   "cell_type": "markdown",
   "metadata": {
    "_cell_guid": "05e1704d-ec0d-4438-b54b-8379ed6fa23c",
    "_uuid": "cd8a8c76864c4211a5d3b15c9cff9329d030b820"
   },
   "source": [
    "First what we do is to define three functions, which will be acting as subsequent elements in the pipeline. Basically, these functions are very similar to what we do when prepare data and train our previous 2-layers LSTM model."
   ]
  },
  {
   "cell_type": "code",
   "execution_count": 32,
   "metadata": {
    "_cell_guid": "8aba20b1-d14f-41d4-b998-292ce86b749a",
    "_uuid": "3330fc805e6b1a48997e959209924e638a96a0cd"
   },
   "outputs": [],
   "source": [
    "# This function prepares random train/test split, \n",
    "# scales data with MinMaxScaler, create time series labels (Y)\n",
    "def get_split(working_data, n_train, n_test, look_back = 1):\n",
    "    # get a point from which we start to take train dataset and after it - test dataset\n",
    "    start_point = randint(0, (len(working_data)-n_test-n_train))\n",
    "    df_train = working_data[start_point:start_point+n_train]\n",
    "    df_test = working_data[start_point+n_train:start_point+n_train+n_test]\n",
    "\n",
    "    training_set = df_train.values\n",
    "    training_set = np.reshape(training_set, (len(training_set), 1))\n",
    "    test_set = df_test.values\n",
    "    test_set = np.reshape(test_set, (len(test_set), 1))\n",
    "    \n",
    "    # scale datasets\n",
    "    scaler_cv = MinMaxScaler()\n",
    "    training_set = scaler_cv.fit_transform(training_set)\n",
    "    test_set = scaler_cv.transform(test_set)\n",
    "\n",
    "    # create datasets which are suitable for time series forecasting\n",
    "    X_train, Y_train = create_lookback(training_set, look_back)\n",
    "    X_test, Y_test = create_lookback(test_set, look_back)\n",
    "\n",
    "    # reshape datasets so that they will be ok for the requirements of the models in Keras\n",
    "    X_train = np.reshape(X_train, (len(X_train), 1, X_train.shape[1]))\n",
    "    X_test = np.reshape(X_test, (len(X_test), 1, X_test.shape[1]))\n",
    "    \n",
    "    return X_train, Y_train, X_test, Y_test, scaler_cv, start_point\n",
    "\n",
    "# This function takes datasets from the previous function as input and train model using these datasets\n",
    "def train_model(X_train, Y_train, X_test, Y_test):\n",
    "    # initialize sequential model, add bidirectional LSTM layer and densely connected output neuron\n",
    "    model = Sequential()\n",
    "    model.add(GRU(256, input_shape=(X_train.shape[1], X_train.shape[2])))\n",
    "    model.add(Dense(1))\n",
    "    \n",
    "    # compile and fit the model\n",
    "    model.compile(loss='mean_squared_error', optimizer='adam')\n",
    "    model.fit(X_train, Y_train, epochs = 100, batch_size = 16, shuffle = False, \n",
    "                    validation_data=(X_test, Y_test), verbose=0,\n",
    "                    callbacks = [EarlyStopping(monitor='val_loss',min_delta=5e-5,patience=20,verbose=0)])\n",
    "    return model\n",
    "\n",
    "# This function uses trained model and test dataset to calculate RMSE\n",
    "def get_rmse(model, X_test, Y_test, scaler, start_point, working_data, n_train):\n",
    "    # add one additional data point to align shapes of the predictions and true labels\n",
    "    X_test = np.append(X_test, scaler.transform(working_data.iloc[start_point+n_train+len(X_test)][0]))\n",
    "    X_test = np.reshape(X_test, (len(X_test), 1, 1))\n",
    "    \n",
    "    # get predictions and then make some transformations to be able to calculate RMSE properly in USD\n",
    "    prediction = model.predict(X_test)\n",
    "    prediction_inverse = scaler.inverse_transform(prediction.reshape(-1, 1))\n",
    "    Y_test_inverse = scaler.inverse_transform(Y_test.reshape(-1, 1))\n",
    "    prediction2_inverse = np.array(prediction_inverse[:,0][1:])\n",
    "    Y_test2_inverse = np.array(Y_test_inverse[:,0])\n",
    "    \n",
    "    #calculate RMSE\n",
    "    RMSE = sqrt(mean_squared_error(Y_test2_inverse, prediction2_inverse))\n",
    "    return RMSE, prediction2_inverse"
   ]
  },
  {
   "cell_type": "markdown",
   "metadata": {
    "_cell_guid": "909e984b-61ef-4abf-b65a-891b7d4908c9",
    "_uuid": "06d5746a89836764a1c428b1a584c773f8a288f8"
   },
   "source": [
    "The function below uses all three previous functions to build workflow of calculations and return RMSE and predictions of the model."
   ]
  },
  {
   "cell_type": "code",
   "execution_count": 33,
   "metadata": {
    "_cell_guid": "9123e479-699d-43c3-9d34-48f3ffc0aa78",
    "_uuid": "276d3d0d97c09ec0eaa8a9ffaf6a42a5a0dfab98"
   },
   "outputs": [],
   "source": [
    "def workflow(working_data, get_split, train_model, get_rmse,n_train = 250,n_test = 50,look_back = 1):\n",
    "    X_train, Y_train, X_test, Y_test, scaler, start_point = get_split(working_data, n_train, n_test)\n",
    "    model = train_model(X_train, Y_train, X_test, Y_test)\n",
    "    RMSE, predictions = get_rmse(model, X_test, Y_test, scaler, start_point, working_data, n_train)\n",
    "    return RMSE, predictions"
   ]
  },
  {
   "cell_type": "markdown",
   "metadata": {
    "_cell_guid": "2cf7eb86-7302-4a3a-8a87-3ad6e37dd59c",
    "_uuid": "0e8a965c18bdc163dd4b64aad36da62cb53a59da"
   },
   "source": [
    "Now we can run *workflow* function to calculate RMSE for single GRU model:"
   ]
  },
  {
   "cell_type": "code",
   "execution_count": 34,
   "metadata": {
    "_cell_guid": "e6a94edb-f7ef-4169-8b60-c954ca72fa00",
    "_uuid": "0c521931ebaecc55ec06dc9c2e7c1625e4be0409"
   },
   "outputs": [
    {
     "ename": "ValueError",
     "evalue": "Expected 2D array, got scalar array instead:\narray=58764.349363.\nReshape your data either using array.reshape(-1, 1) if your data has a single feature or array.reshape(1, -1) if it contains a single sample.",
     "output_type": "error",
     "traceback": [
      "\u001b[0;31m---------------------------------------------------------------------------\u001b[0m",
      "\u001b[0;31mValueError\u001b[0m                                Traceback (most recent call last)",
      "\u001b[0;32m<ipython-input-34-2ddf1fc6f92b>\u001b[0m in \u001b[0;36m<module>\u001b[0;34m\u001b[0m\n\u001b[0;32m----> 1\u001b[0;31m \u001b[0mRMSE\u001b[0m\u001b[0;34m,\u001b[0m \u001b[0mpredictions\u001b[0m \u001b[0;34m=\u001b[0m \u001b[0mworkflow\u001b[0m\u001b[0;34m(\u001b[0m\u001b[0mworking_data\u001b[0m\u001b[0;34m,\u001b[0m \u001b[0mget_split\u001b[0m\u001b[0;34m,\u001b[0m \u001b[0mtrain_model\u001b[0m\u001b[0;34m,\u001b[0m \u001b[0mget_rmse\u001b[0m\u001b[0;34m,\u001b[0m \u001b[0mn_train\u001b[0m \u001b[0;34m=\u001b[0m \u001b[0;36m600\u001b[0m\u001b[0;34m,\u001b[0m\u001b[0mn_test\u001b[0m \u001b[0;34m=\u001b[0m \u001b[0;36m60\u001b[0m\u001b[0;34m)\u001b[0m\u001b[0;34m\u001b[0m\u001b[0;34m\u001b[0m\u001b[0m\n\u001b[0m\u001b[1;32m      2\u001b[0m \u001b[0mprint\u001b[0m\u001b[0;34m(\u001b[0m\u001b[0;34m'Test GRU model RMSE: %.3f'\u001b[0m \u001b[0;34m%\u001b[0m \u001b[0mRMSE\u001b[0m\u001b[0;34m)\u001b[0m\u001b[0;34m\u001b[0m\u001b[0;34m\u001b[0m\u001b[0m\n",
      "\u001b[0;32m<ipython-input-33-4da83c0304e8>\u001b[0m in \u001b[0;36mworkflow\u001b[0;34m(working_data, get_split, train_model, get_rmse, n_train, n_test, look_back)\u001b[0m\n\u001b[1;32m      2\u001b[0m     \u001b[0mX_train\u001b[0m\u001b[0;34m,\u001b[0m \u001b[0mY_train\u001b[0m\u001b[0;34m,\u001b[0m \u001b[0mX_test\u001b[0m\u001b[0;34m,\u001b[0m \u001b[0mY_test\u001b[0m\u001b[0;34m,\u001b[0m \u001b[0mscaler\u001b[0m\u001b[0;34m,\u001b[0m \u001b[0mstart_point\u001b[0m \u001b[0;34m=\u001b[0m \u001b[0mget_split\u001b[0m\u001b[0;34m(\u001b[0m\u001b[0mworking_data\u001b[0m\u001b[0;34m,\u001b[0m \u001b[0mn_train\u001b[0m\u001b[0;34m,\u001b[0m \u001b[0mn_test\u001b[0m\u001b[0;34m)\u001b[0m\u001b[0;34m\u001b[0m\u001b[0;34m\u001b[0m\u001b[0m\n\u001b[1;32m      3\u001b[0m     \u001b[0mmodel\u001b[0m \u001b[0;34m=\u001b[0m \u001b[0mtrain_model\u001b[0m\u001b[0;34m(\u001b[0m\u001b[0mX_train\u001b[0m\u001b[0;34m,\u001b[0m \u001b[0mY_train\u001b[0m\u001b[0;34m,\u001b[0m \u001b[0mX_test\u001b[0m\u001b[0;34m,\u001b[0m \u001b[0mY_test\u001b[0m\u001b[0;34m)\u001b[0m\u001b[0;34m\u001b[0m\u001b[0;34m\u001b[0m\u001b[0m\n\u001b[0;32m----> 4\u001b[0;31m     \u001b[0mRMSE\u001b[0m\u001b[0;34m,\u001b[0m \u001b[0mpredictions\u001b[0m \u001b[0;34m=\u001b[0m \u001b[0mget_rmse\u001b[0m\u001b[0;34m(\u001b[0m\u001b[0mmodel\u001b[0m\u001b[0;34m,\u001b[0m \u001b[0mX_test\u001b[0m\u001b[0;34m,\u001b[0m \u001b[0mY_test\u001b[0m\u001b[0;34m,\u001b[0m \u001b[0mscaler\u001b[0m\u001b[0;34m,\u001b[0m \u001b[0mstart_point\u001b[0m\u001b[0;34m,\u001b[0m \u001b[0mworking_data\u001b[0m\u001b[0;34m,\u001b[0m \u001b[0mn_train\u001b[0m\u001b[0;34m)\u001b[0m\u001b[0;34m\u001b[0m\u001b[0;34m\u001b[0m\u001b[0m\n\u001b[0m\u001b[1;32m      5\u001b[0m     \u001b[0;32mreturn\u001b[0m \u001b[0mRMSE\u001b[0m\u001b[0;34m,\u001b[0m \u001b[0mpredictions\u001b[0m\u001b[0;34m\u001b[0m\u001b[0;34m\u001b[0m\u001b[0m\n",
      "\u001b[0;32m<ipython-input-32-f30521e3954a>\u001b[0m in \u001b[0;36mget_rmse\u001b[0;34m(model, X_test, Y_test, scaler, start_point, working_data, n_train)\u001b[0m\n\u001b[1;32m     44\u001b[0m \u001b[0;32mdef\u001b[0m \u001b[0mget_rmse\u001b[0m\u001b[0;34m(\u001b[0m\u001b[0mmodel\u001b[0m\u001b[0;34m,\u001b[0m \u001b[0mX_test\u001b[0m\u001b[0;34m,\u001b[0m \u001b[0mY_test\u001b[0m\u001b[0;34m,\u001b[0m \u001b[0mscaler\u001b[0m\u001b[0;34m,\u001b[0m \u001b[0mstart_point\u001b[0m\u001b[0;34m,\u001b[0m \u001b[0mworking_data\u001b[0m\u001b[0;34m,\u001b[0m \u001b[0mn_train\u001b[0m\u001b[0;34m)\u001b[0m\u001b[0;34m:\u001b[0m\u001b[0;34m\u001b[0m\u001b[0;34m\u001b[0m\u001b[0m\n\u001b[1;32m     45\u001b[0m     \u001b[0;31m# add one additional data point to align shapes of the predictions and true labels\u001b[0m\u001b[0;34m\u001b[0m\u001b[0;34m\u001b[0m\u001b[0;34m\u001b[0m\u001b[0m\n\u001b[0;32m---> 46\u001b[0;31m     \u001b[0mX_test\u001b[0m \u001b[0;34m=\u001b[0m \u001b[0mnp\u001b[0m\u001b[0;34m.\u001b[0m\u001b[0mappend\u001b[0m\u001b[0;34m(\u001b[0m\u001b[0mX_test\u001b[0m\u001b[0;34m,\u001b[0m \u001b[0mscaler\u001b[0m\u001b[0;34m.\u001b[0m\u001b[0mtransform\u001b[0m\u001b[0;34m(\u001b[0m\u001b[0mworking_data\u001b[0m\u001b[0;34m.\u001b[0m\u001b[0miloc\u001b[0m\u001b[0;34m[\u001b[0m\u001b[0mstart_point\u001b[0m\u001b[0;34m+\u001b[0m\u001b[0mn_train\u001b[0m\u001b[0;34m+\u001b[0m\u001b[0mlen\u001b[0m\u001b[0;34m(\u001b[0m\u001b[0mX_test\u001b[0m\u001b[0;34m)\u001b[0m\u001b[0;34m]\u001b[0m\u001b[0;34m[\u001b[0m\u001b[0;36m0\u001b[0m\u001b[0;34m]\u001b[0m\u001b[0;34m)\u001b[0m\u001b[0;34m)\u001b[0m\u001b[0;34m\u001b[0m\u001b[0;34m\u001b[0m\u001b[0m\n\u001b[0m\u001b[1;32m     47\u001b[0m     \u001b[0mX_test\u001b[0m \u001b[0;34m=\u001b[0m \u001b[0mnp\u001b[0m\u001b[0;34m.\u001b[0m\u001b[0mreshape\u001b[0m\u001b[0;34m(\u001b[0m\u001b[0mX_test\u001b[0m\u001b[0;34m,\u001b[0m \u001b[0;34m(\u001b[0m\u001b[0mlen\u001b[0m\u001b[0;34m(\u001b[0m\u001b[0mX_test\u001b[0m\u001b[0;34m)\u001b[0m\u001b[0;34m,\u001b[0m \u001b[0;36m1\u001b[0m\u001b[0;34m,\u001b[0m \u001b[0;36m1\u001b[0m\u001b[0;34m)\u001b[0m\u001b[0;34m)\u001b[0m\u001b[0;34m\u001b[0m\u001b[0;34m\u001b[0m\u001b[0m\n\u001b[1;32m     48\u001b[0m \u001b[0;34m\u001b[0m\u001b[0m\n",
      "\u001b[0;32m/usr/local/lib/python3.9/site-packages/sklearn/preprocessing/_data.py\u001b[0m in \u001b[0;36mtransform\u001b[0;34m(self, X)\u001b[0m\n\u001b[1;32m    405\u001b[0m         \u001b[0mcheck_is_fitted\u001b[0m\u001b[0;34m(\u001b[0m\u001b[0mself\u001b[0m\u001b[0;34m)\u001b[0m\u001b[0;34m\u001b[0m\u001b[0;34m\u001b[0m\u001b[0m\n\u001b[1;32m    406\u001b[0m \u001b[0;34m\u001b[0m\u001b[0m\n\u001b[0;32m--> 407\u001b[0;31m         X = check_array(X, copy=self.copy, dtype=FLOAT_DTYPES,\n\u001b[0m\u001b[1;32m    408\u001b[0m                         force_all_finite=\"allow-nan\")\n\u001b[1;32m    409\u001b[0m \u001b[0;34m\u001b[0m\u001b[0m\n",
      "\u001b[0;32m/usr/local/lib/python3.9/site-packages/sklearn/utils/validation.py\u001b[0m in \u001b[0;36minner_f\u001b[0;34m(*args, **kwargs)\u001b[0m\n\u001b[1;32m     70\u001b[0m                           FutureWarning)\n\u001b[1;32m     71\u001b[0m         \u001b[0mkwargs\u001b[0m\u001b[0;34m.\u001b[0m\u001b[0mupdate\u001b[0m\u001b[0;34m(\u001b[0m\u001b[0;34m{\u001b[0m\u001b[0mk\u001b[0m\u001b[0;34m:\u001b[0m \u001b[0marg\u001b[0m \u001b[0;32mfor\u001b[0m \u001b[0mk\u001b[0m\u001b[0;34m,\u001b[0m \u001b[0marg\u001b[0m \u001b[0;32min\u001b[0m \u001b[0mzip\u001b[0m\u001b[0;34m(\u001b[0m\u001b[0msig\u001b[0m\u001b[0;34m.\u001b[0m\u001b[0mparameters\u001b[0m\u001b[0;34m,\u001b[0m \u001b[0margs\u001b[0m\u001b[0;34m)\u001b[0m\u001b[0;34m}\u001b[0m\u001b[0;34m)\u001b[0m\u001b[0;34m\u001b[0m\u001b[0;34m\u001b[0m\u001b[0m\n\u001b[0;32m---> 72\u001b[0;31m         \u001b[0;32mreturn\u001b[0m \u001b[0mf\u001b[0m\u001b[0;34m(\u001b[0m\u001b[0;34m**\u001b[0m\u001b[0mkwargs\u001b[0m\u001b[0;34m)\u001b[0m\u001b[0;34m\u001b[0m\u001b[0;34m\u001b[0m\u001b[0m\n\u001b[0m\u001b[1;32m     73\u001b[0m     \u001b[0;32mreturn\u001b[0m \u001b[0minner_f\u001b[0m\u001b[0;34m\u001b[0m\u001b[0;34m\u001b[0m\u001b[0m\n\u001b[1;32m     74\u001b[0m \u001b[0;34m\u001b[0m\u001b[0m\n",
      "\u001b[0;32m/usr/local/lib/python3.9/site-packages/sklearn/utils/validation.py\u001b[0m in \u001b[0;36mcheck_array\u001b[0;34m(array, accept_sparse, accept_large_sparse, dtype, order, copy, force_all_finite, ensure_2d, allow_nd, ensure_min_samples, ensure_min_features, estimator)\u001b[0m\n\u001b[1;32m    610\u001b[0m             \u001b[0;31m# If input is scalar raise error\u001b[0m\u001b[0;34m\u001b[0m\u001b[0;34m\u001b[0m\u001b[0;34m\u001b[0m\u001b[0m\n\u001b[1;32m    611\u001b[0m             \u001b[0;32mif\u001b[0m \u001b[0marray\u001b[0m\u001b[0;34m.\u001b[0m\u001b[0mndim\u001b[0m \u001b[0;34m==\u001b[0m \u001b[0;36m0\u001b[0m\u001b[0;34m:\u001b[0m\u001b[0;34m\u001b[0m\u001b[0;34m\u001b[0m\u001b[0m\n\u001b[0;32m--> 612\u001b[0;31m                 raise ValueError(\n\u001b[0m\u001b[1;32m    613\u001b[0m                     \u001b[0;34m\"Expected 2D array, got scalar array instead:\\narray={}.\\n\"\u001b[0m\u001b[0;34m\u001b[0m\u001b[0;34m\u001b[0m\u001b[0m\n\u001b[1;32m    614\u001b[0m                     \u001b[0;34m\"Reshape your data either using array.reshape(-1, 1) if \"\u001b[0m\u001b[0;34m\u001b[0m\u001b[0;34m\u001b[0m\u001b[0m\n",
      "\u001b[0;31mValueError\u001b[0m: Expected 2D array, got scalar array instead:\narray=58764.349363.\nReshape your data either using array.reshape(-1, 1) if your data has a single feature or array.reshape(1, -1) if it contains a single sample."
     ]
    }
   ],
   "source": [
    "RMSE, predictions = workflow(working_data, get_split, train_model, get_rmse, n_train = 600,n_test = 60)\n",
    "print('Test GRU model RMSE: %.3f' % RMSE)"
   ]
  },
  {
   "cell_type": "code",
   "execution_count": 24,
   "metadata": {
    "_cell_guid": "ddbe71aa-9790-429c-9d14-2eee1b5a1624",
    "_uuid": "153d5a87bd65ceddf75e5e38ff0b231cc3f5ced5",
    "collapsed": true
   },
   "outputs": [],
   "source": [
    "# This function is used to repeat the workflow ten times and to calculate average RMSE\n",
    "def cross_validate(working_data,get_split,train_model,get_rmse,workflow,n_train = 250,n_test = 50,look_back = 1):\n",
    "    rmse_list = []\n",
    "    for i in range(10):\n",
    "        print('Iteration:', i+1)\n",
    "        RMSE, _ = workflow(working_data, get_split, train_model, get_rmse, n_train, n_test, look_back)\n",
    "        rmse_list.append(RMSE)\n",
    "        print('Test RMSE: %.3f' % RMSE)\n",
    "    mean_rmse = np.mean(rmse_list)\n",
    "    return mean_rmse, rmse_list"
   ]
  },
  {
   "cell_type": "markdown",
   "metadata": {
    "_cell_guid": "33b646ec-3fa7-4328-ba16-d3d43f572f92",
    "_uuid": "f6b135efd48b2cb573863d99103b7b4159018ebe"
   },
   "source": [
    "Now we can run *cross_validate* function to trigger calculations:"
   ]
  },
  {
   "cell_type": "code",
   "execution_count": 25,
   "metadata": {
    "_cell_guid": "47f8e6ad-801a-4a9e-b488-303402729c63",
    "_uuid": "2a0a49145e10b4c5f59b447fd5558020d575451d"
   },
   "outputs": [
    {
     "name": "stdout",
     "output_type": "stream",
     "text": [
      "Iteration: 1\n",
      "Test RMSE: 9.233\n",
      "Iteration: 2\n",
      "Test RMSE: 16.251\n",
      "Iteration: 3\n",
      "Test RMSE: 12.337\n",
      "Iteration: 4\n",
      "Test RMSE: 38.239\n",
      "Iteration: 5\n",
      "Test RMSE: 49.088\n",
      "Iteration: 6\n",
      "Test RMSE: 3.908\n",
      "Iteration: 7\n",
      "Test RMSE: 7.206\n",
      "Iteration: 8\n",
      "Test RMSE: 38.290\n",
      "Iteration: 9\n",
      "Test RMSE: 4.388\n",
      "Iteration: 10\n",
      "Test RMSE: 9.347\n",
      "Average RMSE:  18.8287473079\n",
      "RMSE list: [9.233330864072622, 16.25122406236244, 12.3374370718704, 38.2387143974303, 49.08764082707623, 3.908100289970251, 7.206358361324355, 38.29018303096499, 4.387561412580847, 9.346922761677483]\n"
     ]
    }
   ],
   "source": [
    "mean_rmse, rmse_list = cross_validate(working_data, get_split, train_model, get_rmse, workflow)\n",
    "print('Average RMSE: ', mean_rmse)\n",
    "print('RMSE list:', rmse_list)"
   ]
  },
  {
   "cell_type": "markdown",
   "metadata": {
    "_cell_guid": "16de6bbf-a980-4c8f-b836-8ad70144f792",
    "_uuid": "fd54fb9db2f28de26b569b97ba3ec83e68f9168e"
   },
   "source": [
    "Next, we subtract the mean RMSE from each prediction our model produced. Then, we recalculate the RMSE for the model. "
   ]
  },
  {
   "cell_type": "code",
   "execution_count": 26,
   "metadata": {
    "_cell_guid": "a1d7bfe6-b0e7-47df-820c-3374d6319b30",
    "_uuid": "e34adc68468dafb199fdeda7d0b26006cd792d02"
   },
   "outputs": [
    {
     "name": "stdout",
     "output_type": "stream",
     "text": [
      "Test GRU model RMSE_new: 14.223\n"
     ]
    }
   ],
   "source": [
    "predictions_new = predictions - mean_rmse\n",
    "\n",
    "RMSE_new = sqrt(mean_squared_error(Y_test2_inverse, predictions_new))\n",
    "print('Test GRU model RMSE_new: %.3f' % RMSE_new)"
   ]
  },
  {
   "cell_type": "markdown",
   "metadata": {
    "_cell_guid": "9b5b364f-b210-4258-999c-767105fac7a1",
    "_uuid": "d8c9f0a79b027224defca42825dbb3e793a5710e"
   },
   "source": [
    "We can see, that the RMSE has been reduced significantly. This means that our experiment was successful. On the plot below you can see the difference between predictions and true test labels."
   ]
  },
  {
   "cell_type": "code",
   "execution_count": 27,
   "metadata": {
    "_cell_guid": "5420e827-cbda-49ed-90ca-ba6d24425c77",
    "_uuid": "4109814c13d0502097828a71729b1a48b87a4f50"
   },
   "outputs": [
    {
     "data": {
      "application/vnd.plotly.v1+json": {
       "data": [
        {
         "line": {
          "color": "rgb(66, 244, 155)",
          "width": 2
         },
         "name": "Actual Price",
         "type": "scatter",
         "x": [
          "2017-08-21",
          "2017-08-22",
          "2017-08-23",
          "2017-08-24",
          "2017-08-25",
          "2017-08-26",
          "2017-08-27",
          "2017-08-28",
          "2017-08-29",
          "2017-08-30",
          "2017-08-31",
          "2017-09-01",
          "2017-09-02",
          "2017-09-03",
          "2017-09-04",
          "2017-09-05",
          "2017-09-06",
          "2017-09-07",
          "2017-09-08",
          "2017-09-09",
          "2017-09-10",
          "2017-09-11",
          "2017-09-12",
          "2017-09-13",
          "2017-09-14",
          "2017-09-15",
          "2017-09-16",
          "2017-09-17",
          "2017-09-18",
          "2017-09-19",
          "2017-09-20",
          "2017-09-21",
          "2017-09-22",
          "2017-09-23",
          "2017-09-24",
          "2017-09-25",
          "2017-09-26",
          "2017-09-27",
          "2017-09-28",
          "2017-09-29",
          "2017-09-30",
          "2017-10-01",
          "2017-10-02",
          "2017-10-03",
          "2017-10-04",
          "2017-10-05",
          "2017-10-06",
          "2017-10-07",
          "2017-10-08",
          "2017-10-09",
          "2017-10-10",
          "2017-10-11",
          "2017-10-12",
          "2017-10-13",
          "2017-10-14",
          "2017-10-15",
          "2017-10-16",
          "2017-10-17",
          "2017-10-18",
          "2017-10-19",
          "2017-10-20"
         ],
         "y": [
          4141.259120528405,
          4180.148251909169,
          4356.34922150397,
          4311.019751105216,
          4340.352487317443,
          4304.539082195759,
          4464.091625991538,
          4575.980889869163,
          4669.193825751596,
          4801.471753478394,
          4683.8655332497965,
          4575.506167073613,
          4361.0020818459,
          4251.935739839445,
          4528.5685666502095,
          4583.835571384655,
          4482.128913253055,
          4292.001565615967,
          4180.437725233613,
          4210.155280537987,
          4252.910581293188,
          3933.7291541672203,
          3624.5148894679032,
          3408.937123179721,
          3695.731025085838,
          3633.8582219094465,
          3940.8849089995833,
          3962.8306766060455,
          3936.899052170975,
          3791.053798152226,
          3626.363697002993,
          3713.6650017792967,
          3694.904717018883,
          3819.9283965733316,
          3914.7240150075013,
          4035.8236167739565,
          4188.361828486319,
          4144.759227263547,
          4270.021744382851,
          4290.509618248958,
          4395.341097111385,
          4311.533988148463,
          4249.380869320204,
          4255.141170628475,
          4359.025711590006,
          4351.11523003459,
          4495.6827433090975,
          4643.258310112918,
          4811.403629442854,
          4786.879814914513,
          5114.2267429709045,
          5617.728553879243,
          5665.8332586892375,
          5609.705210250135,
          5673.302996764039,
          5625.281401986532,
          5401.841422447496,
          5653.877091577846,
          5699.046462699999
         ]
        },
        {
         "line": {
          "color": "rgb(244, 146, 65)",
          "width": 2
         },
         "name": "Predicted Price",
         "type": "scatter",
         "x": [
          "2017-08-21",
          "2017-08-22",
          "2017-08-23",
          "2017-08-24",
          "2017-08-25",
          "2017-08-26",
          "2017-08-27",
          "2017-08-28",
          "2017-08-29",
          "2017-08-30",
          "2017-08-31",
          "2017-09-01",
          "2017-09-02",
          "2017-09-03",
          "2017-09-04",
          "2017-09-05",
          "2017-09-06",
          "2017-09-07",
          "2017-09-08",
          "2017-09-09",
          "2017-09-10",
          "2017-09-11",
          "2017-09-12",
          "2017-09-13",
          "2017-09-14",
          "2017-09-15",
          "2017-09-16",
          "2017-09-17",
          "2017-09-18",
          "2017-09-19",
          "2017-09-20",
          "2017-09-21",
          "2017-09-22",
          "2017-09-23",
          "2017-09-24",
          "2017-09-25",
          "2017-09-26",
          "2017-09-27",
          "2017-09-28",
          "2017-09-29",
          "2017-09-30",
          "2017-10-01",
          "2017-10-02",
          "2017-10-03",
          "2017-10-04",
          "2017-10-05",
          "2017-10-06",
          "2017-10-07",
          "2017-10-08",
          "2017-10-09",
          "2017-10-10",
          "2017-10-11",
          "2017-10-12",
          "2017-10-13",
          "2017-10-14",
          "2017-10-15",
          "2017-10-16",
          "2017-10-17",
          "2017-10-18",
          "2017-10-19",
          "2017-10-20"
         ],
         "y": [
          4153.0810546875,
          4192.21142578125,
          4369.53125,
          4323.91015625,
          4353.43115234375,
          4317.3876953125,
          4477.97314453125,
          4590.59912109375,
          4684.43359375,
          4817.60107421875,
          4699.203125,
          4590.12158203125,
          4374.21435546875,
          4264.44970703125,
          4542.8740234375,
          4598.505859375,
          4496.12841796875,
          4304.77001953125,
          4192.50244140625,
          4222.40625,
          4265.4306640625,
          3944.298095703125,
          3633.356689453125,
          3416.695556640625,
          3704.953857421875,
          3642.749267578125,
          3951.49560546875,
          3973.570556640625,
          3947.486328125,
          3800.8037109375,
          3635.21533203125,
          3722.986083984375,
          3704.123291015625,
          3829.8408203125,
          3925.18115234375,
          4047.00048828125,
          4200.47607421875,
          4156.60205078125,
          4282.65087890625,
          4303.26904296875,
          4408.77490234375,
          4324.427734375,
          4261.87890625,
          4267.67578125,
          4372.224609375,
          4364.26318359375,
          4509.771484375,
          4658.3251953125,
          4827.599609375,
          4802.91015625,
          5132.47412109375,
          5639.33447265625,
          5687.75146484375,
          5631.25927734375,
          5695.2685546875,
          5646.9365234375,
          5422.0244140625,
          5675.71826171875,
          5721.17822265625
         ]
        }
       ],
       "layout": {
        "title": "Comparison of true prices (on the test dataset) with prices our model predicted, by dates",
        "xaxis": {
         "title": "Date"
        },
        "yaxis": {
         "title": "Price, USD"
        }
       }
      },
      "text/html": [
       "<div id=\"19c2058e-55fc-4bd1-ac91-67e29950073d\" style=\"height: 525px; width: 100%;\" class=\"plotly-graph-div\"></div><script type=\"text/javascript\">require([\"plotly\"], function(Plotly) { window.PLOTLYENV=window.PLOTLYENV || {};window.PLOTLYENV.BASE_URL=\"https://plot.ly\";Plotly.newPlot(\"19c2058e-55fc-4bd1-ac91-67e29950073d\", [{\"type\": \"scatter\", \"x\": [\"2017-08-21\", \"2017-08-22\", \"2017-08-23\", \"2017-08-24\", \"2017-08-25\", \"2017-08-26\", \"2017-08-27\", \"2017-08-28\", \"2017-08-29\", \"2017-08-30\", \"2017-08-31\", \"2017-09-01\", \"2017-09-02\", \"2017-09-03\", \"2017-09-04\", \"2017-09-05\", \"2017-09-06\", \"2017-09-07\", \"2017-09-08\", \"2017-09-09\", \"2017-09-10\", \"2017-09-11\", \"2017-09-12\", \"2017-09-13\", \"2017-09-14\", \"2017-09-15\", \"2017-09-16\", \"2017-09-17\", \"2017-09-18\", \"2017-09-19\", \"2017-09-20\", \"2017-09-21\", \"2017-09-22\", \"2017-09-23\", \"2017-09-24\", \"2017-09-25\", \"2017-09-26\", \"2017-09-27\", \"2017-09-28\", \"2017-09-29\", \"2017-09-30\", \"2017-10-01\", \"2017-10-02\", \"2017-10-03\", \"2017-10-04\", \"2017-10-05\", \"2017-10-06\", \"2017-10-07\", \"2017-10-08\", \"2017-10-09\", \"2017-10-10\", \"2017-10-11\", \"2017-10-12\", \"2017-10-13\", \"2017-10-14\", \"2017-10-15\", \"2017-10-16\", \"2017-10-17\", \"2017-10-18\", \"2017-10-19\", \"2017-10-20\"], \"y\": [4141.259120528405, 4180.148251909169, 4356.34922150397, 4311.019751105216, 4340.352487317443, 4304.539082195759, 4464.091625991538, 4575.980889869163, 4669.193825751596, 4801.471753478394, 4683.8655332497965, 4575.506167073613, 4361.0020818459, 4251.935739839445, 4528.5685666502095, 4583.835571384655, 4482.128913253055, 4292.001565615967, 4180.437725233613, 4210.155280537987, 4252.910581293188, 3933.7291541672203, 3624.5148894679032, 3408.937123179721, 3695.731025085838, 3633.8582219094465, 3940.8849089995833, 3962.8306766060455, 3936.899052170975, 3791.053798152226, 3626.363697002993, 3713.6650017792967, 3694.904717018883, 3819.9283965733316, 3914.7240150075013, 4035.8236167739565, 4188.361828486319, 4144.759227263547, 4270.021744382851, 4290.509618248958, 4395.341097111385, 4311.533988148463, 4249.380869320204, 4255.141170628475, 4359.025711590006, 4351.11523003459, 4495.6827433090975, 4643.258310112918, 4811.403629442854, 4786.879814914513, 5114.2267429709045, 5617.728553879243, 5665.8332586892375, 5609.705210250135, 5673.302996764039, 5625.281401986532, 5401.841422447496, 5653.877091577846, 5699.046462699999], \"name\": \"Actual Price\", \"line\": {\"color\": \"rgb(66, 244, 155)\", \"width\": 2}}, {\"type\": \"scatter\", \"x\": [\"2017-08-21\", \"2017-08-22\", \"2017-08-23\", \"2017-08-24\", \"2017-08-25\", \"2017-08-26\", \"2017-08-27\", \"2017-08-28\", \"2017-08-29\", \"2017-08-30\", \"2017-08-31\", \"2017-09-01\", \"2017-09-02\", \"2017-09-03\", \"2017-09-04\", \"2017-09-05\", \"2017-09-06\", \"2017-09-07\", \"2017-09-08\", \"2017-09-09\", \"2017-09-10\", \"2017-09-11\", \"2017-09-12\", \"2017-09-13\", \"2017-09-14\", \"2017-09-15\", \"2017-09-16\", \"2017-09-17\", \"2017-09-18\", \"2017-09-19\", \"2017-09-20\", \"2017-09-21\", \"2017-09-22\", \"2017-09-23\", \"2017-09-24\", \"2017-09-25\", \"2017-09-26\", \"2017-09-27\", \"2017-09-28\", \"2017-09-29\", \"2017-09-30\", \"2017-10-01\", \"2017-10-02\", \"2017-10-03\", \"2017-10-04\", \"2017-10-05\", \"2017-10-06\", \"2017-10-07\", \"2017-10-08\", \"2017-10-09\", \"2017-10-10\", \"2017-10-11\", \"2017-10-12\", \"2017-10-13\", \"2017-10-14\", \"2017-10-15\", \"2017-10-16\", \"2017-10-17\", \"2017-10-18\", \"2017-10-19\", \"2017-10-20\"], \"y\": [4153.0810546875, 4192.21142578125, 4369.53125, 4323.91015625, 4353.43115234375, 4317.3876953125, 4477.97314453125, 4590.59912109375, 4684.43359375, 4817.60107421875, 4699.203125, 4590.12158203125, 4374.21435546875, 4264.44970703125, 4542.8740234375, 4598.505859375, 4496.12841796875, 4304.77001953125, 4192.50244140625, 4222.40625, 4265.4306640625, 3944.298095703125, 3633.356689453125, 3416.695556640625, 3704.953857421875, 3642.749267578125, 3951.49560546875, 3973.570556640625, 3947.486328125, 3800.8037109375, 3635.21533203125, 3722.986083984375, 3704.123291015625, 3829.8408203125, 3925.18115234375, 4047.00048828125, 4200.47607421875, 4156.60205078125, 4282.65087890625, 4303.26904296875, 4408.77490234375, 4324.427734375, 4261.87890625, 4267.67578125, 4372.224609375, 4364.26318359375, 4509.771484375, 4658.3251953125, 4827.599609375, 4802.91015625, 5132.47412109375, 5639.33447265625, 5687.75146484375, 5631.25927734375, 5695.2685546875, 5646.9365234375, 5422.0244140625, 5675.71826171875, 5721.17822265625], \"name\": \"Predicted Price\", \"line\": {\"color\": \"rgb(244, 146, 65)\", \"width\": 2}}], {\"title\": \"Comparison of true prices (on the test dataset) with prices our model predicted, by dates\", \"xaxis\": {\"title\": \"Date\"}, \"yaxis\": {\"title\": \"Price, USD\"}}, {\"showLink\": true, \"linkText\": \"Export to plot.ly\"})});</script>"
      ],
      "text/vnd.plotly.v1+html": [
       "<div id=\"19c2058e-55fc-4bd1-ac91-67e29950073d\" style=\"height: 525px; width: 100%;\" class=\"plotly-graph-div\"></div><script type=\"text/javascript\">require([\"plotly\"], function(Plotly) { window.PLOTLYENV=window.PLOTLYENV || {};window.PLOTLYENV.BASE_URL=\"https://plot.ly\";Plotly.newPlot(\"19c2058e-55fc-4bd1-ac91-67e29950073d\", [{\"type\": \"scatter\", \"x\": [\"2017-08-21\", \"2017-08-22\", \"2017-08-23\", \"2017-08-24\", \"2017-08-25\", \"2017-08-26\", \"2017-08-27\", \"2017-08-28\", \"2017-08-29\", \"2017-08-30\", \"2017-08-31\", \"2017-09-01\", \"2017-09-02\", \"2017-09-03\", \"2017-09-04\", \"2017-09-05\", \"2017-09-06\", \"2017-09-07\", \"2017-09-08\", \"2017-09-09\", \"2017-09-10\", \"2017-09-11\", \"2017-09-12\", \"2017-09-13\", \"2017-09-14\", \"2017-09-15\", \"2017-09-16\", \"2017-09-17\", \"2017-09-18\", \"2017-09-19\", \"2017-09-20\", \"2017-09-21\", \"2017-09-22\", \"2017-09-23\", \"2017-09-24\", \"2017-09-25\", \"2017-09-26\", \"2017-09-27\", \"2017-09-28\", \"2017-09-29\", \"2017-09-30\", \"2017-10-01\", \"2017-10-02\", \"2017-10-03\", \"2017-10-04\", \"2017-10-05\", \"2017-10-06\", \"2017-10-07\", \"2017-10-08\", \"2017-10-09\", \"2017-10-10\", \"2017-10-11\", \"2017-10-12\", \"2017-10-13\", \"2017-10-14\", \"2017-10-15\", \"2017-10-16\", \"2017-10-17\", \"2017-10-18\", \"2017-10-19\", \"2017-10-20\"], \"y\": [4141.259120528405, 4180.148251909169, 4356.34922150397, 4311.019751105216, 4340.352487317443, 4304.539082195759, 4464.091625991538, 4575.980889869163, 4669.193825751596, 4801.471753478394, 4683.8655332497965, 4575.506167073613, 4361.0020818459, 4251.935739839445, 4528.5685666502095, 4583.835571384655, 4482.128913253055, 4292.001565615967, 4180.437725233613, 4210.155280537987, 4252.910581293188, 3933.7291541672203, 3624.5148894679032, 3408.937123179721, 3695.731025085838, 3633.8582219094465, 3940.8849089995833, 3962.8306766060455, 3936.899052170975, 3791.053798152226, 3626.363697002993, 3713.6650017792967, 3694.904717018883, 3819.9283965733316, 3914.7240150075013, 4035.8236167739565, 4188.361828486319, 4144.759227263547, 4270.021744382851, 4290.509618248958, 4395.341097111385, 4311.533988148463, 4249.380869320204, 4255.141170628475, 4359.025711590006, 4351.11523003459, 4495.6827433090975, 4643.258310112918, 4811.403629442854, 4786.879814914513, 5114.2267429709045, 5617.728553879243, 5665.8332586892375, 5609.705210250135, 5673.302996764039, 5625.281401986532, 5401.841422447496, 5653.877091577846, 5699.046462699999], \"name\": \"Actual Price\", \"line\": {\"color\": \"rgb(66, 244, 155)\", \"width\": 2}}, {\"type\": \"scatter\", \"x\": [\"2017-08-21\", \"2017-08-22\", \"2017-08-23\", \"2017-08-24\", \"2017-08-25\", \"2017-08-26\", \"2017-08-27\", \"2017-08-28\", \"2017-08-29\", \"2017-08-30\", \"2017-08-31\", \"2017-09-01\", \"2017-09-02\", \"2017-09-03\", \"2017-09-04\", \"2017-09-05\", \"2017-09-06\", \"2017-09-07\", \"2017-09-08\", \"2017-09-09\", \"2017-09-10\", \"2017-09-11\", \"2017-09-12\", \"2017-09-13\", \"2017-09-14\", \"2017-09-15\", \"2017-09-16\", \"2017-09-17\", \"2017-09-18\", \"2017-09-19\", \"2017-09-20\", \"2017-09-21\", \"2017-09-22\", \"2017-09-23\", \"2017-09-24\", \"2017-09-25\", \"2017-09-26\", \"2017-09-27\", \"2017-09-28\", \"2017-09-29\", \"2017-09-30\", \"2017-10-01\", \"2017-10-02\", \"2017-10-03\", \"2017-10-04\", \"2017-10-05\", \"2017-10-06\", \"2017-10-07\", \"2017-10-08\", \"2017-10-09\", \"2017-10-10\", \"2017-10-11\", \"2017-10-12\", \"2017-10-13\", \"2017-10-14\", \"2017-10-15\", \"2017-10-16\", \"2017-10-17\", \"2017-10-18\", \"2017-10-19\", \"2017-10-20\"], \"y\": [4153.0810546875, 4192.21142578125, 4369.53125, 4323.91015625, 4353.43115234375, 4317.3876953125, 4477.97314453125, 4590.59912109375, 4684.43359375, 4817.60107421875, 4699.203125, 4590.12158203125, 4374.21435546875, 4264.44970703125, 4542.8740234375, 4598.505859375, 4496.12841796875, 4304.77001953125, 4192.50244140625, 4222.40625, 4265.4306640625, 3944.298095703125, 3633.356689453125, 3416.695556640625, 3704.953857421875, 3642.749267578125, 3951.49560546875, 3973.570556640625, 3947.486328125, 3800.8037109375, 3635.21533203125, 3722.986083984375, 3704.123291015625, 3829.8408203125, 3925.18115234375, 4047.00048828125, 4200.47607421875, 4156.60205078125, 4282.65087890625, 4303.26904296875, 4408.77490234375, 4324.427734375, 4261.87890625, 4267.67578125, 4372.224609375, 4364.26318359375, 4509.771484375, 4658.3251953125, 4827.599609375, 4802.91015625, 5132.47412109375, 5639.33447265625, 5687.75146484375, 5631.25927734375, 5695.2685546875, 5646.9365234375, 5422.0244140625, 5675.71826171875, 5721.17822265625], \"name\": \"Predicted Price\", \"line\": {\"color\": \"rgb(244, 146, 65)\", \"width\": 2}}], {\"title\": \"Comparison of true prices (on the test dataset) with prices our model predicted, by dates\", \"xaxis\": {\"title\": \"Date\"}, \"yaxis\": {\"title\": \"Price, USD\"}}, {\"showLink\": true, \"linkText\": \"Export to plot.ly\"})});</script>"
      ]
     },
     "metadata": {},
     "output_type": "display_data"
    }
   ],
   "source": [
    "trace1 = go.Scatter(x=Test_Dates, y=Y_test2_inverse, name= 'Actual Price', \n",
    "                   line = dict(color = ('rgb(66, 244, 155)'),width = 2))\n",
    "trace2 = go.Scatter(x=Test_Dates, y=predictions_new, name= 'Predicted Price',\n",
    "                   line = dict(color = ('rgb(244, 146, 65)'),width = 2))\n",
    "data = [trace1, trace2]\n",
    "layout = dict(title = 'Comparison of true prices (on the test dataset) with prices our model predicted, by dates',\n",
    "             xaxis = dict(title = 'Date'), yaxis = dict(title = 'Price, USD'))\n",
    "fig = dict(data=data, layout=layout)\n",
    "py.iplot(fig, filename='results_demonstrating2')"
   ]
  },
  {
   "cell_type": "markdown",
   "metadata": {
    "_cell_guid": "2d019594-10af-4bb5-b259-3397a49a5640",
    "_uuid": "e1578f88ce7d3c629d5733ff883e44f1bdf9936e"
   },
   "source": [
    "Let's calculate symmetric mean absolute percentage error ([SMAPE](https://en.wikipedia.org/wiki/Symmetric_mean_absolute_percentage_error)). It will show how good our predictions are in percentage. We define function *symmetric_mean_absolute_percentage_error*, which will perform all necessary calculations."
   ]
  },
  {
   "cell_type": "code",
   "execution_count": 28,
   "metadata": {
    "_cell_guid": "47bfa79a-cb13-4e44-9959-f8841047f586",
    "_uuid": "8e7a59564e01570a0fed588c04ef446b5e5b440e"
   },
   "outputs": [
    {
     "name": "stdout",
     "output_type": "stream",
     "text": [
      "Test SMAPE (percentage): 0.304\n"
     ]
    }
   ],
   "source": [
    "def symmetric_mean_absolute_percentage_error(y_true, y_pred, epsilon = 1e-8): \n",
    "    return np.mean(np.abs(y_pred - y_true) / ((np.abs(y_true) + np.abs(y_pred))/2 + epsilon)) * 100\n",
    "\n",
    "SMAPE = symmetric_mean_absolute_percentage_error(Y_test2_inverse, predictions_new)\n",
    "\n",
    "print('Test SMAPE (percentage): %.3f' % SMAPE)"
   ]
  },
  {
   "cell_type": "markdown",
   "metadata": {
    "_cell_guid": "8f8bae5c-d62a-45f0-859c-90815619d276",
    "_uuid": "93ef101715979d4ea2f7d34f33eede05ef10296a"
   },
   "source": [
    "We can see that our SMAPE is less than 1%, which means that the error of our model is very small. "
   ]
  },
  {
   "cell_type": "markdown",
   "metadata": {
    "_cell_guid": "818fd64b-e427-4e82-bd27-dc02142ca14d",
    "_uuid": "707f32b5e7d08b920158d685c706d8264e5a58ff"
   },
   "source": [
    "In this notebook, we trained the 2-layers Long Short Term Memory Neural Network as well as Gated Recurrent Unit Neural Network using Bitcoin Historical Data. These models can be used to predict future price movements of bitcoin. The performance of the models is quite good. On average, both models considered here, makes an error measured only in tens of USD. \n",
    " \n",
    " \n",
    " *Tags: Bitcoin, neural networks, machine learning, forecast, prediction, LSTM, GRU, RNN*"
   ]
  },
  {
   "cell_type": "code",
   "execution_count": null,
   "metadata": {
    "_cell_guid": "f227e587-6a45-4369-9e6d-a90109580ad3",
    "_uuid": "4afd481597dcff595154db9166cf47f15f3d3d59",
    "collapsed": true
   },
   "outputs": [],
   "source": []
  },
  {
   "cell_type": "code",
   "execution_count": null,
   "metadata": {
    "_cell_guid": "d77d7161-cec4-4645-a0ba-6fc101c18851",
    "_uuid": "9f97640979fac1c56729c55d526509660b38bda8",
    "collapsed": true
   },
   "outputs": [],
   "source": []
  },
  {
   "cell_type": "code",
   "execution_count": null,
   "metadata": {
    "_cell_guid": "ed93f3c9-eb28-4eee-9f60-7597096029b1",
    "_uuid": "fb37ad7954afea2fc67237cb69f51df64cef638c",
    "collapsed": true
   },
   "outputs": [],
   "source": []
  },
  {
   "cell_type": "code",
   "execution_count": null,
   "metadata": {
    "_cell_guid": "64c10a73-2ef5-4759-b9d0-bc306bc26de8",
    "_uuid": "7fa07b19aca9b7b3a93adde5e93f17eb17477c24",
    "collapsed": true
   },
   "outputs": [],
   "source": []
  },
  {
   "cell_type": "code",
   "execution_count": null,
   "metadata": {
    "_cell_guid": "cafd7069-a7ee-45ac-ae23-1d24e5a751c5",
    "_uuid": "afafd3b205a55fd45273ef4fa7697bfe3eca1acd",
    "collapsed": true
   },
   "outputs": [],
   "source": []
  },
  {
   "cell_type": "code",
   "execution_count": null,
   "metadata": {
    "_cell_guid": "d05951ae-382b-43a2-be77-0675ed779624",
    "_uuid": "536711ad55bb3d8c97b00fbbb0d9bbd4ae3ec237",
    "collapsed": true
   },
   "outputs": [],
   "source": []
  },
  {
   "cell_type": "code",
   "execution_count": null,
   "metadata": {
    "_cell_guid": "8fb380e0-398b-4d0a-b41d-dcf7b3383ac9",
    "_uuid": "f476ef0b53c4b919ef8425108423dc02c6001b58",
    "collapsed": true
   },
   "outputs": [],
   "source": []
  }
 ],
 "metadata": {
  "kernelspec": {
   "display_name": "Python 3",
   "language": "python",
   "name": "python3"
  },
  "language_info": {
   "codemirror_mode": {
    "name": "ipython",
    "version": 3
   },
   "file_extension": ".py",
   "mimetype": "text/x-python",
   "name": "python",
   "nbconvert_exporter": "python",
   "pygments_lexer": "ipython3",
   "version": "3.9.0"
  },
  "metadata": {
   "interpreter": {
    "hash": "aee8b7b246df8f9039afb4144a1f6fd8d2ca17a180786b69acc140d282b71a49"
   }
  }
 },
 "nbformat": 4,
 "nbformat_minor": 1
}
